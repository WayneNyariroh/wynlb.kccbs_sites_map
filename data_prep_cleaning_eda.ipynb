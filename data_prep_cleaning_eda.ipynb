{
 "cells": [
  {
   "cell_type": "markdown",
   "id": "b36c7e42-6c36-49d0-81b4-46012bb61c2f",
   "metadata": {},
   "source": [
    "## Relevant data is key. Right data types. Necessary columns. No missing data. And any other structural preferences"
   ]
  },
  {
   "cell_type": "markdown",
   "id": "6922d285-6ff9-41cb-a688-47905a71d2fa",
   "metadata": {},
   "source": [
    "### before we do any analysis we have to load and prepare our dataset(s). In this case our desired dataset requires combining variables from more than 2 datasets"
   ]
  },
  {
   "cell_type": "code",
   "execution_count": 1,
   "id": "aebbe2af-4a6e-4b59-a99c-a5d0490c849d",
   "metadata": {},
   "outputs": [],
   "source": [
    "#importing data manipulation library\n",
    "import pandas as pd\n",
    "import numpy as np"
   ]
  },
  {
   "cell_type": "code",
   "execution_count": 2,
   "id": "237892a2-6d2f-4a6f-aa7f-6335a835f5e6",
   "metadata": {},
   "outputs": [
    {
     "data": {
      "text/html": [
       "<div>\n",
       "<style scoped>\n",
       "    .dataframe tbody tr th:only-of-type {\n",
       "        vertical-align: middle;\n",
       "    }\n",
       "\n",
       "    .dataframe tbody tr th {\n",
       "        vertical-align: top;\n",
       "    }\n",
       "\n",
       "    .dataframe thead th {\n",
       "        text-align: right;\n",
       "    }\n",
       "</style>\n",
       "<table border=\"1\" class=\"dataframe\">\n",
       "  <thead>\n",
       "    <tr style=\"text-align: right;\">\n",
       "      <th></th>\n",
       "      <th>mfl_code</th>\n",
       "      <th>FacilityName</th>\n",
       "      <th>County</th>\n",
       "      <th>SubCounty</th>\n",
       "      <th>Owner</th>\n",
       "      <th>lat</th>\n",
       "      <th>lon</th>\n",
       "      <th>SDP</th>\n",
       "      <th>CT</th>\n",
       "      <th>HTS</th>\n",
       "      <th>...</th>\n",
       "      <th>IL_lab_manifest</th>\n",
       "      <th>IL_3_PM</th>\n",
       "      <th>IL_AIR</th>\n",
       "      <th>IL_nimeconfirm</th>\n",
       "      <th>MHealth_Nishauri</th>\n",
       "      <th>MHealth_C4C</th>\n",
       "      <th>MHealth_Ushauri</th>\n",
       "      <th>MHealth_Mlab</th>\n",
       "      <th>MHealth_ART_Directory</th>\n",
       "      <th>MHealth_Psurvey</th>\n",
       "    </tr>\n",
       "  </thead>\n",
       "  <tbody>\n",
       "    <tr>\n",
       "      <th>229</th>\n",
       "      <td>11526</td>\n",
       "      <td>Lungalunga Subcounty Hospital</td>\n",
       "      <td>Kwale</td>\n",
       "      <td>Lunga Lunga</td>\n",
       "      <td>Ministry of Health</td>\n",
       "      <td>-4.55366</td>\n",
       "      <td>39.12060</td>\n",
       "      <td>USAID Stawisha Pwani</td>\n",
       "      <td>YES</td>\n",
       "      <td>NO</td>\n",
       "      <td>...</td>\n",
       "      <td>NaN</td>\n",
       "      <td>NaN</td>\n",
       "      <td>NO</td>\n",
       "      <td>NaN</td>\n",
       "      <td>NO</td>\n",
       "      <td>NaN</td>\n",
       "      <td>NO</td>\n",
       "      <td>NO</td>\n",
       "      <td>NaN</td>\n",
       "      <td>NaN</td>\n",
       "    </tr>\n",
       "    <tr>\n",
       "      <th>1855</th>\n",
       "      <td>18912</td>\n",
       "      <td>Mama Anns Odede Community Health Centre</td>\n",
       "      <td>Siaya</td>\n",
       "      <td>Rarieda</td>\n",
       "      <td>Other Public Institution</td>\n",
       "      <td>0.24740</td>\n",
       "      <td>34.35437</td>\n",
       "      <td>CHS Shinda Tena</td>\n",
       "      <td>YES</td>\n",
       "      <td>NO</td>\n",
       "      <td>...</td>\n",
       "      <td>NaN</td>\n",
       "      <td>NaN</td>\n",
       "      <td>NO</td>\n",
       "      <td>NaN</td>\n",
       "      <td>NaN</td>\n",
       "      <td>NaN</td>\n",
       "      <td>NO</td>\n",
       "      <td>NO</td>\n",
       "      <td>NaN</td>\n",
       "      <td>NaN</td>\n",
       "    </tr>\n",
       "  </tbody>\n",
       "</table>\n",
       "<p>2 rows × 45 columns</p>\n",
       "</div>"
      ],
      "text/plain": [
       "      mfl_code                             FacilityName County    SubCounty  \\\n",
       "229      11526            Lungalunga Subcounty Hospital  Kwale  Lunga Lunga   \n",
       "1855     18912  Mama Anns Odede Community Health Centre  Siaya      Rarieda   \n",
       "\n",
       "                         Owner      lat       lon                   SDP   CT  \\\n",
       "229         Ministry of Health -4.55366  39.12060  USAID Stawisha Pwani  YES   \n",
       "1855  Other Public Institution  0.24740  34.35437       CHS Shinda Tena  YES   \n",
       "\n",
       "     HTS  ... IL_lab_manifest IL_3_PM IL_AIR IL_nimeconfirm MHealth_Nishauri  \\\n",
       "229   NO  ...             NaN     NaN     NO            NaN               NO   \n",
       "1855  NO  ...             NaN     NaN     NO            NaN              NaN   \n",
       "\n",
       "     MHealth_C4C MHealth_Ushauri MHealth_Mlab MHealth_ART_Directory  \\\n",
       "229          NaN              NO           NO                   NaN   \n",
       "1855         NaN              NO           NO                   NaN   \n",
       "\n",
       "     MHealth_Psurvey  \n",
       "229              NaN  \n",
       "1855             NaN  \n",
       "\n",
       "[2 rows x 45 columns]"
      ]
     },
     "execution_count": 2,
     "metadata": {},
     "output_type": "execute_result"
    }
   ],
   "source": [
    "#loading our data\n",
    "data = 'raw_data/his_master_list_with_coordinates.xlsx'\n",
    "\n",
    "site_data = pd.read_excel(data)\n",
    "\n",
    "#sample 2 records for our new dataframe\n",
    "site_data.sample(2)"
   ]
  },
  {
   "cell_type": "code",
   "execution_count": 3,
   "id": "ccd4a022-2070-4336-94fe-792ca5a25e51",
   "metadata": {},
   "outputs": [
    {
     "data": {
      "text/html": [
       "<div>\n",
       "<style scoped>\n",
       "    .dataframe tbody tr th:only-of-type {\n",
       "        vertical-align: middle;\n",
       "    }\n",
       "\n",
       "    .dataframe tbody tr th {\n",
       "        vertical-align: top;\n",
       "    }\n",
       "\n",
       "    .dataframe thead th {\n",
       "        text-align: right;\n",
       "    }\n",
       "</style>\n",
       "<table border=\"1\" class=\"dataframe\">\n",
       "  <thead>\n",
       "    <tr style=\"text-align: right;\">\n",
       "      <th></th>\n",
       "      <th>mfl_code</th>\n",
       "      <th>FacilityName</th>\n",
       "      <th>County</th>\n",
       "      <th>SubCounty</th>\n",
       "      <th>Owner</th>\n",
       "      <th>lat</th>\n",
       "      <th>lon</th>\n",
       "      <th>SDP</th>\n",
       "      <th>CT</th>\n",
       "      <th>HTS</th>\n",
       "      <th>...</th>\n",
       "      <th>IL_lab_manifest</th>\n",
       "      <th>IL_3_PM</th>\n",
       "      <th>IL_AIR</th>\n",
       "      <th>IL_nimeconfirm</th>\n",
       "      <th>MHealth_Nishauri</th>\n",
       "      <th>MHealth_C4C</th>\n",
       "      <th>MHealth_Ushauri</th>\n",
       "      <th>MHealth_Mlab</th>\n",
       "      <th>MHealth_ART_Directory</th>\n",
       "      <th>MHealth_Psurvey</th>\n",
       "    </tr>\n",
       "  </thead>\n",
       "  <tbody>\n",
       "  </tbody>\n",
       "</table>\n",
       "<p>0 rows × 45 columns</p>\n",
       "</div>"
      ],
      "text/plain": [
       "Empty DataFrame\n",
       "Columns: [mfl_code, FacilityName, County, SubCounty, Owner, lat, lon, SDP, CT, HTS, IL, MHealth, KP, EMR, EMRStatus, DateOfEmrImplementation, ModeOfEMRUse, Lab_Manifest, MNCH, TB, OVC, OTZ, PREP, KP.1, HIV, TPT, Covid_19, EVMMC, HTS_Status, HTS_Use, HTS_Deployment, IL_Status, IL_WebADT, IL_Mlab, IL_Ushauri, IL_lab_manifest, IL_3_PM, IL_AIR, IL_nimeconfirm, MHealth_Nishauri, MHealth_C4C, MHealth_Ushauri, MHealth_Mlab, MHealth_ART_Directory, MHealth_Psurvey]\n",
       "Index: []\n",
       "\n",
       "[0 rows x 45 columns]"
      ]
     },
     "execution_count": 3,
     "metadata": {},
     "output_type": "execute_result"
    }
   ],
   "source": [
    "#check for duplicate data\n",
    "site_data[site_data.duplicated()]"
   ]
  },
  {
   "cell_type": "code",
   "execution_count": 4,
   "id": "06dc5bb4-a1f9-4be6-b9bd-979a871c0ed6",
   "metadata": {},
   "outputs": [
    {
     "data": {
      "text/plain": [
       "Index(['mfl_code', 'FacilityName', 'County', 'SubCounty', 'Owner', 'lat',\n",
       "       'lon', 'SDP', 'CT', 'HTS', 'IL', 'MHealth', 'KP', 'EMR', 'EMRStatus',\n",
       "       'DateOfEmrImplementation', 'ModeOfEMRUse', 'Lab_Manifest', 'MNCH', 'TB',\n",
       "       'OVC', 'OTZ', 'PREP', 'KP.1', 'HIV', 'TPT', 'Covid_19', 'EVMMC',\n",
       "       'HTS_Status', 'HTS_Use', 'HTS_Deployment', 'IL_Status', 'IL_WebADT',\n",
       "       'IL_Mlab', 'IL_Ushauri', 'IL_lab_manifest', 'IL_3_PM', 'IL_AIR',\n",
       "       'IL_nimeconfirm', 'MHealth_Nishauri', 'MHealth_C4C', 'MHealth_Ushauri',\n",
       "       'MHealth_Mlab', 'MHealth_ART_Directory', 'MHealth_Psurvey'],\n",
       "      dtype='object')"
      ]
     },
     "execution_count": 4,
     "metadata": {},
     "output_type": "execute_result"
    }
   ],
   "source": [
    "#quick look at the columns to see the relevant ones\n",
    "site_data.columns"
   ]
  },
  {
   "cell_type": "code",
   "execution_count": 5,
   "id": "91424f0f-ad40-465a-8829-7dde0e4fb9dc",
   "metadata": {},
   "outputs": [],
   "source": [
    "#removing the columns we do not need from the dataframe\n",
    "site_data = site_data.drop(['CT', 'HTS', 'IL', 'MHealth', 'KP', 'EMR', 'EMRStatus',\n",
    "       'DateOfEmrImplementation', 'ModeOfEMRUse', 'Lab_Manifest', 'MNCH', 'TB',\n",
    "       'OVC', 'OTZ', 'PREP', 'KP.1', 'HIV', 'TPT', 'Covid_19', 'EVMMC',\n",
    "       'HTS_Status', 'HTS_Use', 'HTS_Deployment', 'IL_Status', 'IL_WebADT',\n",
    "       'IL_Mlab', 'IL_Ushauri', 'IL_lab_manifest', 'IL_3_PM', 'IL_AIR',\n",
    "       'IL_nimeconfirm', 'MHealth_Nishauri', 'MHealth_C4C', 'MHealth_Ushauri',\n",
    "       'MHealth_Mlab', 'MHealth_ART_Directory', 'MHealth_Psurvey'], axis=1)"
   ]
  },
  {
   "cell_type": "code",
   "execution_count": 6,
   "id": "66a3886a-709c-472c-b33d-bcaa11f9cd51",
   "metadata": {},
   "outputs": [
    {
     "data": {
      "text/plain": [
       "array(['LVCT Dhibiti', 'USAID Jamii Tekelezi', 'Nyeri CHMT',\n",
       "       'USAID Tujenge Jamii', 'KCCB ACTS', 'LVCT Prisons',\n",
       "       'CHAK CHAP STAWISHA', 'USAID Stawisha Pwani',\n",
       "       'Bomu Hospital Affiliated Sites', 'HJF-Nairobi', 'CIHEB Imara',\n",
       "       'DREAMS Trust Kenya', 'USAID Fahari ya Jamii', 'CIHEB CONNECT',\n",
       "       'Coptic Hospitals', 'Aids Healthcare Foundation Kenya', 'COGRI',\n",
       "       'CHS Shinda Tena', 'LVCT Vukisha 95', 'CIHEB Entrench',\n",
       "       'Homa Bay CHMT', 'USAID NURU YA MTOTO', 'HJF-Kisumu West',\n",
       "       'Siaya CHMT', 'Migori CHMT', 'USAID Boresha Jamii',\n",
       "       'HJF-South Rift Valley', 'USAID AMPATH Uzima',\n",
       "       'USAID Imarisha Jamii', nan, 'USAID Dumisha Afya', 'No Partner',\n",
       "       'Hope Worldwide Kenya'], dtype=object)"
      ]
     },
     "execution_count": 6,
     "metadata": {},
     "output_type": "execute_result"
    }
   ],
   "source": [
    "#since we are only interested in a specific implementing partner\n",
    "site_data['SDP'].unique()"
   ]
  },
  {
   "cell_type": "code",
   "execution_count": 7,
   "id": "482944a1-702a-4fca-9906-3f9452a2c6b2",
   "metadata": {},
   "outputs": [
    {
     "data": {
      "text/html": [
       "<div>\n",
       "<style scoped>\n",
       "    .dataframe tbody tr th:only-of-type {\n",
       "        vertical-align: middle;\n",
       "    }\n",
       "\n",
       "    .dataframe tbody tr th {\n",
       "        vertical-align: top;\n",
       "    }\n",
       "\n",
       "    .dataframe thead th {\n",
       "        text-align: right;\n",
       "    }\n",
       "</style>\n",
       "<table border=\"1\" class=\"dataframe\">\n",
       "  <thead>\n",
       "    <tr style=\"text-align: right;\">\n",
       "      <th></th>\n",
       "      <th>mfl_code</th>\n",
       "      <th>FacilityName</th>\n",
       "      <th>County</th>\n",
       "      <th>SubCounty</th>\n",
       "      <th>Owner</th>\n",
       "      <th>lat</th>\n",
       "      <th>lon</th>\n",
       "      <th>SDP</th>\n",
       "    </tr>\n",
       "  </thead>\n",
       "  <tbody>\n",
       "    <tr>\n",
       "      <th>0</th>\n",
       "      <td>13473</td>\n",
       "      <td>Aluor Mission Health Centre</td>\n",
       "      <td>Siaya</td>\n",
       "      <td>Gem</td>\n",
       "      <td>Kenya Episcopal Conference-Catholic Secretariat</td>\n",
       "      <td>0.01047</td>\n",
       "      <td>34.46500</td>\n",
       "      <td>KCCB ACTS</td>\n",
       "    </tr>\n",
       "    <tr>\n",
       "      <th>1</th>\n",
       "      <td>13488</td>\n",
       "      <td>Asumbi Mission Hospital</td>\n",
       "      <td>Homa Bay</td>\n",
       "      <td>Rangwe</td>\n",
       "      <td>Kenya Episcopal Conference-Catholic Secretariat</td>\n",
       "      <td>-0.62079</td>\n",
       "      <td>34.61453</td>\n",
       "      <td>KCCB ACTS</td>\n",
       "    </tr>\n",
       "    <tr>\n",
       "      <th>2</th>\n",
       "      <td>13491</td>\n",
       "      <td>Awasi Mission Health Center</td>\n",
       "      <td>Kisumu</td>\n",
       "      <td>Nyando</td>\n",
       "      <td>Kenya Episcopal Conference-Catholic Secretariat</td>\n",
       "      <td>-0.16043</td>\n",
       "      <td>35.07395</td>\n",
       "      <td>KCCB ACTS</td>\n",
       "    </tr>\n",
       "    <tr>\n",
       "      <th>3</th>\n",
       "      <td>12875</td>\n",
       "      <td>Babadogo (EDARP)</td>\n",
       "      <td>Nairobi</td>\n",
       "      <td>Ruaraka</td>\n",
       "      <td>Kenya Episcopal Conference-Catholic Secretariat</td>\n",
       "      <td>-1.23916</td>\n",
       "      <td>36.88640</td>\n",
       "      <td>KCCB ACTS</td>\n",
       "    </tr>\n",
       "  </tbody>\n",
       "</table>\n",
       "</div>"
      ],
      "text/plain": [
       "   mfl_code                 FacilityName    County SubCounty  \\\n",
       "0     13473  Aluor Mission Health Centre     Siaya       Gem   \n",
       "1     13488      Asumbi Mission Hospital  Homa Bay    Rangwe   \n",
       "2     13491  Awasi Mission Health Center    Kisumu    Nyando   \n",
       "3     12875             Babadogo (EDARP)   Nairobi   Ruaraka   \n",
       "\n",
       "                                             Owner      lat       lon  \\\n",
       "0  Kenya Episcopal Conference-Catholic Secretariat  0.01047  34.46500   \n",
       "1  Kenya Episcopal Conference-Catholic Secretariat -0.62079  34.61453   \n",
       "2  Kenya Episcopal Conference-Catholic Secretariat -0.16043  35.07395   \n",
       "3  Kenya Episcopal Conference-Catholic Secretariat -1.23916  36.88640   \n",
       "\n",
       "         SDP  \n",
       "0  KCCB ACTS  \n",
       "1  KCCB ACTS  \n",
       "2  KCCB ACTS  \n",
       "3  KCCB ACTS  "
      ]
     },
     "execution_count": 7,
     "metadata": {},
     "output_type": "execute_result"
    }
   ],
   "source": [
    "#the implementing sdp to filter\n",
    "partner_filter = 'KCCB ACTS'\n",
    "\n",
    "#@allows us to pass our string variable through the query method. we also use method chaining to do addition manipulations on the resulting data.\n",
    "kccb_sites = site_data.query('SDP == @partner_filter').reset_index().drop(['index'], axis=1)\n",
    "kccb_sites.head(4)"
   ]
  },
  {
   "cell_type": "code",
   "execution_count": 8,
   "id": "c5cd2220-aa3d-4d5e-a341-4811c728dbef",
   "metadata": {},
   "outputs": [
    {
     "data": {
      "text/plain": [
       "mfl_code  FacilityName  County  SubCounty  Owner  lat    lon    SDP  \n",
       "False     False         False   False      False  False  False  False    105\n",
       "Name: count, dtype: int64"
      ]
     },
     "execution_count": 8,
     "metadata": {},
     "output_type": "execute_result"
    }
   ],
   "source": [
    "#checking for any missing values\n",
    "kccb_sites.isna().value_counts()"
   ]
  },
  {
   "cell_type": "code",
   "execution_count": 9,
   "id": "89cd125c-5045-4f77-96b3-0a7232c591b3",
   "metadata": {},
   "outputs": [],
   "source": [
    "#saving our dataframe in a file for future use\n",
    "kccb_sites.to_excel('processed_data/cleaned_kccb_his_master_coordinates.xlsx', index=False)"
   ]
  },
  {
   "cell_type": "markdown",
   "id": "8849f370-2f73-4f70-b5cc-f200cd676223",
   "metadata": {},
   "source": [
    "no data is missing and we can also see we have 105 records equating to __105 facility under kccb-acts sdp__"
   ]
  },
  {
   "cell_type": "markdown",
   "id": "2a628f12-952a-430e-92f2-29bfe0bc685e",
   "metadata": {},
   "source": [
    "### our first dataset is cleaned and now we can do some few EDA on it"
   ]
  },
  {
   "cell_type": "code",
   "execution_count": 10,
   "id": "f3499a47-e8de-425a-a435-3b18da4ac68d",
   "metadata": {},
   "outputs": [
    {
     "data": {
      "text/plain": [
       "Owner\n",
       "Kenya Episcopal Conference-Catholic Secretariat    64\n",
       "Other Faith Based                                  17\n",
       "Christian Health Association of Kenya              16\n",
       "Ministry of Health                                  3\n",
       "Non-Governmental Organizations                      1\n",
       "Private Practice - Unspecified                      1\n",
       "Private Enterprise (Institution)                    1\n",
       "Kenya MPDB - Institution                            1\n",
       "Nursing Council of Kenya                            1\n",
       "Name: count, dtype: int64"
      ]
     },
     "execution_count": 10,
     "metadata": {},
     "output_type": "execute_result"
    }
   ],
   "source": [
    "#we can also use the value_counts() method to see the owners of the 105 sites\n",
    "kccb_sites.Owner.value_counts()"
   ]
  },
  {
   "cell_type": "markdown",
   "id": "2f6ff468-7fb7-412b-a11d-310c16cf14b6",
   "metadata": {},
   "source": [
    "64 sites belong to *__Kenya Episcopal Conference-Catholic Secretariat__*"
   ]
  },
  {
   "cell_type": "markdown",
   "id": "5a029623-f864-43b0-9e97-e33fa400dd33",
   "metadata": {},
   "source": [
    "### some quick visualization test"
   ]
  },
  {
   "cell_type": "code",
   "execution_count": 11,
   "id": "7e801f3b-bb5e-4c29-9581-7db860620620",
   "metadata": {
    "tags": []
   },
   "outputs": [],
   "source": [
    "import matplotlib.pyplot as plt"
   ]
  },
  {
   "cell_type": "code",
   "execution_count": 12,
   "id": "fc34aa4c-e23a-44f2-9462-4f93b4445782",
   "metadata": {},
   "outputs": [
    {
     "name": "stdout",
     "output_type": "stream",
     "text": [
      "KCCB ACTS supports facilities in 20 counties\n"
     ]
    }
   ],
   "source": [
    "print(f'KCCB ACTS supports facilities in {kccb_sites.County.nunique()} counties')"
   ]
  },
  {
   "cell_type": "code",
   "execution_count": 13,
   "id": "f37578d8-683f-4c7b-9e50-5cddefad0ef4",
   "metadata": {},
   "outputs": [
    {
     "data": {
      "image/png": "[encoded data removed]",
      "text/plain": [
       "<Figure size 2000x500 with 1 Axes>"
      ]
     },
     "metadata": {},
     "output_type": "display_data"
    }
   ],
   "source": [
    "csites = kccb_sites.County.value_counts().reset_index()\n",
    "csites.columns = ('county','Supported_Sites')\n",
    "#csites.set_index('county')\n",
    "#for index,county in csites.county.items():\n",
    "#    print(str(county));\n",
    "#basis on our plot; type and size\n",
    "csites.plot.bar(figsize=(20,5))\n",
    "\n",
    "#labels of plot axes using the import plt for matplotlib.pyplot\n",
    "plt.xlabel('County')\n",
    "plt.ylabel('No. of Supported Sites')\n",
    "plt.title('Total Sites Supported by KCCB-ACTS as at August 2023', fontsize=13)\n",
    "\n",
    "#for the xticks to show county names\n",
    "plt.xticks(csites.index, labels=csites.county)\n",
    "\n",
    "#plt.axis(\"off\") #removes the borders and whitespace\n",
    "\n",
    "#annotate values above bars based on index\n",
    "for county, counts in csites.Supported_Sites.items():\n",
    "    plt.text(county, counts+0.22, str(counts), fontsize=10, horizontalalignment='center');"
   ]
  },
  {
   "cell_type": "markdown",
   "id": "d141df27-6a8d-4f86-a9ce-dabf46e2ac79",
   "metadata": {},
   "source": [
    "### adding more variables to our data by merging with another dataset"
   ]
  },
  {
   "cell_type": "code",
   "execution_count": 14,
   "id": "f70cfd63-4714-4b98-89e6-a728fcd3f6cc",
   "metadata": {},
   "outputs": [
    {
     "data": {
      "text/html": [
       "<div>\n",
       "<style scoped>\n",
       "    .dataframe tbody tr th:only-of-type {\n",
       "        vertical-align: middle;\n",
       "    }\n",
       "\n",
       "    .dataframe tbody tr th {\n",
       "        vertical-align: top;\n",
       "    }\n",
       "\n",
       "    .dataframe thead th {\n",
       "        text-align: right;\n",
       "    }\n",
       "</style>\n",
       "<table border=\"1\" class=\"dataframe\">\n",
       "  <thead>\n",
       "    <tr style=\"text-align: right;\">\n",
       "      <th></th>\n",
       "      <th>mfl</th>\n",
       "      <th>facility_name</th>\n",
       "      <th>txnew2023Q1</th>\n",
       "      <th>txnew2023Q2</th>\n",
       "      <th>txnew2023Q3</th>\n",
       "      <th>txnew2023Q4</th>\n",
       "      <th>2023Q1</th>\n",
       "      <th>2023Q2</th>\n",
       "      <th>2023Q3</th>\n",
       "      <th>2023Q4</th>\n",
       "    </tr>\n",
       "  </thead>\n",
       "  <tbody>\n",
       "    <tr>\n",
       "      <th>64</th>\n",
       "      <td>20364</td>\n",
       "      <td>Ringa Dispensary</td>\n",
       "      <td>4</td>\n",
       "      <td>3</td>\n",
       "      <td>8</td>\n",
       "      <td>2</td>\n",
       "      <td>839</td>\n",
       "      <td>835</td>\n",
       "      <td>845</td>\n",
       "      <td>841</td>\n",
       "    </tr>\n",
       "    <tr>\n",
       "      <th>103</th>\n",
       "      <td>20692</td>\n",
       "      <td>Vigetse Medical Clinic</td>\n",
       "      <td>10</td>\n",
       "      <td>4</td>\n",
       "      <td>4</td>\n",
       "      <td>2</td>\n",
       "      <td>519</td>\n",
       "      <td>525</td>\n",
       "      <td>528</td>\n",
       "      <td>529</td>\n",
       "    </tr>\n",
       "    <tr>\n",
       "      <th>87</th>\n",
       "      <td>20836</td>\n",
       "      <td>St Monica Hospital (Town Clinic)</td>\n",
       "      <td>8</td>\n",
       "      <td>9</td>\n",
       "      <td>6</td>\n",
       "      <td>8</td>\n",
       "      <td>1116</td>\n",
       "      <td>1118</td>\n",
       "      <td>1112</td>\n",
       "      <td>1115</td>\n",
       "    </tr>\n",
       "    <tr>\n",
       "      <th>78</th>\n",
       "      <td>22771</td>\n",
       "      <td>St Joseph Catholic Dispensary (Maungu)</td>\n",
       "      <td>4</td>\n",
       "      <td>3</td>\n",
       "      <td>3</td>\n",
       "      <td>2</td>\n",
       "      <td>281</td>\n",
       "      <td>278</td>\n",
       "      <td>279</td>\n",
       "      <td>284</td>\n",
       "    </tr>\n",
       "    <tr>\n",
       "      <th>5</th>\n",
       "      <td>23285</td>\n",
       "      <td>Chaani Catholic Dispensary CBHC</td>\n",
       "      <td>12</td>\n",
       "      <td>8</td>\n",
       "      <td>8</td>\n",
       "      <td>5</td>\n",
       "      <td>649</td>\n",
       "      <td>671</td>\n",
       "      <td>678</td>\n",
       "      <td>681</td>\n",
       "    </tr>\n",
       "  </tbody>\n",
       "</table>\n",
       "</div>"
      ],
      "text/plain": [
       "       mfl                           facility_name  txnew2023Q1  txnew2023Q2  \\\n",
       "64   20364                        Ringa Dispensary            4            3   \n",
       "103  20692                  Vigetse Medical Clinic           10            4   \n",
       "87   20836        St Monica Hospital (Town Clinic)            8            9   \n",
       "78   22771  St Joseph Catholic Dispensary (Maungu)            4            3   \n",
       "5    23285         Chaani Catholic Dispensary CBHC           12            8   \n",
       "\n",
       "     txnew2023Q3  txnew2023Q4  2023Q1  2023Q2  2023Q3  2023Q4  \n",
       "64             8            2     839     835     845     841  \n",
       "103            4            2     519     525     528     529  \n",
       "87             6            8    1116    1118    1112    1115  \n",
       "78             3            2     281     278     279     284  \n",
       "5              8            5     649     671     678     681  "
      ]
     },
     "execution_count": 14,
     "metadata": {},
     "output_type": "execute_result"
    }
   ],
   "source": [
    "#loading dataset with the tx current data for the quarters\n",
    "txdata = 'raw_data/kccbtxcurrdata.xlsx'\n",
    "\n",
    "kccbtxdata = pd.read_excel(txdata, usecols={'mfl',\n",
    "                                            'facility_name', 'txnew2023Q1','txnew2023Q2',\n",
    "                                            'txnew2023Q3','txnew2023Q4',\n",
    "                                            '2023Q1','2023Q2','2023Q3','2023Q4'}\n",
    "                          ).sort_values(by='mfl',\n",
    "                                        ascending=True)\n",
    "kccbtxdata.tail(5)"
   ]
  },
  {
   "cell_type": "code",
   "execution_count": 15,
   "id": "1556eaf9-b9a1-48ec-aa83-03b2a5961d8b",
   "metadata": {},
   "outputs": [
    {
     "name": "stdout",
     "output_type": "stream",
     "text": [
      "<class 'pandas.core.frame.DataFrame'>\n",
      "Index: 105 entries, 9 to 5\n",
      "Data columns (total 10 columns):\n",
      " #   Column         Non-Null Count  Dtype \n",
      "---  ------         --------------  ----- \n",
      " 0   mfl            105 non-null    int64 \n",
      " 1   facility_name  105 non-null    object\n",
      " 2   txnew2023Q1    105 non-null    int64 \n",
      " 3   txnew2023Q2    105 non-null    int64 \n",
      " 4   txnew2023Q3    105 non-null    int64 \n",
      " 5   txnew2023Q4    105 non-null    int64 \n",
      " 6   2023Q1         105 non-null    int64 \n",
      " 7   2023Q2         105 non-null    int64 \n",
      " 8   2023Q3         105 non-null    int64 \n",
      " 9   2023Q4         105 non-null    int64 \n",
      "dtypes: int64(9), object(1)\n",
      "memory usage: 9.0+ KB\n"
     ]
    }
   ],
   "source": [
    "#to check on our dtypes\n",
    "kccbtxdata.info()"
   ]
  },
  {
   "cell_type": "code",
   "execution_count": 16,
   "id": "c62332b9-248d-401c-be2c-900696a55eba",
   "metadata": {},
   "outputs": [
    {
     "data": {
      "text/html": [
       "<div>\n",
       "<style scoped>\n",
       "    .dataframe tbody tr th:only-of-type {\n",
       "        vertical-align: middle;\n",
       "    }\n",
       "\n",
       "    .dataframe tbody tr th {\n",
       "        vertical-align: top;\n",
       "    }\n",
       "\n",
       "    .dataframe thead th {\n",
       "        text-align: right;\n",
       "    }\n",
       "</style>\n",
       "<table border=\"1\" class=\"dataframe\">\n",
       "  <thead>\n",
       "    <tr style=\"text-align: right;\">\n",
       "      <th></th>\n",
       "      <th>mfl_code</th>\n",
       "      <th>FacilityName</th>\n",
       "      <th>County</th>\n",
       "      <th>SubCounty</th>\n",
       "      <th>Owner</th>\n",
       "      <th>lat</th>\n",
       "      <th>lon</th>\n",
       "      <th>SDP</th>\n",
       "    </tr>\n",
       "  </thead>\n",
       "  <tbody>\n",
       "    <tr>\n",
       "      <th>100</th>\n",
       "      <td>14157</td>\n",
       "      <td>Ulanda Dispensary</td>\n",
       "      <td>Migori</td>\n",
       "      <td>Awendo</td>\n",
       "      <td>Kenya Episcopal Conference-Catholic Secretariat</td>\n",
       "      <td>-1.007030</td>\n",
       "      <td>34.58561</td>\n",
       "      <td>KCCB ACTS</td>\n",
       "    </tr>\n",
       "    <tr>\n",
       "      <th>101</th>\n",
       "      <td>17183</td>\n",
       "      <td>Uradi Health Centre</td>\n",
       "      <td>Siaya</td>\n",
       "      <td>Alego Usonga</td>\n",
       "      <td>Kenya Episcopal Conference-Catholic Secretariat</td>\n",
       "      <td>0.121560</td>\n",
       "      <td>34.15762</td>\n",
       "      <td>KCCB ACTS</td>\n",
       "    </tr>\n",
       "    <tr>\n",
       "      <th>102</th>\n",
       "      <td>14166</td>\n",
       "      <td>Verna Health Centre</td>\n",
       "      <td>Migori</td>\n",
       "      <td>Rongo</td>\n",
       "      <td>Kenya Episcopal Conference-Catholic Secretariat</td>\n",
       "      <td>-0.794940</td>\n",
       "      <td>34.58272</td>\n",
       "      <td>KCCB ACTS</td>\n",
       "    </tr>\n",
       "    <tr>\n",
       "      <th>103</th>\n",
       "      <td>20692</td>\n",
       "      <td>Vigetse Medical Clinic</td>\n",
       "      <td>Vihiga</td>\n",
       "      <td>Vihiga</td>\n",
       "      <td>Nursing Council of Kenya</td>\n",
       "      <td>-0.000603</td>\n",
       "      <td>34.67350</td>\n",
       "      <td>KCCB ACTS</td>\n",
       "    </tr>\n",
       "    <tr>\n",
       "      <th>104</th>\n",
       "      <td>14174</td>\n",
       "      <td>Wire Dispensary</td>\n",
       "      <td>Homa Bay</td>\n",
       "      <td>Rachuonyo South</td>\n",
       "      <td>Christian Health Association of Kenya</td>\n",
       "      <td>-0.488500</td>\n",
       "      <td>34.75548</td>\n",
       "      <td>KCCB ACTS</td>\n",
       "    </tr>\n",
       "  </tbody>\n",
       "</table>\n",
       "</div>"
      ],
      "text/plain": [
       "     mfl_code            FacilityName    County        SubCounty  \\\n",
       "100     14157       Ulanda Dispensary    Migori           Awendo   \n",
       "101     17183     Uradi Health Centre     Siaya     Alego Usonga   \n",
       "102     14166     Verna Health Centre    Migori            Rongo   \n",
       "103     20692  Vigetse Medical Clinic    Vihiga           Vihiga   \n",
       "104     14174         Wire Dispensary  Homa Bay  Rachuonyo South   \n",
       "\n",
       "                                               Owner       lat       lon  \\\n",
       "100  Kenya Episcopal Conference-Catholic Secretariat -1.007030  34.58561   \n",
       "101  Kenya Episcopal Conference-Catholic Secretariat  0.121560  34.15762   \n",
       "102  Kenya Episcopal Conference-Catholic Secretariat -0.794940  34.58272   \n",
       "103                         Nursing Council of Kenya -0.000603  34.67350   \n",
       "104            Christian Health Association of Kenya -0.488500  34.75548   \n",
       "\n",
       "           SDP  \n",
       "100  KCCB ACTS  \n",
       "101  KCCB ACTS  \n",
       "102  KCCB ACTS  \n",
       "103  KCCB ACTS  \n",
       "104  KCCB ACTS  "
      ]
     },
     "execution_count": 16,
     "metadata": {},
     "output_type": "execute_result"
    }
   ],
   "source": [
    "#show the last 5 records\n",
    "kccb_sites.tail(5)"
   ]
  },
  {
   "cell_type": "code",
   "execution_count": 17,
   "id": "c7997398-ffbb-4833-b71f-de447ff00157",
   "metadata": {},
   "outputs": [
    {
     "data": {
      "text/html": [
       "<div>\n",
       "<style scoped>\n",
       "    .dataframe tbody tr th:only-of-type {\n",
       "        vertical-align: middle;\n",
       "    }\n",
       "\n",
       "    .dataframe tbody tr th {\n",
       "        vertical-align: top;\n",
       "    }\n",
       "\n",
       "    .dataframe thead th {\n",
       "        text-align: right;\n",
       "    }\n",
       "</style>\n",
       "<table border=\"1\" class=\"dataframe\">\n",
       "  <thead>\n",
       "    <tr style=\"text-align: right;\">\n",
       "      <th></th>\n",
       "      <th>mfl</th>\n",
       "      <th>facility_name</th>\n",
       "      <th>txnew2023Q1</th>\n",
       "      <th>txnew2023Q2</th>\n",
       "      <th>txnew2023Q3</th>\n",
       "      <th>txnew2023Q4</th>\n",
       "      <th>2023Q1</th>\n",
       "      <th>2023Q2</th>\n",
       "      <th>2023Q3</th>\n",
       "      <th>2023Q4</th>\n",
       "    </tr>\n",
       "  </thead>\n",
       "  <tbody>\n",
       "  </tbody>\n",
       "</table>\n",
       "</div>"
      ],
      "text/plain": [
       "Empty DataFrame\n",
       "Columns: [mfl, facility_name, txnew2023Q1, txnew2023Q2, txnew2023Q3, txnew2023Q4, 2023Q1, 2023Q2, 2023Q3, 2023Q4]\n",
       "Index: []"
      ]
     },
     "execution_count": 17,
     "metadata": {},
     "output_type": "execute_result"
    }
   ],
   "source": [
    "#check for duplicate records\n",
    "kccbtxdata[kccbtxdata.duplicated()]"
   ]
  },
  {
   "cell_type": "code",
   "execution_count": 18,
   "id": "013f1c29-a4d0-46f5-868b-686db636441a",
   "metadata": {},
   "outputs": [
    {
     "data": {
      "text/plain": [
       "mfl    facility_name  txnew2023Q1  txnew2023Q2  txnew2023Q3  txnew2023Q4  2023Q1  2023Q2  2023Q3  2023Q4\n",
       "False  False          False        False        False        False        False   False   False   False     105\n",
       "Name: count, dtype: int64"
      ]
     },
     "execution_count": 18,
     "metadata": {},
     "output_type": "execute_result"
    }
   ],
   "source": [
    "#check for missing values\n",
    "kccbtxdata.isna().value_counts()"
   ]
  },
  {
   "cell_type": "code",
   "execution_count": 19,
   "id": "74bef122-dbe1-4d59-bca1-da9927cd155a",
   "metadata": {},
   "outputs": [],
   "source": [
    "#renaming the mfl column in the second df\n",
    "kccbtxdata.rename(columns={'mfl':'mfl_code'}, inplace=True)\n",
    "\n",
    "#merging the two dataframe where mfl_code is same\n",
    "#and saving the resulting dataframe as a new dataframe to merge with the next dataset. use to_excel('dir/filename') to save it\n",
    "tx_coords = (pd.\n",
    " merge(kccbtxdata, kccb_sites,\n",
    "      on=['mfl_code'],\n",
    "      how='left'))"
   ]
  },
  {
   "cell_type": "markdown",
   "id": "8b5b85ad-6284-4ac5-92be-dc9b1da420ec",
   "metadata": {},
   "source": [
    "### adding a dataset with 'region' variable for the sites"
   ]
  },
  {
   "cell_type": "code",
   "execution_count": 20,
   "id": "cfbecabd-bb1c-46ba-8944-8bf8f3d0470f",
   "metadata": {},
   "outputs": [
    {
     "data": {
      "text/html": [
       "<div>\n",
       "<style scoped>\n",
       "    .dataframe tbody tr th:only-of-type {\n",
       "        vertical-align: middle;\n",
       "    }\n",
       "\n",
       "    .dataframe tbody tr th {\n",
       "        vertical-align: top;\n",
       "    }\n",
       "\n",
       "    .dataframe thead th {\n",
       "        text-align: right;\n",
       "    }\n",
       "</style>\n",
       "<table border=\"1\" class=\"dataframe\">\n",
       "  <thead>\n",
       "    <tr style=\"text-align: right;\">\n",
       "      <th></th>\n",
       "      <th>facility_name</th>\n",
       "      <th>mfl_code</th>\n",
       "      <th>region</th>\n",
       "    </tr>\n",
       "  </thead>\n",
       "  <tbody>\n",
       "    <tr>\n",
       "      <th>0</th>\n",
       "      <td>Aluor Mission Health Centre</td>\n",
       "      <td>13473</td>\n",
       "      <td>Siaya</td>\n",
       "    </tr>\n",
       "  </tbody>\n",
       "</table>\n",
       "</div>"
      ],
      "text/plain": [
       "                 facility_name  mfl_code region\n",
       "0  Aluor Mission Health Centre     13473  Siaya"
      ]
     },
     "execution_count": 20,
     "metadata": {},
     "output_type": "execute_result"
    }
   ],
   "source": [
    "#add regions\n",
    "siteregions = 'raw_data/regiondata.csv'\n",
    "\n",
    "region_data = pd.read_csv(siteregions, usecols=('Facility',\n",
    "                                             'MFL Code',\n",
    "                                             'Region'))\n",
    "\n",
    "columns=('facility_name',\n",
    "         'mfl_code',\n",
    "         'region')\n",
    "\n",
    "region_data.columns = columns\n",
    "\n",
    "region_data.sample(1)"
   ]
  },
  {
   "cell_type": "code",
   "execution_count": 21,
   "id": "41d70117-892b-4ee2-9537-43f561941afb",
   "metadata": {},
   "outputs": [
    {
     "data": {
      "text/plain": [
       "(57, 3)"
      ]
     },
     "execution_count": 21,
     "metadata": {},
     "output_type": "execute_result"
    }
   ],
   "source": [
    "region_data.shape"
   ]
  },
  {
   "cell_type": "code",
   "execution_count": 22,
   "id": "20cfc89d-db93-4933-b809-14a296453ba4",
   "metadata": {},
   "outputs": [],
   "source": [
    "#dataset only contains 57 sites, while our kccb_sites dataframe has 105 sites. \n",
    "#a quick check on null values in a merge of the two shows this\n",
    "kccbsites_df = (pd.\n",
    " merge(tx_coords, region_data,\n",
    "      on=['mfl_code'],\n",
    "      how='left'))\n",
    "\n",
    "#.fillna(value='Nairobi')\n",
    "#.isnull().value_counts()"
   ]
  },
  {
   "cell_type": "code",
   "execution_count": 23,
   "id": "e4faee2c-3300-4ff0-a4f8-cf9bccb5dbd7",
   "metadata": {},
   "outputs": [
    {
     "data": {
      "text/html": [
       "<div>\n",
       "<style scoped>\n",
       "    .dataframe tbody tr th:only-of-type {\n",
       "        vertical-align: middle;\n",
       "    }\n",
       "\n",
       "    .dataframe tbody tr th {\n",
       "        vertical-align: top;\n",
       "    }\n",
       "\n",
       "    .dataframe thead th {\n",
       "        text-align: right;\n",
       "    }\n",
       "</style>\n",
       "<table border=\"1\" class=\"dataframe\">\n",
       "  <thead>\n",
       "    <tr style=\"text-align: right;\">\n",
       "      <th></th>\n",
       "      <th>mfl_code</th>\n",
       "      <th>facility_name_x</th>\n",
       "      <th>txnew2023Q1</th>\n",
       "      <th>txnew2023Q2</th>\n",
       "      <th>txnew2023Q3</th>\n",
       "      <th>txnew2023Q4</th>\n",
       "      <th>2023Q1</th>\n",
       "      <th>2023Q2</th>\n",
       "      <th>2023Q3</th>\n",
       "      <th>2023Q4</th>\n",
       "      <th>FacilityName</th>\n",
       "      <th>County</th>\n",
       "      <th>SubCounty</th>\n",
       "      <th>Owner</th>\n",
       "      <th>lat</th>\n",
       "      <th>lon</th>\n",
       "      <th>SDP</th>\n",
       "      <th>facility_name_y</th>\n",
       "      <th>region</th>\n",
       "    </tr>\n",
       "  </thead>\n",
       "  <tbody>\n",
       "    <tr>\n",
       "      <th>8</th>\n",
       "      <td>10693</td>\n",
       "      <td>Kijabe (AIC) Hospital Marira Medical Clinic</td>\n",
       "      <td>19</td>\n",
       "      <td>18</td>\n",
       "      <td>8</td>\n",
       "      <td>4</td>\n",
       "      <td>1530</td>\n",
       "      <td>1521</td>\n",
       "      <td>1515</td>\n",
       "      <td>1518</td>\n",
       "      <td>Kijabe (AIC) Hospital Marira Medical Clinic</td>\n",
       "      <td>Kiambu</td>\n",
       "      <td>Lari</td>\n",
       "      <td>Other Faith Based</td>\n",
       "      <td>-1.03294</td>\n",
       "      <td>36.62211</td>\n",
       "      <td>KCCB ACTS</td>\n",
       "      <td>NaN</td>\n",
       "      <td>NaN</td>\n",
       "    </tr>\n",
       "    <tr>\n",
       "      <th>80</th>\n",
       "      <td>15702</td>\n",
       "      <td>Talek Health Centre</td>\n",
       "      <td>4</td>\n",
       "      <td>4</td>\n",
       "      <td>9</td>\n",
       "      <td>1</td>\n",
       "      <td>108</td>\n",
       "      <td>106</td>\n",
       "      <td>115</td>\n",
       "      <td>109</td>\n",
       "      <td>Talek Health Centre</td>\n",
       "      <td>Narok</td>\n",
       "      <td>Narok West</td>\n",
       "      <td>Other Faith Based</td>\n",
       "      <td>-1.35782</td>\n",
       "      <td>35.22440</td>\n",
       "      <td>KCCB ACTS</td>\n",
       "      <td>NaN</td>\n",
       "      <td>NaN</td>\n",
       "    </tr>\n",
       "    <tr>\n",
       "      <th>19</th>\n",
       "      <td>11818</td>\n",
       "      <td>St Luke's (ACK) Hospital Kaloleni</td>\n",
       "      <td>15</td>\n",
       "      <td>9</td>\n",
       "      <td>12</td>\n",
       "      <td>6</td>\n",
       "      <td>1512</td>\n",
       "      <td>1493</td>\n",
       "      <td>1504</td>\n",
       "      <td>1499</td>\n",
       "      <td>St Luke's (ACK) Nursing home Kaloleni</td>\n",
       "      <td>Kilifi</td>\n",
       "      <td>Kaloleni</td>\n",
       "      <td>Other Faith Based</td>\n",
       "      <td>-3.81187</td>\n",
       "      <td>39.63310</td>\n",
       "      <td>KCCB ACTS</td>\n",
       "      <td>NaN</td>\n",
       "      <td>NaN</td>\n",
       "    </tr>\n",
       "  </tbody>\n",
       "</table>\n",
       "</div>"
      ],
      "text/plain": [
       "    mfl_code                              facility_name_x  txnew2023Q1  \\\n",
       "8      10693  Kijabe (AIC) Hospital Marira Medical Clinic           19   \n",
       "80     15702                          Talek Health Centre            4   \n",
       "19     11818            St Luke's (ACK) Hospital Kaloleni           15   \n",
       "\n",
       "    txnew2023Q2  txnew2023Q3  txnew2023Q4  2023Q1  2023Q2  2023Q3  2023Q4  \\\n",
       "8            18            8            4    1530    1521    1515    1518   \n",
       "80            4            9            1     108     106     115     109   \n",
       "19            9           12            6    1512    1493    1504    1499   \n",
       "\n",
       "                                   FacilityName  County   SubCounty  \\\n",
       "8   Kijabe (AIC) Hospital Marira Medical Clinic  Kiambu        Lari   \n",
       "80                          Talek Health Centre   Narok  Narok West   \n",
       "19        St Luke's (ACK) Nursing home Kaloleni  Kilifi    Kaloleni   \n",
       "\n",
       "                Owner      lat       lon        SDP facility_name_y region  \n",
       "8   Other Faith Based -1.03294  36.62211  KCCB ACTS             NaN    NaN  \n",
       "80  Other Faith Based -1.35782  35.22440  KCCB ACTS             NaN    NaN  \n",
       "19  Other Faith Based -3.81187  39.63310  KCCB ACTS             NaN    NaN  "
      ]
     },
     "execution_count": 23,
     "metadata": {},
     "output_type": "execute_result"
    }
   ],
   "source": [
    "kccbsites_df.sample(3)"
   ]
  },
  {
   "cell_type": "code",
   "execution_count": 24,
   "id": "fea1d934-d609-4949-b7e1-afcf662b176e",
   "metadata": {},
   "outputs": [
    {
     "data": {
      "text/plain": [
       "array([nan, 'Siaya', 'HomaBay', 'Kisumu', 'Kisii', 'Western'],\n",
       "      dtype=object)"
      ]
     },
     "execution_count": 24,
     "metadata": {},
     "output_type": "execute_result"
    }
   ],
   "source": [
    "kccbsites_df.region.unique()"
   ]
  },
  {
   "cell_type": "code",
   "execution_count": 25,
   "id": "6bc96506-8b9f-4fb3-9d3a-06125d1a91d3",
   "metadata": {
    "tags": []
   },
   "outputs": [],
   "source": [
    "#changing region from nan to the appropriate value for the facilities in the newer counties\n",
    "#kccbsites_df[kccbsites_df.County.str.contains(\"Nairobi|Narok|Nyeri|Kirinyaga|Murang'a|Kiambu|Nakuru|Kajiado\")].assign(region = \"Nairobi\") #worked but didnt change in place\n"
   ]
  },
  {
   "cell_type": "code",
   "execution_count": 26,
   "id": "940b6203-4c1b-479f-9db8-d1b6afaf7239",
   "metadata": {},
   "outputs": [],
   "source": [
    "#rows containing the specific string as a filter\n",
    "nairobi_region = kccbsites_df.County.str.contains(\"Nairobi|Narok|Nyeri|Kirinyaga|Murang'a|Kiambu|Nakuru|Kajiado\")\n",
    "mombasa_region = kccbsites_df.County.str.contains(\"Taita Taveta|Mombasa|Kilifi\")\n",
    "\n",
    "#use loc to take our filters in to fill in the nan values in regions\n",
    "kccbsites_df.loc[nairobi_region, 'region'] = kccbsites_df.loc[nairobi_region, 'region'].fillna(value='Nairobi')\n",
    "kccbsites_df.loc[mombasa_region, 'region'] = kccbsites_df.loc[mombasa_region, 'region'].fillna(value='Mombasa')"
   ]
  },
  {
   "cell_type": "code",
   "execution_count": 27,
   "id": "9d5e5b70-43e6-4c5c-b03c-2b2b9428003c",
   "metadata": {},
   "outputs": [
    {
     "data": {
      "text/plain": [
       "(105, 19)"
      ]
     },
     "execution_count": 27,
     "metadata": {},
     "output_type": "execute_result"
    }
   ],
   "source": [
    "kccbsites_df.shape"
   ]
  },
  {
   "cell_type": "code",
   "execution_count": 28,
   "id": "d0deddc0-872f-4d04-a192-f7c9a909ad40",
   "metadata": {},
   "outputs": [
    {
     "data": {
      "text/html": [
       "<div>\n",
       "<style scoped>\n",
       "    .dataframe tbody tr th:only-of-type {\n",
       "        vertical-align: middle;\n",
       "    }\n",
       "\n",
       "    .dataframe tbody tr th {\n",
       "        vertical-align: top;\n",
       "    }\n",
       "\n",
       "    .dataframe thead th {\n",
       "        text-align: right;\n",
       "    }\n",
       "</style>\n",
       "<table border=\"1\" class=\"dataframe\">\n",
       "  <thead>\n",
       "    <tr style=\"text-align: right;\">\n",
       "      <th></th>\n",
       "      <th>mfl_code</th>\n",
       "      <th>facility_name_x</th>\n",
       "      <th>txnew2023Q1</th>\n",
       "      <th>txnew2023Q2</th>\n",
       "      <th>txnew2023Q3</th>\n",
       "      <th>txnew2023Q4</th>\n",
       "      <th>2023Q1</th>\n",
       "      <th>2023Q2</th>\n",
       "      <th>2023Q3</th>\n",
       "      <th>2023Q4</th>\n",
       "      <th>FacilityName</th>\n",
       "      <th>County</th>\n",
       "      <th>SubCounty</th>\n",
       "      <th>Owner</th>\n",
       "      <th>lat</th>\n",
       "      <th>lon</th>\n",
       "      <th>SDP</th>\n",
       "      <th>facility_name_y</th>\n",
       "      <th>region</th>\n",
       "    </tr>\n",
       "  </thead>\n",
       "  <tbody>\n",
       "    <tr>\n",
       "      <th>35</th>\n",
       "      <td>13640</td>\n",
       "      <td>Kadem TB &amp; Leprosy Dispensary</td>\n",
       "      <td>7</td>\n",
       "      <td>21</td>\n",
       "      <td>13</td>\n",
       "      <td>6</td>\n",
       "      <td>1428</td>\n",
       "      <td>1447</td>\n",
       "      <td>1435</td>\n",
       "      <td>1428</td>\n",
       "      <td>Kadem Tb &amp; Leprosy Dispensary</td>\n",
       "      <td>Migori</td>\n",
       "      <td>Nyatike</td>\n",
       "      <td>Kenya Episcopal Conference-Catholic Secretariat</td>\n",
       "      <td>-1.00538</td>\n",
       "      <td>34.24691</td>\n",
       "      <td>KCCB ACTS</td>\n",
       "      <td>Kadem TB &amp; Leprosy Dispensary</td>\n",
       "      <td>Kisii</td>\n",
       "    </tr>\n",
       "    <tr>\n",
       "      <th>51</th>\n",
       "      <td>13977</td>\n",
       "      <td>OLPS Clinic</td>\n",
       "      <td>12</td>\n",
       "      <td>12</td>\n",
       "      <td>11</td>\n",
       "      <td>8</td>\n",
       "      <td>1476</td>\n",
       "      <td>1495</td>\n",
       "      <td>1492</td>\n",
       "      <td>1483</td>\n",
       "      <td>Olps Clinic</td>\n",
       "      <td>Kisumu</td>\n",
       "      <td>Kisumu East</td>\n",
       "      <td>Kenya Episcopal Conference-Catholic Secretariat</td>\n",
       "      <td>-0.07817</td>\n",
       "      <td>34.79355</td>\n",
       "      <td>KCCB ACTS</td>\n",
       "      <td>OLPS Clinic</td>\n",
       "      <td>Kisumu</td>\n",
       "    </tr>\n",
       "  </tbody>\n",
       "</table>\n",
       "</div>"
      ],
      "text/plain": [
       "    mfl_code                facility_name_x  txnew2023Q1  txnew2023Q2  \\\n",
       "35     13640  Kadem TB & Leprosy Dispensary            7           21   \n",
       "51     13977                    OLPS Clinic           12           12   \n",
       "\n",
       "    txnew2023Q3  txnew2023Q4  2023Q1  2023Q2  2023Q3  2023Q4  \\\n",
       "35           13            6    1428    1447    1435    1428   \n",
       "51           11            8    1476    1495    1492    1483   \n",
       "\n",
       "                     FacilityName  County    SubCounty  \\\n",
       "35  Kadem Tb & Leprosy Dispensary  Migori      Nyatike   \n",
       "51                    Olps Clinic  Kisumu  Kisumu East   \n",
       "\n",
       "                                              Owner      lat       lon  \\\n",
       "35  Kenya Episcopal Conference-Catholic Secretariat -1.00538  34.24691   \n",
       "51  Kenya Episcopal Conference-Catholic Secretariat -0.07817  34.79355   \n",
       "\n",
       "          SDP                facility_name_y  region  \n",
       "35  KCCB ACTS  Kadem TB & Leprosy Dispensary   Kisii  \n",
       "51  KCCB ACTS                    OLPS Clinic  Kisumu  "
      ]
     },
     "execution_count": 28,
     "metadata": {},
     "output_type": "execute_result"
    }
   ],
   "source": [
    "kccbsites_df.sample(2)"
   ]
  },
  {
   "cell_type": "code",
   "execution_count": 29,
   "id": "7b2964b1-b1db-4e56-84a8-fb78a560f7e2",
   "metadata": {},
   "outputs": [
    {
     "data": {
      "text/plain": [
       "region\n",
       "False    105\n",
       "Name: count, dtype: int64"
      ]
     },
     "execution_count": 29,
     "metadata": {},
     "output_type": "execute_result"
    }
   ],
   "source": [
    "#check for any missing values\n",
    "kccbsites_df.region.isna().value_counts()"
   ]
  },
  {
   "cell_type": "code",
   "execution_count": 30,
   "id": "f4aeb242-51a2-41cd-bd72-08038115daab",
   "metadata": {},
   "outputs": [
    {
     "data": {
      "text/plain": [
       "mfl_code             int64\n",
       "facility_name_x     object\n",
       "txnew2023Q1          int64\n",
       "txnew2023Q2          int64\n",
       "txnew2023Q3          int64\n",
       "txnew2023Q4          int64\n",
       "2023Q1               int64\n",
       "2023Q2               int64\n",
       "2023Q3               int64\n",
       "2023Q4               int64\n",
       "FacilityName        object\n",
       "County              object\n",
       "SubCounty           object\n",
       "Owner               object\n",
       "lat                float64\n",
       "lon                float64\n",
       "SDP                 object\n",
       "facility_name_y     object\n",
       "region              object\n",
       "dtype: object"
      ]
     },
     "execution_count": 30,
     "metadata": {},
     "output_type": "execute_result"
    }
   ],
   "source": [
    "#our columns and their respective data types\n",
    "kccbsites_df.dtypes"
   ]
  },
  {
   "cell_type": "code",
   "execution_count": 31,
   "id": "b31057b5-d44d-4604-ad3f-bc000f6f871b",
   "metadata": {},
   "outputs": [],
   "source": [
    "#mfl_code to str since no mathematical operations should be done on it\n",
    "kccbsites_df.mfl_code = kccbsites_df.mfl_code.apply(str)"
   ]
  },
  {
   "cell_type": "code",
   "execution_count": 32,
   "id": "0b13ec49-c2c6-4917-a533-6e8a31c86f6a",
   "metadata": {},
   "outputs": [],
   "source": [
    "kccbsites_df = kccbsites_df.drop(['FacilityName','facility_name_y'], axis=1)"
   ]
  },
  {
   "cell_type": "code",
   "execution_count": 33,
   "id": "d619c9c2-05fb-483d-b413-241af6c9627a",
   "metadata": {},
   "outputs": [
    {
     "data": {
      "text/plain": [
       "array(['Nyeri', 'Kirinyaga', \"Murang'a\", 'Kiambu', 'Nairobi', 'Narok',\n",
       "       'Nakuru', 'Kajiado'], dtype=object)"
      ]
     },
     "execution_count": 33,
     "metadata": {},
     "output_type": "execute_result"
    }
   ],
   "source": [
    "#checking to see if our assigning of region is correct\n",
    "filter = 'Nairobi'\n",
    "\n",
    "(kccbsites_df\n",
    " .query('region==@filter')['County'].unique())"
   ]
  },
  {
   "cell_type": "code",
   "execution_count": 34,
   "id": "9f1ef910-1a62-4beb-a08d-7472af13710d",
   "metadata": {},
   "outputs": [],
   "source": [
    "kccbsites_df.rename(columns={'facility_name_x':'facility_name',\n",
    "                        'County':'county',\n",
    "                        'SubCounty':'sub_county',\n",
    "                        'Owner':'owner'}, inplace=True)"
   ]
  },
  {
   "cell_type": "markdown",
   "id": "5587e2d8-8939-4746-8049-36b8f8912f3b",
   "metadata": {},
   "source": [
    "# our final dataframe"
   ]
  },
  {
   "cell_type": "code",
   "execution_count": 35,
   "id": "70a65f45",
   "metadata": {},
   "outputs": [],
   "source": [
    "#isolate the relevant columns only\n",
    "#save to excel file\n",
    "prepd_data = (kccbsites_df[['mfl_code', 'facility_name', 'region',\n",
    "       'county', 'sub_county', 'owner', 'lat', 'lon', 'txnew2023Q1', 'txnew2023Q2',\n",
    "       'txnew2023Q3', 'txnew2023Q4', '2023Q1', '2023Q2', '2023Q3', '2023Q4']])\n",
    "\n",
    "\n",
    "prepd_data.to_excel('processed_data/cleaned_data.xlsx', index=False)"
   ]
  },
  {
   "cell_type": "code",
   "execution_count": 36,
   "id": "2b9ed4bc-5faf-40d6-8689-9f663b143352",
   "metadata": {},
   "outputs": [],
   "source": [
    "#prepd_data.memory_usage(deep=True).sum()"
   ]
  },
  {
   "cell_type": "code",
   "execution_count": 37,
   "id": "89d32097-1e31-4876-a525-b3fb38b73a28",
   "metadata": {},
   "outputs": [
    {
     "data": {
      "text/html": [
       "<div>\n",
       "<style scoped>\n",
       "    .dataframe tbody tr th:only-of-type {\n",
       "        vertical-align: middle;\n",
       "    }\n",
       "\n",
       "    .dataframe tbody tr th {\n",
       "        vertical-align: top;\n",
       "    }\n",
       "\n",
       "    .dataframe thead th {\n",
       "        text-align: right;\n",
       "    }\n",
       "</style>\n",
       "<table border=\"1\" class=\"dataframe\">\n",
       "  <thead>\n",
       "    <tr style=\"text-align: right;\">\n",
       "      <th></th>\n",
       "      <th>mfl_code</th>\n",
       "      <th>facility_name</th>\n",
       "      <th>region</th>\n",
       "      <th>county</th>\n",
       "      <th>sub_county</th>\n",
       "      <th>owner</th>\n",
       "      <th>lat</th>\n",
       "      <th>lon</th>\n",
       "      <th>txnew2023Q1</th>\n",
       "      <th>txnew2023Q2</th>\n",
       "      <th>txnew2023Q3</th>\n",
       "      <th>txnew2023Q4</th>\n",
       "      <th>2023Q1</th>\n",
       "      <th>2023Q2</th>\n",
       "      <th>2023Q3</th>\n",
       "      <th>2023Q4</th>\n",
       "      <th>txnew_total</th>\n",
       "    </tr>\n",
       "  </thead>\n",
       "  <tbody>\n",
       "    <tr>\n",
       "      <th>0</th>\n",
       "      <td>10100</td>\n",
       "      <td>Consolata Mission Hospital (Mathari)</td>\n",
       "      <td>Nairobi</td>\n",
       "      <td>Nyeri</td>\n",
       "      <td>Nyeri Central</td>\n",
       "      <td>Kenya Episcopal Conference-Catholic Secretariat</td>\n",
       "      <td>-0.413830</td>\n",
       "      <td>36.919700</td>\n",
       "      <td>8</td>\n",
       "      <td>5</td>\n",
       "      <td>5</td>\n",
       "      <td>2</td>\n",
       "      <td>1336</td>\n",
       "      <td>1339</td>\n",
       "      <td>1337</td>\n",
       "      <td>1323</td>\n",
       "      <td>20</td>\n",
       "    </tr>\n",
       "    <tr>\n",
       "      <th>1</th>\n",
       "      <td>10221</td>\n",
       "      <td>Gatithi Dispensary</td>\n",
       "      <td>Nairobi</td>\n",
       "      <td>Kirinyaga</td>\n",
       "      <td>Kirinyaga West</td>\n",
       "      <td>Ministry of Health</td>\n",
       "      <td>-0.583200</td>\n",
       "      <td>37.191380</td>\n",
       "      <td>3</td>\n",
       "      <td>1</td>\n",
       "      <td>5</td>\n",
       "      <td>2</td>\n",
       "      <td>148</td>\n",
       "      <td>155</td>\n",
       "      <td>163</td>\n",
       "      <td>163</td>\n",
       "      <td>11</td>\n",
       "    </tr>\n",
       "    <tr>\n",
       "      <th>2</th>\n",
       "      <td>10267</td>\n",
       "      <td>Githumu Hospital</td>\n",
       "      <td>Nairobi</td>\n",
       "      <td>Murang'a</td>\n",
       "      <td>Kandara</td>\n",
       "      <td>Christian Health Association of Kenya</td>\n",
       "      <td>-0.826860</td>\n",
       "      <td>36.913380</td>\n",
       "      <td>9</td>\n",
       "      <td>6</td>\n",
       "      <td>3</td>\n",
       "      <td>5</td>\n",
       "      <td>542</td>\n",
       "      <td>545</td>\n",
       "      <td>550</td>\n",
       "      <td>554</td>\n",
       "      <td>23</td>\n",
       "    </tr>\n",
       "    <tr>\n",
       "      <th>3</th>\n",
       "      <td>10321</td>\n",
       "      <td>Holy Cross Dispensary</td>\n",
       "      <td>Nairobi</td>\n",
       "      <td>Kiambu</td>\n",
       "      <td>Limuru</td>\n",
       "      <td>Kenya Episcopal Conference-Catholic Secretariat</td>\n",
       "      <td>-1.188910</td>\n",
       "      <td>36.597730</td>\n",
       "      <td>1</td>\n",
       "      <td>2</td>\n",
       "      <td>1</td>\n",
       "      <td>2</td>\n",
       "      <td>311</td>\n",
       "      <td>308</td>\n",
       "      <td>307</td>\n",
       "      <td>307</td>\n",
       "      <td>6</td>\n",
       "    </tr>\n",
       "    <tr>\n",
       "      <th>4</th>\n",
       "      <td>10398</td>\n",
       "      <td>Kagio Catholic Dispensary (Mary Immucate Catho...</td>\n",
       "      <td>Nairobi</td>\n",
       "      <td>Kirinyaga</td>\n",
       "      <td>Kirinyaga West</td>\n",
       "      <td>Kenya Episcopal Conference-Catholic Secretariat</td>\n",
       "      <td>-0.631120</td>\n",
       "      <td>37.253870</td>\n",
       "      <td>3</td>\n",
       "      <td>3</td>\n",
       "      <td>2</td>\n",
       "      <td>0</td>\n",
       "      <td>314</td>\n",
       "      <td>316</td>\n",
       "      <td>317</td>\n",
       "      <td>318</td>\n",
       "      <td>8</td>\n",
       "    </tr>\n",
       "    <tr>\n",
       "      <th>...</th>\n",
       "      <td>...</td>\n",
       "      <td>...</td>\n",
       "      <td>...</td>\n",
       "      <td>...</td>\n",
       "      <td>...</td>\n",
       "      <td>...</td>\n",
       "      <td>...</td>\n",
       "      <td>...</td>\n",
       "      <td>...</td>\n",
       "      <td>...</td>\n",
       "      <td>...</td>\n",
       "      <td>...</td>\n",
       "      <td>...</td>\n",
       "      <td>...</td>\n",
       "      <td>...</td>\n",
       "      <td>...</td>\n",
       "      <td>...</td>\n",
       "    </tr>\n",
       "    <tr>\n",
       "      <th>100</th>\n",
       "      <td>20364</td>\n",
       "      <td>Ringa Dispensary</td>\n",
       "      <td>HomaBay</td>\n",
       "      <td>Homa Bay</td>\n",
       "      <td>Kabondo Kasipul</td>\n",
       "      <td>Kenya Episcopal Conference-Catholic Secretariat</td>\n",
       "      <td>-0.474640</td>\n",
       "      <td>34.851500</td>\n",
       "      <td>4</td>\n",
       "      <td>3</td>\n",
       "      <td>8</td>\n",
       "      <td>2</td>\n",
       "      <td>839</td>\n",
       "      <td>835</td>\n",
       "      <td>845</td>\n",
       "      <td>841</td>\n",
       "      <td>17</td>\n",
       "    </tr>\n",
       "    <tr>\n",
       "      <th>101</th>\n",
       "      <td>20692</td>\n",
       "      <td>Vigetse Medical Clinic</td>\n",
       "      <td>Western</td>\n",
       "      <td>Vihiga</td>\n",
       "      <td>Vihiga</td>\n",
       "      <td>Nursing Council of Kenya</td>\n",
       "      <td>-0.000603</td>\n",
       "      <td>34.673500</td>\n",
       "      <td>10</td>\n",
       "      <td>4</td>\n",
       "      <td>4</td>\n",
       "      <td>2</td>\n",
       "      <td>519</td>\n",
       "      <td>525</td>\n",
       "      <td>528</td>\n",
       "      <td>529</td>\n",
       "      <td>20</td>\n",
       "    </tr>\n",
       "    <tr>\n",
       "      <th>102</th>\n",
       "      <td>20836</td>\n",
       "      <td>St Monica Hospital (Town Clinic)</td>\n",
       "      <td>Kisumu</td>\n",
       "      <td>Kisumu</td>\n",
       "      <td>Kisumu Central</td>\n",
       "      <td>Kenya MPDB - Institution</td>\n",
       "      <td>-0.091900</td>\n",
       "      <td>34.765980</td>\n",
       "      <td>8</td>\n",
       "      <td>9</td>\n",
       "      <td>6</td>\n",
       "      <td>8</td>\n",
       "      <td>1116</td>\n",
       "      <td>1118</td>\n",
       "      <td>1112</td>\n",
       "      <td>1115</td>\n",
       "      <td>31</td>\n",
       "    </tr>\n",
       "    <tr>\n",
       "      <th>103</th>\n",
       "      <td>22771</td>\n",
       "      <td>St Joseph Catholic Dispensary (Maungu)</td>\n",
       "      <td>Mombasa</td>\n",
       "      <td>Taita Taveta</td>\n",
       "      <td>Voi</td>\n",
       "      <td>Kenya Episcopal Conference-Catholic Secretariat</td>\n",
       "      <td>-3.568415</td>\n",
       "      <td>38.744856</td>\n",
       "      <td>4</td>\n",
       "      <td>3</td>\n",
       "      <td>3</td>\n",
       "      <td>2</td>\n",
       "      <td>281</td>\n",
       "      <td>278</td>\n",
       "      <td>279</td>\n",
       "      <td>284</td>\n",
       "      <td>12</td>\n",
       "    </tr>\n",
       "    <tr>\n",
       "      <th>104</th>\n",
       "      <td>23285</td>\n",
       "      <td>Chaani Catholic Dispensary CBHC</td>\n",
       "      <td>Mombasa</td>\n",
       "      <td>Mombasa</td>\n",
       "      <td>Changamwe</td>\n",
       "      <td>Kenya Episcopal Conference-Catholic Secretariat</td>\n",
       "      <td>-4.032120</td>\n",
       "      <td>39.628210</td>\n",
       "      <td>12</td>\n",
       "      <td>8</td>\n",
       "      <td>8</td>\n",
       "      <td>5</td>\n",
       "      <td>649</td>\n",
       "      <td>671</td>\n",
       "      <td>678</td>\n",
       "      <td>681</td>\n",
       "      <td>33</td>\n",
       "    </tr>\n",
       "  </tbody>\n",
       "</table>\n",
       "<p>105 rows × 17 columns</p>\n",
       "</div>"
      ],
      "text/plain": [
       "    mfl_code                                      facility_name   region  \\\n",
       "0      10100               Consolata Mission Hospital (Mathari)  Nairobi   \n",
       "1      10221                                 Gatithi Dispensary  Nairobi   \n",
       "2      10267                                   Githumu Hospital  Nairobi   \n",
       "3      10321                              Holy Cross Dispensary  Nairobi   \n",
       "4      10398  Kagio Catholic Dispensary (Mary Immucate Catho...  Nairobi   \n",
       "..       ...                                                ...      ...   \n",
       "100    20364                                   Ringa Dispensary  HomaBay   \n",
       "101    20692                             Vigetse Medical Clinic  Western   \n",
       "102    20836                   St Monica Hospital (Town Clinic)   Kisumu   \n",
       "103    22771             St Joseph Catholic Dispensary (Maungu)  Mombasa   \n",
       "104    23285                    Chaani Catholic Dispensary CBHC  Mombasa   \n",
       "\n",
       "           county       sub_county  \\\n",
       "0           Nyeri    Nyeri Central   \n",
       "1       Kirinyaga   Kirinyaga West   \n",
       "2        Murang'a          Kandara   \n",
       "3          Kiambu           Limuru   \n",
       "4       Kirinyaga   Kirinyaga West   \n",
       "..            ...              ...   \n",
       "100      Homa Bay  Kabondo Kasipul   \n",
       "101        Vihiga           Vihiga   \n",
       "102        Kisumu   Kisumu Central   \n",
       "103  Taita Taveta              Voi   \n",
       "104       Mombasa        Changamwe   \n",
       "\n",
       "                                               owner       lat        lon  \\\n",
       "0    Kenya Episcopal Conference-Catholic Secretariat -0.413830  36.919700   \n",
       "1                                 Ministry of Health -0.583200  37.191380   \n",
       "2              Christian Health Association of Kenya -0.826860  36.913380   \n",
       "3    Kenya Episcopal Conference-Catholic Secretariat -1.188910  36.597730   \n",
       "4    Kenya Episcopal Conference-Catholic Secretariat -0.631120  37.253870   \n",
       "..                                               ...       ...        ...   \n",
       "100  Kenya Episcopal Conference-Catholic Secretariat -0.474640  34.851500   \n",
       "101                         Nursing Council of Kenya -0.000603  34.673500   \n",
       "102                         Kenya MPDB - Institution -0.091900  34.765980   \n",
       "103  Kenya Episcopal Conference-Catholic Secretariat -3.568415  38.744856   \n",
       "104  Kenya Episcopal Conference-Catholic Secretariat -4.032120  39.628210   \n",
       "\n",
       "     txnew2023Q1  txnew2023Q2  txnew2023Q3  txnew2023Q4  2023Q1  2023Q2  \\\n",
       "0              8            5            5            2    1336    1339   \n",
       "1              3            1            5            2     148     155   \n",
       "2              9            6            3            5     542     545   \n",
       "3              1            2            1            2     311     308   \n",
       "4              3            3            2            0     314     316   \n",
       "..           ...          ...          ...          ...     ...     ...   \n",
       "100            4            3            8            2     839     835   \n",
       "101           10            4            4            2     519     525   \n",
       "102            8            9            6            8    1116    1118   \n",
       "103            4            3            3            2     281     278   \n",
       "104           12            8            8            5     649     671   \n",
       "\n",
       "     2023Q3  2023Q4  txnew_total  \n",
       "0      1337    1323           20  \n",
       "1       163     163           11  \n",
       "2       550     554           23  \n",
       "3       307     307            6  \n",
       "4       317     318            8  \n",
       "..      ...     ...          ...  \n",
       "100     845     841           17  \n",
       "101     528     529           20  \n",
       "102    1112    1115           31  \n",
       "103     279     284           12  \n",
       "104     678     681           33  \n",
       "\n",
       "[105 rows x 17 columns]"
      ]
     },
     "execution_count": 37,
     "metadata": {},
     "output_type": "execute_result"
    }
   ],
   "source": [
    "#some light feature engineering, using np.sum and assign to make a new column to sums the columns of txnew for the quarter\n",
    "#axis=0 would sum the rows\n",
    "prepd_data.assign(txnew_total = np.sum(prepd_data[['txnew2023Q1', 'txnew2023Q2','txnew2023Q3', 'txnew2023Q4']], axis=1))"
   ]
  },
  {
   "cell_type": "code",
   "execution_count": 38,
   "id": "19d0d40a-add4-4140-b48e-ca81d98313c4",
   "metadata": {},
   "outputs": [
    {
     "name": "stdout",
     "output_type": "stream",
     "text": [
      "Tx New Total for the sites by 2023Q4 is: 4081\n"
     ]
    }
   ],
   "source": [
    "print(f\"Tx New Total for the sites by 2023Q4 is: {np.sum(prepd_data[['txnew2023Q1', 'txnew2023Q2','txnew2023Q3', 'txnew2023Q4']], axis=1).sum()}\")"
   ]
  },
  {
   "cell_type": "code",
   "execution_count": 39,
   "id": "0d49f649-26f4-435b-acc2-bf9d986c7472",
   "metadata": {},
   "outputs": [
    {
     "data": {
      "text/plain": [
       "<Axes: >"
      ]
     },
     "execution_count": 39,
     "metadata": {},
     "output_type": "execute_result"
    },
    {
     "data": {
      "image/png": "[encoded data removed]",
      "text/plain": [
       "<Figure size 640x480 with 1 Axes>"
      ]
     },
     "metadata": {},
     "output_type": "display_data"
    }
   ],
   "source": [
    "#txq4 total by region\n",
    "prepd_data.groupby(by=['region'])['2023Q4'].sum().reset_index().plot.barh()"
   ]
  },
  {
   "cell_type": "code",
   "execution_count": 40,
   "id": "d7d9679c-dcf6-4876-b10b-93c646edbb07",
   "metadata": {},
   "outputs": [
    {
     "data": {
      "text/plain": [
       "([0, 1, 2, 3, 4, 5, 6],\n",
       " [Text(0, 0, 'Nairobi'),\n",
       "  Text(1, 0, 'Mombasa'),\n",
       "  Text(2, 0, 'Siaya'),\n",
       "  Text(3, 0, 'HomaBay'),\n",
       "  Text(4, 0, 'Kisumu'),\n",
       "  Text(5, 0, 'Kisii'),\n",
       "  Text(6, 0, 'Western')])"
      ]
     },
     "execution_count": 40,
     "metadata": {},
     "output_type": "execute_result"
    },
    {
     "data": {
      "image/png": "[encoded data removed]",
      "text/plain": [
       "<Figure size 400x1000 with 1 Axes>"
      ]
     },
     "metadata": {},
     "output_type": "display_data"
    }
   ],
   "source": [
    "prepd_data[['region','2023Q4']].plot.scatter(x='region', y='2023Q4',figsize=(4,10))\n",
    "plt.title(\"TX current distribution across Counties\")\n",
    "plt.xticks(rotation=90)"
   ]
  },
  {
   "cell_type": "code",
   "execution_count": 41,
   "id": "ae0d8b07-2119-4c85-b073-8f2b44c96c30",
   "metadata": {},
   "outputs": [
    {
     "data": {
      "text/plain": [
       "36    5003\n",
       "63    3968\n",
       "84    3747\n",
       "92    3641\n",
       "27    3583\n",
       "60    3467\n",
       "40    3130\n",
       "65    2790\n",
       "52    2750\n",
       "86    2668\n",
       "Name: 2023Q4, dtype: int64"
      ]
     },
     "execution_count": 41,
     "metadata": {},
     "output_type": "execute_result"
    }
   ],
   "source": [
    "prepd_data['2023Q4'].nlargest(10)"
   ]
  },
  {
   "cell_type": "markdown",
   "id": "9abda493-4476-436c-af37-747c754dac30",
   "metadata": {
    "jupyter": {
     "source_hidden": true
    },
    "tags": []
   },
   "source": [
    "#### our streamlit app will mainly be using altair charts"
   ]
  },
  {
   "cell_type": "code",
   "execution_count": 42,
   "id": "fbc2a1a3-495e-4cb1-9e78-8793e4c3d313",
   "metadata": {},
   "outputs": [],
   "source": [
    "import altair as alt"
   ]
  },
  {
   "cell_type": "code",
   "execution_count": 43,
   "id": "bbcb65f4-aa3a-4c68-a692-e2fcd3c1dfca",
   "metadata": {},
   "outputs": [
    {
     "data": {
      "text/html": [
       "\n",
       "<style>\n",
       "  #altair-viz-f2b6495ab2934abd8dfa66d10170efc8.vega-embed {\n",
       "    width: 100%;\n",
       "    display: flex;\n",
       "  }\n",
       "\n",
       "  #altair-viz-f2b6495ab2934abd8dfa66d10170efc8.vega-embed details,\n",
       "  #altair-viz-f2b6495ab2934abd8dfa66d10170efc8.vega-embed details summary {\n",
       "    position: relative;\n",
       "  }\n",
       "</style>\n",
       "<div id=\"altair-viz-f2b6495ab2934abd8dfa66d10170efc8\"></div>\n",
       "<script type=\"text/javascript\">\n",
       "  var VEGA_DEBUG = (typeof VEGA_DEBUG == \"undefined\") ? {} : VEGA_DEBUG;\n",
       "  (function(spec, embedOpt){\n",
       "    let outputDiv = document.currentScript.previousElementSibling;\n",
       "    if (outputDiv.id !== \"altair-viz-f2b6495ab2934abd8dfa66d10170efc8\") {\n",
       "      outputDiv = document.getElementById(\"altair-viz-f2b6495ab2934abd8dfa66d10170efc8\");\n",
       "    }\n",
       "    const paths = {\n",
       "      \"vega\": \"https://cdn.jsdelivr.net/npm/vega@5?noext\",\n",
       "      \"vega-lib\": \"https://cdn.jsdelivr.net/npm/vega-lib?noext\",\n",
       "      \"vega-lite\": \"https://cdn.jsdelivr.net/npm/vega-lite@5.14.1?noext\",\n",
       "      \"vega-embed\": \"https://cdn.jsdelivr.net/npm/vega-embed@6?noext\",\n",
       "    };\n",
       "\n",
       "    function maybeLoadScript(lib, version) {\n",
       "      var key = `${lib.replace(\"-\", \"\")}_version`;\n",
       "      return (VEGA_DEBUG[key] == version) ?\n",
       "        Promise.resolve(paths[lib]) :\n",
       "        new Promise(function(resolve, reject) {\n",
       "          var s = document.createElement('script');\n",
       "          document.getElementsByTagName(\"head\")[0].appendChild(s);\n",
       "          s.async = true;\n",
       "          s.onload = () => {\n",
       "            VEGA_DEBUG[key] = version;\n",
       "            return resolve(paths[lib]);\n",
       "          };\n",
       "          s.onerror = () => reject(`Error loading script: ${paths[lib]}`);\n",
       "          s.src = paths[lib];\n",
       "        });\n",
       "    }\n",
       "\n",
       "    function showError(err) {\n",
       "      outputDiv.innerHTML = `<div class=\"error\" style=\"color:red;\">${err}</div>`;\n",
       "      throw err;\n",
       "    }\n",
       "\n",
       "    function displayChart(vegaEmbed) {\n",
       "      vegaEmbed(outputDiv, spec, embedOpt)\n",
       "        .catch(err => showError(`Javascript Error: ${err.message}<br>This usually means there's a typo in your chart specification. See the javascript console for the full traceback.`));\n",
       "    }\n",
       "\n",
       "    if(typeof define === \"function\" && define.amd) {\n",
       "      requirejs.config({paths});\n",
       "      require([\"vega-embed\"], displayChart, err => showError(`Error loading script: ${err.message}`));\n",
       "    } else {\n",
       "      maybeLoadScript(\"vega\", \"5\")\n",
       "        .then(() => maybeLoadScript(\"vega-lite\", \"5.14.1\"))\n",
       "        .then(() => maybeLoadScript(\"vega-embed\", \"6\"))\n",
       "        .catch(showError)\n",
       "        .then(() => displayChart(vegaEmbed));\n",
       "    }\n",
       "  })({\"config\": {\"view\": {\"continuousWidth\": 300, \"continuousHeight\": 300}}, \"layer\": [{\"mark\": {\"type\": \"bar\"}, \"encoding\": {\"x\": {\"field\": \"b\", \"scale\": {\"domain\": [0, 60]}, \"type\": \"quantitative\"}, \"y\": {\"field\": \"a\", \"type\": \"nominal\"}}}, {\"mark\": {\"type\": \"text\", \"align\": \"left\", \"baseline\": \"middle\", \"dx\": 3}, \"encoding\": {\"text\": {\"field\": \"b\", \"type\": \"quantitative\"}, \"x\": {\"field\": \"b\", \"scale\": {\"domain\": [0, 60]}, \"type\": \"quantitative\"}, \"y\": {\"field\": \"a\", \"type\": \"nominal\"}}}], \"data\": {\"name\": \"data-0b6f1883e352d1ecc129ccc25e6cf6ea\"}, \"$schema\": \"https://vega.github.io/schema/vega-lite/v5.14.1.json\", \"datasets\": {\"data-0b6f1883e352d1ecc129ccc25e6cf6ea\": [{\"a\": \"A\", \"b\": 28}, {\"a\": \"B\", \"b\": 55}, {\"a\": \"C\", \"b\": 43}]}}, {\"mode\": \"vega-lite\"});\n",
       "</script>"
      ],
      "text/plain": [
       "alt.LayerChart(...)"
      ]
     },
     "execution_count": 43,
     "metadata": {},
     "output_type": "execute_result"
    }
   ],
   "source": [
    "#the general flow of an altair chart\n",
    "source = pd.DataFrame({\n",
    "    \"a\": [\"A\", \"B\", \"C\"],\n",
    "    \"b\": [28, 55, 43]\n",
    "})\n",
    "\n",
    "bar = alt.Chart(source).mark_bar().encode(\n",
    "    y=\"a:N\",\n",
    "    x=alt.X(\"b:Q\").scale(domain=[0, 60])\n",
    ")\n",
    "text = bar.mark_text(\n",
    "    align=\"left\",\n",
    "    baseline=\"middle\",\n",
    "    dx=3\n",
    ").encode(text=\"b\")\n",
    "\n",
    "bar + text"
   ]
  },
  {
   "cell_type": "code",
   "execution_count": 44,
   "id": "9ce1f660-608a-4f33-bb8d-264394ed37ce",
   "metadata": {},
   "outputs": [
    {
     "data": {
      "text/html": [
       "\n",
       "<style>\n",
       "  #altair-viz-085addf6a2b749d299b749234de4ba0c.vega-embed {\n",
       "    width: 100%;\n",
       "    display: flex;\n",
       "  }\n",
       "\n",
       "  #altair-viz-085addf6a2b749d299b749234de4ba0c.vega-embed details,\n",
       "  #altair-viz-085addf6a2b749d299b749234de4ba0c.vega-embed details summary {\n",
       "    position: relative;\n",
       "  }\n",
       "</style>\n",
       "<div id=\"altair-viz-085addf6a2b749d299b749234de4ba0c\"></div>\n",
       "<script type=\"text/javascript\">\n",
       "  var VEGA_DEBUG = (typeof VEGA_DEBUG == \"undefined\") ? {} : VEGA_DEBUG;\n",
       "  (function(spec, embedOpt){\n",
       "    let outputDiv = document.currentScript.previousElementSibling;\n",
       "    if (outputDiv.id !== \"altair-viz-085addf6a2b749d299b749234de4ba0c\") {\n",
       "      outputDiv = document.getElementById(\"altair-viz-085addf6a2b749d299b749234de4ba0c\");\n",
       "    }\n",
       "    const paths = {\n",
       "      \"vega\": \"https://cdn.jsdelivr.net/npm/vega@5?noext\",\n",
       "      \"vega-lib\": \"https://cdn.jsdelivr.net/npm/vega-lib?noext\",\n",
       "      \"vega-lite\": \"https://cdn.jsdelivr.net/npm/vega-lite@5.14.1?noext\",\n",
       "      \"vega-embed\": \"https://cdn.jsdelivr.net/npm/vega-embed@6?noext\",\n",
       "    };\n",
       "\n",
       "    function maybeLoadScript(lib, version) {\n",
       "      var key = `${lib.replace(\"-\", \"\")}_version`;\n",
       "      return (VEGA_DEBUG[key] == version) ?\n",
       "        Promise.resolve(paths[lib]) :\n",
       "        new Promise(function(resolve, reject) {\n",
       "          var s = document.createElement('script');\n",
       "          document.getElementsByTagName(\"head\")[0].appendChild(s);\n",
       "          s.async = true;\n",
       "          s.onload = () => {\n",
       "            VEGA_DEBUG[key] = version;\n",
       "            return resolve(paths[lib]);\n",
       "          };\n",
       "          s.onerror = () => reject(`Error loading script: ${paths[lib]}`);\n",
       "          s.src = paths[lib];\n",
       "        });\n",
       "    }\n",
       "\n",
       "    function showError(err) {\n",
       "      outputDiv.innerHTML = `<div class=\"error\" style=\"color:red;\">${err}</div>`;\n",
       "      throw err;\n",
       "    }\n",
       "\n",
       "    function displayChart(vegaEmbed) {\n",
       "      vegaEmbed(outputDiv, spec, embedOpt)\n",
       "        .catch(err => showError(`Javascript Error: ${err.message}<br>This usually means there's a typo in your chart specification. See the javascript console for the full traceback.`));\n",
       "    }\n",
       "\n",
       "    if(typeof define === \"function\" && define.amd) {\n",
       "      requirejs.config({paths});\n",
       "      require([\"vega-embed\"], displayChart, err => showError(`Error loading script: ${err.message}`));\n",
       "    } else {\n",
       "      maybeLoadScript(\"vega\", \"5\")\n",
       "        .then(() => maybeLoadScript(\"vega-lite\", \"5.14.1\"))\n",
       "        .then(() => maybeLoadScript(\"vega-embed\", \"6\"))\n",
       "        .catch(showError)\n",
       "        .then(() => displayChart(vegaEmbed));\n",
       "    }\n",
       "  })({\"config\": {\"view\": {\"continuousWidth\": 300, \"continuousHeight\": 300}}, \"layer\": [{\"mark\": {\"type\": \"bar\"}, \"encoding\": {\"x\": {\"field\": \"2023Q4\", \"type\": \"quantitative\"}, \"y\": {\"field\": \"region\", \"type\": \"nominal\"}}}, {\"mark\": {\"type\": \"text\", \"align\": \"left\", \"baseline\": \"middle\", \"dx\": 3}, \"encoding\": {\"text\": {\"field\": \"2023Q4\", \"type\": \"quantitative\"}, \"x\": {\"field\": \"2023Q4\", \"type\": \"quantitative\"}, \"y\": {\"field\": \"region\", \"type\": \"nominal\"}}}], \"data\": {\"name\": \"data-c3e4917583f9c1cc3f400486cb78b524\"}, \"$schema\": \"https://vega.github.io/schema/vega-lite/v5.14.1.json\", \"datasets\": {\"data-c3e4917583f9c1cc3f400486cb78b524\": [{\"region\": \"HomaBay\", \"2023Q4\": 22458}, {\"region\": \"Kisii\", \"2023Q4\": 19019}, {\"region\": \"Kisumu\", \"2023Q4\": 16871}, {\"region\": \"Mombasa\", \"2023Q4\": 6000}, {\"region\": \"Nairobi\", \"2023Q4\": 50252}, {\"region\": \"Siaya\", \"2023Q4\": 10297}, {\"region\": \"Western\", \"2023Q4\": 16529}]}}, {\"mode\": \"vega-lite\"});\n",
       "</script>"
      ],
      "text/plain": [
       "alt.LayerChart(...)"
      ]
     },
     "execution_count": 44,
     "metadata": {},
     "output_type": "execute_result"
    }
   ],
   "source": [
    "#with our data \n",
    "data = prepd_data.groupby(by=['region'])['2023Q4'].sum().reset_index()\n",
    "\n",
    "bar = alt.Chart(data).mark_bar().encode(\n",
    "    y=\"region:N\",\n",
    "    x=alt.X(\"2023Q4:Q\"))\n",
    "\n",
    "text = bar.mark_text(\n",
    "    align=\"left\",\n",
    "    baseline=\"middle\",\n",
    "    dx=3\n",
    ").encode(text=\"2023Q4\")\n",
    "\n",
    "bar + text"
   ]
  },
  {
   "cell_type": "code",
   "execution_count": 45,
   "id": "9ce1f660-608a-4f33-bb8d-264394ed37ce",
   "metadata": {},
   "outputs": [
    {
     "data": {
      "text/html": [
       "\n",
       "<style>\n",
       "  #altair-viz-de2b47032f694e2f87b4cfa1c5cf6925.vega-embed {\n",
       "    width: 100%;\n",
       "    display: flex;\n",
       "  }\n",
       "\n",
       "  #altair-viz-de2b47032f694e2f87b4cfa1c5cf6925.vega-embed details,\n",
       "  #altair-viz-de2b47032f694e2f87b4cfa1c5cf6925.vega-embed details summary {\n",
       "    position: relative;\n",
       "  }\n",
       "</style>\n",
       "<div id=\"altair-viz-de2b47032f694e2f87b4cfa1c5cf6925\"></div>\n",
       "<script type=\"text/javascript\">\n",
       "  var VEGA_DEBUG = (typeof VEGA_DEBUG == \"undefined\") ? {} : VEGA_DEBUG;\n",
       "  (function(spec, embedOpt){\n",
       "    let outputDiv = document.currentScript.previousElementSibling;\n",
       "    if (outputDiv.id !== \"altair-viz-de2b47032f694e2f87b4cfa1c5cf6925\") {\n",
       "      outputDiv = document.getElementById(\"altair-viz-de2b47032f694e2f87b4cfa1c5cf6925\");\n",
       "    }\n",
       "    const paths = {\n",
       "      \"vega\": \"https://cdn.jsdelivr.net/npm/vega@5?noext\",\n",
       "      \"vega-lib\": \"https://cdn.jsdelivr.net/npm/vega-lib?noext\",\n",
       "      \"vega-lite\": \"https://cdn.jsdelivr.net/npm/vega-lite@5.14.1?noext\",\n",
       "      \"vega-embed\": \"https://cdn.jsdelivr.net/npm/vega-embed@6?noext\",\n",
       "    };\n",
       "\n",
       "    function maybeLoadScript(lib, version) {\n",
       "      var key = `${lib.replace(\"-\", \"\")}_version`;\n",
       "      return (VEGA_DEBUG[key] == version) ?\n",
       "        Promise.resolve(paths[lib]) :\n",
       "        new Promise(function(resolve, reject) {\n",
       "          var s = document.createElement('script');\n",
       "          document.getElementsByTagName(\"head\")[0].appendChild(s);\n",
       "          s.async = true;\n",
       "          s.onload = () => {\n",
       "            VEGA_DEBUG[key] = version;\n",
       "            return resolve(paths[lib]);\n",
       "          };\n",
       "          s.onerror = () => reject(`Error loading script: ${paths[lib]}`);\n",
       "          s.src = paths[lib];\n",
       "        });\n",
       "    }\n",
       "\n",
       "    function showError(err) {\n",
       "      outputDiv.innerHTML = `<div class=\"error\" style=\"color:red;\">${err}</div>`;\n",
       "      throw err;\n",
       "    }\n",
       "\n",
       "    function displayChart(vegaEmbed) {\n",
       "      vegaEmbed(outputDiv, spec, embedOpt)\n",
       "        .catch(err => showError(`Javascript Error: ${err.message}<br>This usually means there's a typo in your chart specification. See the javascript console for the full traceback.`));\n",
       "    }\n",
       "\n",
       "    if(typeof define === \"function\" && define.amd) {\n",
       "      requirejs.config({paths});\n",
       "      require([\"vega-embed\"], displayChart, err => showError(`Error loading script: ${err.message}`));\n",
       "    } else {\n",
       "      maybeLoadScript(\"vega\", \"5\")\n",
       "        .then(() => maybeLoadScript(\"vega-lite\", \"5.14.1\"))\n",
       "        .then(() => maybeLoadScript(\"vega-embed\", \"6\"))\n",
       "        .catch(showError)\n",
       "        .then(() => displayChart(vegaEmbed));\n",
       "    }\n",
       "  })({\"config\": {\"view\": {\"continuousWidth\": 300, \"continuousHeight\": 300}}, \"layer\": [{\"mark\": {\"type\": \"bar\"}, \"encoding\": {\"color\": {\"field\": \"County\", \"scale\": {\"scheme\": \"category20c\"}, \"type\": \"nominal\"}, \"x\": {\"axis\": {\"labels\": false}, \"field\": \"count\", \"title\": \"\", \"type\": \"quantitative\"}, \"y\": {\"axis\": {\"labels\": false}, \"field\": \"County\", \"title\": \"\", \"type\": \"nominal\"}}}, {\"mark\": {\"type\": \"text\", \"align\": \"left\", \"baseline\": \"middle\", \"dx\": 3}, \"encoding\": {\"color\": {\"field\": \"County\", \"scale\": {\"scheme\": \"category20c\"}, \"type\": \"nominal\"}, \"text\": {\"field\": \"count\", \"type\": \"quantitative\"}, \"x\": {\"axis\": {\"labels\": false}, \"field\": \"count\", \"title\": \"\", \"type\": \"quantitative\"}, \"y\": {\"axis\": {\"labels\": false}, \"field\": \"County\", \"title\": \"\", \"type\": \"nominal\"}}}], \"data\": {\"name\": \"data-c6015fc7e9e84b2373f40ce47e510498\"}, \"$schema\": \"https://vega.github.io/schema/vega-lite/v5.14.1.json\", \"datasets\": {\"data-c6015fc7e9e84b2373f40ce47e510498\": [{\"County\": \"Homa Bay\", \"count\": 15}, {\"County\": \"Nairobi\", \"count\": 14}, {\"County\": \"Kisumu\", \"count\": 12}, {\"County\": \"Siaya\", \"count\": 11}, {\"County\": \"Kiambu\", \"count\": 11}, {\"County\": \"Migori\", \"count\": 7}, {\"County\": \"Narok\", \"count\": 6}, {\"County\": \"Kirinyaga\", \"count\": 5}, {\"County\": \"Kisii\", \"count\": 4}, {\"County\": \"Kakamega\", \"count\": 4}, {\"County\": \"Mombasa\", \"count\": 3}, {\"County\": \"Taita Taveta\", \"count\": 3}, {\"County\": \"Bungoma\", \"count\": 2}, {\"County\": \"Nyeri\", \"count\": 2}, {\"County\": \"Murang'a\", \"count\": 1}, {\"County\": \"Busia\", \"count\": 1}, {\"County\": \"Nakuru\", \"count\": 1}, {\"County\": \"Kilifi\", \"count\": 1}, {\"County\": \"Kajiado\", \"count\": 1}, {\"County\": \"Vihiga\", \"count\": 1}]}}, {\"mode\": \"vega-lite\"});\n",
       "</script>"
      ],
      "text/plain": [
       "alt.LayerChart(...)"
      ]
     },
     "execution_count": 45,
     "metadata": {},
     "output_type": "execute_result"
    }
   ],
   "source": [
    "#with our data \n",
    "\n",
    "sitescount = kccb_sites.County.value_counts().reset_index()\n",
    "\n",
    "\n",
    "bar = alt.Chart(sitescount).mark_bar().encode(\n",
    "    y=alt.Y(\"County:N\").title(\"\").axis(labels=False),\n",
    "    x=alt.X(\"count:Q\").title(\"\").axis(labels=False),\n",
    "    color=alt.Color(\"County\").scale(scheme=\"category20c\"))\n",
    "\n",
    "bar.configure_legend(\n",
    "         padding=6,\n",
    "         orient='bottom')\n",
    "\n",
    "text = bar.mark_text(\n",
    "    align=\"left\",\n",
    "    baseline=\"middle\",\n",
    "    dx=3\n",
    ").encode(text=\"count\")\n",
    "\n",
    "bar + text"
   ]
  },
  {
   "cell_type": "code",
   "execution_count": 46,
   "id": "9fbc0c4e",
   "metadata": {
    "tags": []
   },
   "outputs": [],
   "source": [
    "quarter_tx = prepd_data.groupby(by=['region'])[['2023Q1','2023Q2','2023Q3','2023Q4']].sum().reset_index()\n"
   ]
  },
  {
   "cell_type": "code",
   "execution_count": 47,
   "id": "949c9b3a",
   "metadata": {},
   "outputs": [
    {
     "data": {
      "text/plain": [
       "<Axes: >"
      ]
     },
     "execution_count": 47,
     "metadata": {},
     "output_type": "execute_result"
    },
    {
     "data": {
      "image/png": "[encoded data removed]",
      "text/plain": [
       "<Figure size 640x480 with 1 Axes>"
      ]
     },
     "metadata": {},
     "output_type": "display_data"
    }
   ],
   "source": [
    "quarter_tx.transpose().loc['2023Q1'].plot.bar()"
   ]
  },
  {
   "cell_type": "code",
   "execution_count": 48,
   "id": "76138214",
   "metadata": {},
   "outputs": [
    {
     "data": {
      "text/html": [
       "\n",
       "<style>\n",
       "  #altair-viz-c2c70e97b97d46f99a71d98d94ece75d.vega-embed {\n",
       "    width: 100%;\n",
       "    display: flex;\n",
       "  }\n",
       "\n",
       "  #altair-viz-c2c70e97b97d46f99a71d98d94ece75d.vega-embed details,\n",
       "  #altair-viz-c2c70e97b97d46f99a71d98d94ece75d.vega-embed details summary {\n",
       "    position: relative;\n",
       "  }\n",
       "</style>\n",
       "<div id=\"altair-viz-c2c70e97b97d46f99a71d98d94ece75d\"></div>\n",
       "<script type=\"text/javascript\">\n",
       "  var VEGA_DEBUG = (typeof VEGA_DEBUG == \"undefined\") ? {} : VEGA_DEBUG;\n",
       "  (function(spec, embedOpt){\n",
       "    let outputDiv = document.currentScript.previousElementSibling;\n",
       "    if (outputDiv.id !== \"altair-viz-c2c70e97b97d46f99a71d98d94ece75d\") {\n",
       "      outputDiv = document.getElementById(\"altair-viz-c2c70e97b97d46f99a71d98d94ece75d\");\n",
       "    }\n",
       "    const paths = {\n",
       "      \"vega\": \"https://cdn.jsdelivr.net/npm/vega@5?noext\",\n",
       "      \"vega-lib\": \"https://cdn.jsdelivr.net/npm/vega-lib?noext\",\n",
       "      \"vega-lite\": \"https://cdn.jsdelivr.net/npm/vega-lite@5.14.1?noext\",\n",
       "      \"vega-embed\": \"https://cdn.jsdelivr.net/npm/vega-embed@6?noext\",\n",
       "    };\n",
       "\n",
       "    function maybeLoadScript(lib, version) {\n",
       "      var key = `${lib.replace(\"-\", \"\")}_version`;\n",
       "      return (VEGA_DEBUG[key] == version) ?\n",
       "        Promise.resolve(paths[lib]) :\n",
       "        new Promise(function(resolve, reject) {\n",
       "          var s = document.createElement('script');\n",
       "          document.getElementsByTagName(\"head\")[0].appendChild(s);\n",
       "          s.async = true;\n",
       "          s.onload = () => {\n",
       "            VEGA_DEBUG[key] = version;\n",
       "            return resolve(paths[lib]);\n",
       "          };\n",
       "          s.onerror = () => reject(`Error loading script: ${paths[lib]}`);\n",
       "          s.src = paths[lib];\n",
       "        });\n",
       "    }\n",
       "\n",
       "    function showError(err) {\n",
       "      outputDiv.innerHTML = `<div class=\"error\" style=\"color:red;\">${err}</div>`;\n",
       "      throw err;\n",
       "    }\n",
       "\n",
       "    function displayChart(vegaEmbed) {\n",
       "      vegaEmbed(outputDiv, spec, embedOpt)\n",
       "        .catch(err => showError(`Javascript Error: ${err.message}<br>This usually means there's a typo in your chart specification. See the javascript console for the full traceback.`));\n",
       "    }\n",
       "\n",
       "    if(typeof define === \"function\" && define.amd) {\n",
       "      requirejs.config({paths});\n",
       "      require([\"vega-embed\"], displayChart, err => showError(`Error loading script: ${err.message}`));\n",
       "    } else {\n",
       "      maybeLoadScript(\"vega\", \"5\")\n",
       "        .then(() => maybeLoadScript(\"vega-lite\", \"5.14.1\"))\n",
       "        .then(() => maybeLoadScript(\"vega-embed\", \"6\"))\n",
       "        .catch(showError)\n",
       "        .then(() => displayChart(vegaEmbed));\n",
       "    }\n",
       "  })({\"config\": {\"view\": {\"continuousWidth\": 300, \"continuousHeight\": 300}}, \"layer\": [{\"mark\": {\"type\": \"arc\", \"innerRadius\": 50}, \"encoding\": {\"color\": {\"field\": \"region\", \"type\": \"nominal\"}, \"theta\": {\"field\": \"2023Q4\", \"type\": \"quantitative\"}}}, {\"mark\": {\"type\": \"text\", \"radius\": 170, \"size\": 12}, \"encoding\": {\"color\": {\"field\": \"region\", \"type\": \"nominal\"}, \"text\": {\"field\": \"2023Q4\", \"type\": \"nominal\"}, \"theta\": {\"field\": \"2023Q4\", \"type\": \"quantitative\"}}}], \"data\": {\"name\": \"data-c3e4917583f9c1cc3f400486cb78b524\"}, \"$schema\": \"https://vega.github.io/schema/vega-lite/v5.14.1.json\", \"datasets\": {\"data-c3e4917583f9c1cc3f400486cb78b524\": [{\"region\": \"HomaBay\", \"2023Q4\": 22458}, {\"region\": \"Kisii\", \"2023Q4\": 19019}, {\"region\": \"Kisumu\", \"2023Q4\": 16871}, {\"region\": \"Mombasa\", \"2023Q4\": 6000}, {\"region\": \"Nairobi\", \"2023Q4\": 50252}, {\"region\": \"Siaya\", \"2023Q4\": 10297}, {\"region\": \"Western\", \"2023Q4\": 16529}]}}, {\"mode\": \"vega-lite\"});\n",
       "</script>"
      ],
      "text/plain": [
       "alt.LayerChart(...)"
      ]
     },
     "execution_count": 48,
     "metadata": {},
     "output_type": "execute_result"
    }
   ],
   "source": [
    "base = alt.Chart(data).mark_arc(innerRadius=50).encode(\n",
    "    theta=alt.Theta(field=\"2023Q4\", type=\"quantitative\"),\n",
    "    color=alt.Color(field=\"region\", type=\"nominal\"),\n",
    ")\n",
    "\n",
    "pie = base.mark_arc(outerRadius=150)\n",
    "text = base.mark_text(radius=170, size=12).encode(\n",
    "    text=\"2023Q4:N\"\n",
    ")\n",
    "\n",
    "base + text"
   ]
  },
  {
   "cell_type": "code",
   "execution_count": 49,
   "id": "601bd017",
   "metadata": {},
   "outputs": [
    {
     "ename": "SchemaValidationError",
     "evalue": "'[[{'field': '2023Q1', 'type': 'quantitative'}, {'field': '2023Q2', 'type': 'quantitative'}, {'field': '2023Q3', 'type': 'quantitative'}, {'field': '2023Q4', 'type': 'quantitative'}]]' is an invalid value for `y`. Valid values are of type 'object'.",
     "output_type": "error",
     "traceback": [
      "\u001b[1;31m---------------------------------------------------------------------------\u001b[0m",
      "\u001b[1;31mSchemaValidationError\u001b[0m                     Traceback (most recent call last)",
      "File \u001b[1;32mc:\\Users\\FatherMammoth\\anaconda3\\envs\\gisenv\\Lib\\site-packages\\altair\\vegalite\\v5\\api.py:2695\u001b[0m, in \u001b[0;36mChart.to_dict\u001b[1;34m(self, validate, format, ignore, context)\u001b[0m\n\u001b[0;32m   2691\u001b[0m     copy\u001b[39m.\u001b[39mdata \u001b[39m=\u001b[39m core\u001b[39m.\u001b[39mInlineData(values\u001b[39m=\u001b[39m[{}])\n\u001b[0;32m   2692\u001b[0m     \u001b[39mreturn\u001b[39;00m \u001b[39msuper\u001b[39m(Chart, copy)\u001b[39m.\u001b[39mto_dict(\n\u001b[0;32m   2693\u001b[0m         validate\u001b[39m=\u001b[39mvalidate, \u001b[39mformat\u001b[39m\u001b[39m=\u001b[39m\u001b[39mformat\u001b[39m, ignore\u001b[39m=\u001b[39mignore, context\u001b[39m=\u001b[39mcontext\n\u001b[0;32m   2694\u001b[0m     )\n\u001b[1;32m-> 2695\u001b[0m \u001b[39mreturn\u001b[39;00m \u001b[39msuper\u001b[39;49m()\u001b[39m.\u001b[39;49mto_dict(\n\u001b[0;32m   2696\u001b[0m     validate\u001b[39m=\u001b[39;49mvalidate, \u001b[39mformat\u001b[39;49m\u001b[39m=\u001b[39;49m\u001b[39mformat\u001b[39;49m, ignore\u001b[39m=\u001b[39;49mignore, context\u001b[39m=\u001b[39;49mcontext\n\u001b[0;32m   2697\u001b[0m )\n",
      "File \u001b[1;32mc:\\Users\\FatherMammoth\\anaconda3\\envs\\gisenv\\Lib\\site-packages\\altair\\vegalite\\v5\\api.py:903\u001b[0m, in \u001b[0;36mTopLevelMixin.to_dict\u001b[1;34m(self, validate, format, ignore, context)\u001b[0m\n\u001b[0;32m    898\u001b[0m context[\u001b[39m\"\u001b[39m\u001b[39mtop_level\u001b[39m\u001b[39m\"\u001b[39m] \u001b[39m=\u001b[39m \u001b[39mFalse\u001b[39;00m\n\u001b[0;32m    900\u001b[0m \u001b[39m# TopLevelMixin instance does not necessarily have to_dict defined\u001b[39;00m\n\u001b[0;32m    901\u001b[0m \u001b[39m# but due to how Altair is set up this should hold.\u001b[39;00m\n\u001b[0;32m    902\u001b[0m \u001b[39m# Too complex to type hint right now\u001b[39;00m\n\u001b[1;32m--> 903\u001b[0m vegalite_spec \u001b[39m=\u001b[39m \u001b[39msuper\u001b[39;49m(TopLevelMixin, copy)\u001b[39m.\u001b[39;49mto_dict(  \u001b[39m# type: ignore[misc]\u001b[39;49;00m\n\u001b[0;32m    904\u001b[0m     validate\u001b[39m=\u001b[39;49mvalidate, ignore\u001b[39m=\u001b[39;49mignore, context\u001b[39m=\u001b[39;49m\u001b[39mdict\u001b[39;49m(context, pre_transform\u001b[39m=\u001b[39;49m\u001b[39mFalse\u001b[39;49;00m)\n\u001b[0;32m    905\u001b[0m )\n\u001b[0;32m    907\u001b[0m \u001b[39m# TODO: following entries are added after validation. Should they be validated?\u001b[39;00m\n\u001b[0;32m    908\u001b[0m \u001b[39mif\u001b[39;00m is_top_level:\n\u001b[0;32m    909\u001b[0m     \u001b[39m# since this is top-level we add $schema if it's missing\u001b[39;00m\n",
      "File \u001b[1;32mc:\\Users\\FatherMammoth\\anaconda3\\envs\\gisenv\\Lib\\site-packages\\altair\\utils\\schemapi.py:983\u001b[0m, in \u001b[0;36mSchemaBase.to_dict\u001b[1;34m(self, validate, ignore, context)\u001b[0m\n\u001b[0;32m    976\u001b[0m         \u001b[39mself\u001b[39m\u001b[39m.\u001b[39mvalidate(result)\n\u001b[0;32m    977\u001b[0m     \u001b[39mexcept\u001b[39;00m jsonschema\u001b[39m.\u001b[39mValidationError \u001b[39mas\u001b[39;00m err:\n\u001b[0;32m    978\u001b[0m         \u001b[39m# We do not raise `from err` as else the resulting\u001b[39;00m\n\u001b[0;32m    979\u001b[0m         \u001b[39m# traceback is very long as it contains part\u001b[39;00m\n\u001b[0;32m    980\u001b[0m         \u001b[39m# of the Vega-Lite schema. It would also first\u001b[39;00m\n\u001b[0;32m    981\u001b[0m         \u001b[39m# show the less helpful ValidationError instead of\u001b[39;00m\n\u001b[0;32m    982\u001b[0m         \u001b[39m# the more user friendly SchemaValidationError\u001b[39;00m\n\u001b[1;32m--> 983\u001b[0m         \u001b[39mraise\u001b[39;00m SchemaValidationError(\u001b[39mself\u001b[39m, err) \u001b[39mfrom\u001b[39;00m \u001b[39mNone\u001b[39;00m\n\u001b[0;32m    984\u001b[0m \u001b[39mreturn\u001b[39;00m result\n",
      "\u001b[1;31mSchemaValidationError\u001b[0m: '[[{'field': '2023Q1', 'type': 'quantitative'}, {'field': '2023Q2', 'type': 'quantitative'}, {'field': '2023Q3', 'type': 'quantitative'}, {'field': '2023Q4', 'type': 'quantitative'}]]' is an invalid value for `y`. Valid values are of type 'object'."
     ]
    },
    {
     "data": {
      "text/plain": [
       "alt.Chart(...)"
      ]
     },
     "execution_count": 49,
     "metadata": {},
     "output_type": "execute_result"
    }
   ],
   "source": [
    "alt.Chart(quarter_tx).mark_bar().encode(\n",
    "    x=alt.X(\"region:N\"),\n",
    "    xOffset=\"2023Q4:Q\",\n",
    "    y=alt.Y([[\"2023Q1\",\"2023Q2\",\"2023Q3\",\"2023Q4\"]]),\n",
    "    color=alt.Color(\"group:N\"),\n",
    ")"
   ]
  },
  {
   "cell_type": "code",
   "execution_count": 50,
   "id": "ab66800f-8d46-495f-9ad2-f90b8ef4efa2",
   "metadata": {},
   "outputs": [
    {
     "data": {
      "text/plain": [
       "dtype('int64')"
      ]
     },
     "execution_count": 50,
     "metadata": {},
     "output_type": "execute_result"
    }
   ],
   "source": [
    "prepd_data['2023Q4'].sum().dtype"
   ]
  },
  {
   "cell_type": "code",
   "execution_count": 51,
   "id": "be1062be",
   "metadata": {},
   "outputs": [
    {
     "data": {
      "text/plain": [
       "Index(['mfl_code', 'facility_name', 'region', 'county', 'sub_county', 'owner',\n",
       "       'lat', 'lon', 'txnew2023Q1', 'txnew2023Q2', 'txnew2023Q3',\n",
       "       'txnew2023Q4', '2023Q1', '2023Q2', '2023Q3', '2023Q4'],\n",
       "      dtype='object')"
      ]
     },
     "execution_count": 51,
     "metadata": {},
     "output_type": "execute_result"
    }
   ],
   "source": [
    "prepd_data.columns"
   ]
  },
  {
   "cell_type": "code",
   "execution_count": 52,
   "id": "09ecc631",
   "metadata": {},
   "outputs": [
    {
     "data": {
      "text/html": [
       "\n",
       "<style>\n",
       "  #altair-viz-344e2a5e36924bfaa011e158e322314e.vega-embed {\n",
       "    width: 100%;\n",
       "    display: flex;\n",
       "  }\n",
       "\n",
       "  #altair-viz-344e2a5e36924bfaa011e158e322314e.vega-embed details,\n",
       "  #altair-viz-344e2a5e36924bfaa011e158e322314e.vega-embed details summary {\n",
       "    position: relative;\n",
       "  }\n",
       "</style>\n",
       "<div id=\"altair-viz-344e2a5e36924bfaa011e158e322314e\"></div>\n",
       "<script type=\"text/javascript\">\n",
       "  var VEGA_DEBUG = (typeof VEGA_DEBUG == \"undefined\") ? {} : VEGA_DEBUG;\n",
       "  (function(spec, embedOpt){\n",
       "    let outputDiv = document.currentScript.previousElementSibling;\n",
       "    if (outputDiv.id !== \"altair-viz-344e2a5e36924bfaa011e158e322314e\") {\n",
       "      outputDiv = document.getElementById(\"altair-viz-344e2a5e36924bfaa011e158e322314e\");\n",
       "    }\n",
       "    const paths = {\n",
       "      \"vega\": \"https://cdn.jsdelivr.net/npm/vega@5?noext\",\n",
       "      \"vega-lib\": \"https://cdn.jsdelivr.net/npm/vega-lib?noext\",\n",
       "      \"vega-lite\": \"https://cdn.jsdelivr.net/npm/vega-lite@5.14.1?noext\",\n",
       "      \"vega-embed\": \"https://cdn.jsdelivr.net/npm/vega-embed@6?noext\",\n",
       "    };\n",
       "\n",
       "    function maybeLoadScript(lib, version) {\n",
       "      var key = `${lib.replace(\"-\", \"\")}_version`;\n",
       "      return (VEGA_DEBUG[key] == version) ?\n",
       "        Promise.resolve(paths[lib]) :\n",
       "        new Promise(function(resolve, reject) {\n",
       "          var s = document.createElement('script');\n",
       "          document.getElementsByTagName(\"head\")[0].appendChild(s);\n",
       "          s.async = true;\n",
       "          s.onload = () => {\n",
       "            VEGA_DEBUG[key] = version;\n",
       "            return resolve(paths[lib]);\n",
       "          };\n",
       "          s.onerror = () => reject(`Error loading script: ${paths[lib]}`);\n",
       "          s.src = paths[lib];\n",
       "        });\n",
       "    }\n",
       "\n",
       "    function showError(err) {\n",
       "      outputDiv.innerHTML = `<div class=\"error\" style=\"color:red;\">${err}</div>`;\n",
       "      throw err;\n",
       "    }\n",
       "\n",
       "    function displayChart(vegaEmbed) {\n",
       "      vegaEmbed(outputDiv, spec, embedOpt)\n",
       "        .catch(err => showError(`Javascript Error: ${err.message}<br>This usually means there's a typo in your chart specification. See the javascript console for the full traceback.`));\n",
       "    }\n",
       "\n",
       "    if(typeof define === \"function\" && define.amd) {\n",
       "      requirejs.config({paths});\n",
       "      require([\"vega-embed\"], displayChart, err => showError(`Error loading script: ${err.message}`));\n",
       "    } else {\n",
       "      maybeLoadScript(\"vega\", \"5\")\n",
       "        .then(() => maybeLoadScript(\"vega-lite\", \"5.14.1\"))\n",
       "        .then(() => maybeLoadScript(\"vega-embed\", \"6\"))\n",
       "        .catch(showError)\n",
       "        .then(() => displayChart(vegaEmbed));\n",
       "    }\n",
       "  })({\"config\": {\"view\": {\"continuousWidth\": 300, \"continuousHeight\": 300}}, \"data\": {\"name\": \"data-dfd3b06dcd62c06f3e179701c9288111\"}, \"mark\": {\"type\": \"rect\"}, \"encoding\": {\"color\": {\"aggregate\": \"max\", \"field\": \"txnew2023Q4\", \"title\": \"\", \"type\": \"quantitative\"}, \"x\": {\"axis\": {\"labelAngle\": 0}, \"field\": \"county\", \"title\": \"\", \"type\": \"ordinal\"}, \"y\": {\"field\": \"txnew2023Q4\", \"title\": \"Q4\", \"type\": \"quantitative\"}}, \"$schema\": \"https://vega.github.io/schema/vega-lite/v5.14.1.json\", \"datasets\": {\"data-dfd3b06dcd62c06f3e179701c9288111\": [{\"txnew2023Q1\": 17, \"txnew2023Q2\": 15, \"txnew2023Q3\": 26, \"txnew2023Q4\": 13}, {\"txnew2023Q1\": 12, \"txnew2023Q2\": 12, \"txnew2023Q3\": 14, \"txnew2023Q4\": 13}, {\"txnew2023Q1\": 148, \"txnew2023Q2\": 129, \"txnew2023Q3\": 149, \"txnew2023Q4\": 85}, {\"txnew2023Q1\": 7, \"txnew2023Q2\": 7, \"txnew2023Q3\": 6, \"txnew2023Q4\": 3}, {\"txnew2023Q1\": 66, \"txnew2023Q2\": 58, \"txnew2023Q3\": 64, \"txnew2023Q4\": 58}, {\"txnew2023Q1\": 113, \"txnew2023Q2\": 110, \"txnew2023Q3\": 103, \"txnew2023Q4\": 53}, {\"txnew2023Q1\": 15, \"txnew2023Q2\": 9, \"txnew2023Q3\": 12, \"txnew2023Q4\": 6}, {\"txnew2023Q1\": 12, \"txnew2023Q2\": 18, \"txnew2023Q3\": 12, \"txnew2023Q4\": 8}, {\"txnew2023Q1\": 28, \"txnew2023Q2\": 42, \"txnew2023Q3\": 44, \"txnew2023Q4\": 34}, {\"txnew2023Q1\": 126, \"txnew2023Q2\": 143, \"txnew2023Q3\": 161, \"txnew2023Q4\": 98}, {\"txnew2023Q1\": 79, \"txnew2023Q2\": 113, \"txnew2023Q3\": 98, \"txnew2023Q4\": 76}, {\"txnew2023Q1\": 45, \"txnew2023Q2\": 38, \"txnew2023Q3\": 50, \"txnew2023Q4\": 31}, {\"txnew2023Q1\": 9, \"txnew2023Q2\": 6, \"txnew2023Q3\": 3, \"txnew2023Q4\": 5}, {\"txnew2023Q1\": 283, \"txnew2023Q2\": 339, \"txnew2023Q3\": 302, \"txnew2023Q4\": 70}, {\"txnew2023Q1\": 15, \"txnew2023Q2\": 7, \"txnew2023Q3\": 12, \"txnew2023Q4\": 8}, {\"txnew2023Q1\": 15, \"txnew2023Q2\": 21, \"txnew2023Q3\": 25, \"txnew2023Q4\": 10}, {\"txnew2023Q1\": 16, \"txnew2023Q2\": 12, \"txnew2023Q3\": 15, \"txnew2023Q4\": 5}, {\"txnew2023Q1\": 57, \"txnew2023Q2\": 46, \"txnew2023Q3\": 101, \"txnew2023Q4\": 38}, {\"txnew2023Q1\": 25, \"txnew2023Q2\": 13, \"txnew2023Q3\": 13, \"txnew2023Q4\": 11}, {\"txnew2023Q1\": 10, \"txnew2023Q2\": 4, \"txnew2023Q3\": 4, \"txnew2023Q4\": 2}]}}, {\"mode\": \"vega-lite\"});\n",
       "</script>"
      ],
      "text/plain": [
       "alt.Chart(...)"
      ]
     },
     "execution_count": 52,
     "metadata": {},
     "output_type": "execute_result"
    }
   ],
   "source": [
    "\n",
    "source = (prepd_data.groupby(\n",
    "         by=['county'])[['txnew2023Q1','txnew2023Q2','txnew2023Q3','txnew2023Q4']]\n",
    "                  .sum())\n",
    "\n",
    "alt.Chart(source).mark_rect().encode(\n",
    "    alt.X(\"county:O\").axis(labelAngle=0).title(\"\"),\n",
    "    alt.Y(\"txnew2023Q4:Q\").title(\"Q4\"),\n",
    "    alt.Color(\"max(txnew2023Q4):Q\").title(\"\"),\n",
    ")"
   ]
  },
  {
   "cell_type": "code",
   "execution_count": 53,
   "id": "9fe82673",
   "metadata": {},
   "outputs": [
    {
     "data": {
      "text/plain": [
       "-273"
      ]
     },
     "execution_count": 53,
     "metadata": {},
     "output_type": "execute_result"
    }
   ],
   "source": [
    "(prepd_data['2023Q3'] - prepd_data['2023Q2']).sum()"
   ]
  },
  {
   "cell_type": "code",
   "execution_count": 54,
   "id": "f7943953",
   "metadata": {},
   "outputs": [
    {
     "data": {
      "text/html": [
       "<div>\n",
       "<style scoped>\n",
       "    .dataframe tbody tr th:only-of-type {\n",
       "        vertical-align: middle;\n",
       "    }\n",
       "\n",
       "    .dataframe tbody tr th {\n",
       "        vertical-align: top;\n",
       "    }\n",
       "\n",
       "    .dataframe thead th {\n",
       "        text-align: right;\n",
       "    }\n",
       "</style>\n",
       "<table border=\"1\" class=\"dataframe\">\n",
       "  <thead>\n",
       "    <tr style=\"text-align: right;\">\n",
       "      <th></th>\n",
       "      <th>county</th>\n",
       "      <th>txnew2023Q1</th>\n",
       "      <th>txnew2023Q2</th>\n",
       "      <th>txnew2023Q3</th>\n",
       "      <th>txnew2023Q4</th>\n",
       "    </tr>\n",
       "  </thead>\n",
       "  <tbody>\n",
       "    <tr>\n",
       "      <th>0</th>\n",
       "      <td>Bungoma</td>\n",
       "      <td>17</td>\n",
       "      <td>15</td>\n",
       "      <td>26</td>\n",
       "      <td>13</td>\n",
       "    </tr>\n",
       "    <tr>\n",
       "      <th>1</th>\n",
       "      <td>Busia</td>\n",
       "      <td>12</td>\n",
       "      <td>12</td>\n",
       "      <td>14</td>\n",
       "      <td>13</td>\n",
       "    </tr>\n",
       "    <tr>\n",
       "      <th>2</th>\n",
       "      <td>Homa Bay</td>\n",
       "      <td>148</td>\n",
       "      <td>129</td>\n",
       "      <td>149</td>\n",
       "      <td>85</td>\n",
       "    </tr>\n",
       "    <tr>\n",
       "      <th>3</th>\n",
       "      <td>Kajiado</td>\n",
       "      <td>7</td>\n",
       "      <td>7</td>\n",
       "      <td>6</td>\n",
       "      <td>3</td>\n",
       "    </tr>\n",
       "    <tr>\n",
       "      <th>4</th>\n",
       "      <td>Kakamega</td>\n",
       "      <td>66</td>\n",
       "      <td>58</td>\n",
       "      <td>64</td>\n",
       "      <td>58</td>\n",
       "    </tr>\n",
       "    <tr>\n",
       "      <th>5</th>\n",
       "      <td>Kiambu</td>\n",
       "      <td>113</td>\n",
       "      <td>110</td>\n",
       "      <td>103</td>\n",
       "      <td>53</td>\n",
       "    </tr>\n",
       "    <tr>\n",
       "      <th>6</th>\n",
       "      <td>Kilifi</td>\n",
       "      <td>15</td>\n",
       "      <td>9</td>\n",
       "      <td>12</td>\n",
       "      <td>6</td>\n",
       "    </tr>\n",
       "    <tr>\n",
       "      <th>7</th>\n",
       "      <td>Kirinyaga</td>\n",
       "      <td>12</td>\n",
       "      <td>18</td>\n",
       "      <td>12</td>\n",
       "      <td>8</td>\n",
       "    </tr>\n",
       "    <tr>\n",
       "      <th>8</th>\n",
       "      <td>Kisii</td>\n",
       "      <td>28</td>\n",
       "      <td>42</td>\n",
       "      <td>44</td>\n",
       "      <td>34</td>\n",
       "    </tr>\n",
       "    <tr>\n",
       "      <th>9</th>\n",
       "      <td>Kisumu</td>\n",
       "      <td>126</td>\n",
       "      <td>143</td>\n",
       "      <td>161</td>\n",
       "      <td>98</td>\n",
       "    </tr>\n",
       "    <tr>\n",
       "      <th>10</th>\n",
       "      <td>Migori</td>\n",
       "      <td>79</td>\n",
       "      <td>113</td>\n",
       "      <td>98</td>\n",
       "      <td>76</td>\n",
       "    </tr>\n",
       "    <tr>\n",
       "      <th>11</th>\n",
       "      <td>Mombasa</td>\n",
       "      <td>45</td>\n",
       "      <td>38</td>\n",
       "      <td>50</td>\n",
       "      <td>31</td>\n",
       "    </tr>\n",
       "    <tr>\n",
       "      <th>12</th>\n",
       "      <td>Murang'a</td>\n",
       "      <td>9</td>\n",
       "      <td>6</td>\n",
       "      <td>3</td>\n",
       "      <td>5</td>\n",
       "    </tr>\n",
       "    <tr>\n",
       "      <th>13</th>\n",
       "      <td>Nairobi</td>\n",
       "      <td>283</td>\n",
       "      <td>339</td>\n",
       "      <td>302</td>\n",
       "      <td>70</td>\n",
       "    </tr>\n",
       "    <tr>\n",
       "      <th>14</th>\n",
       "      <td>Nakuru</td>\n",
       "      <td>15</td>\n",
       "      <td>7</td>\n",
       "      <td>12</td>\n",
       "      <td>8</td>\n",
       "    </tr>\n",
       "    <tr>\n",
       "      <th>15</th>\n",
       "      <td>Narok</td>\n",
       "      <td>15</td>\n",
       "      <td>21</td>\n",
       "      <td>25</td>\n",
       "      <td>10</td>\n",
       "    </tr>\n",
       "    <tr>\n",
       "      <th>16</th>\n",
       "      <td>Nyeri</td>\n",
       "      <td>16</td>\n",
       "      <td>12</td>\n",
       "      <td>15</td>\n",
       "      <td>5</td>\n",
       "    </tr>\n",
       "    <tr>\n",
       "      <th>17</th>\n",
       "      <td>Siaya</td>\n",
       "      <td>57</td>\n",
       "      <td>46</td>\n",
       "      <td>101</td>\n",
       "      <td>38</td>\n",
       "    </tr>\n",
       "    <tr>\n",
       "      <th>18</th>\n",
       "      <td>Taita Taveta</td>\n",
       "      <td>25</td>\n",
       "      <td>13</td>\n",
       "      <td>13</td>\n",
       "      <td>11</td>\n",
       "    </tr>\n",
       "    <tr>\n",
       "      <th>19</th>\n",
       "      <td>Vihiga</td>\n",
       "      <td>10</td>\n",
       "      <td>4</td>\n",
       "      <td>4</td>\n",
       "      <td>2</td>\n",
       "    </tr>\n",
       "  </tbody>\n",
       "</table>\n",
       "</div>"
      ],
      "text/plain": [
       "          county  txnew2023Q1  txnew2023Q2  txnew2023Q3  txnew2023Q4\n",
       "0        Bungoma           17           15           26           13\n",
       "1          Busia           12           12           14           13\n",
       "2       Homa Bay          148          129          149           85\n",
       "3        Kajiado            7            7            6            3\n",
       "4       Kakamega           66           58           64           58\n",
       "5         Kiambu          113          110          103           53\n",
       "6         Kilifi           15            9           12            6\n",
       "7      Kirinyaga           12           18           12            8\n",
       "8          Kisii           28           42           44           34\n",
       "9         Kisumu          126          143          161           98\n",
       "10        Migori           79          113           98           76\n",
       "11       Mombasa           45           38           50           31\n",
       "12      Murang'a            9            6            3            5\n",
       "13       Nairobi          283          339          302           70\n",
       "14        Nakuru           15            7           12            8\n",
       "15         Narok           15           21           25           10\n",
       "16         Nyeri           16           12           15            5\n",
       "17         Siaya           57           46          101           38\n",
       "18  Taita Taveta           25           13           13           11\n",
       "19        Vihiga           10            4            4            2"
      ]
     },
     "execution_count": 54,
     "metadata": {},
     "output_type": "execute_result"
    }
   ],
   "source": [
    "(prepd_data.groupby(\n",
    "         by=['county'])[['txnew2023Q1','txnew2023Q2','txnew2023Q3','txnew2023Q4']]\n",
    "                  .sum()\n",
    "                  .reset_index())\n"
   ]
  },
  {
   "cell_type": "code",
   "execution_count": 55,
   "id": "c36eaef6",
   "metadata": {},
   "outputs": [
    {
     "data": {
      "text/plain": [
       "641"
      ]
     },
     "execution_count": 55,
     "metadata": {},
     "output_type": "execute_result"
    }
   ],
   "source": [
    "((prepd_data['txnew2023Q4']) - (prepd_data['txnew2023Q3'])).abs().sum()"
   ]
  },
  {
   "cell_type": "code",
   "execution_count": 56,
   "id": "9838cff6",
   "metadata": {},
   "outputs": [
    {
     "data": {
      "text/plain": [
       "txnew2023Q1    1098\n",
       "txnew2023Q2    1142\n",
       "txnew2023Q3    1214\n",
       "txnew2023Q4     627\n",
       "dtype: int64"
      ]
     },
     "execution_count": 56,
     "metadata": {},
     "output_type": "execute_result"
    }
   ],
   "source": [
    "prepd_data[['txnew2023Q1','txnew2023Q2','txnew2023Q3','txnew2023Q4']].sum()"
   ]
  },
  {
   "cell_type": "code",
   "execution_count": 57,
   "id": "5e1a10ab",
   "metadata": {},
   "outputs": [],
   "source": [
    "import seaborn as sns"
   ]
  },
  {
   "cell_type": "code",
   "execution_count": 58,
   "id": "af17fc29",
   "metadata": {},
   "outputs": [
    {
     "data": {
      "text/plain": [
       "<Axes: ylabel='facility_name'>"
      ]
     },
     "execution_count": 58,
     "metadata": {},
     "output_type": "execute_result"
    },
    {
     "data": {
      "image/png": "[encoded data removed]",
      "text/plain": [
       "<Figure size 640x480 with 2 Axes>"
      ]
     },
     "metadata": {},
     "output_type": "display_data"
    }
   ],
   "source": [
    "sns.heatmap(prepd_data.groupby(by=['facility_name'])[['txnew2023Q1','txnew2023Q2','txnew2023Q3','txnew2023Q4']].sum())"
   ]
  },
  {
   "cell_type": "code",
   "execution_count": 59,
   "id": "dd2041c5",
   "metadata": {},
   "outputs": [],
   "source": [
    "import streamlit as st"
   ]
  },
  {
   "cell_type": "code",
   "execution_count": 60,
   "id": "1d4371d0",
   "metadata": {},
   "outputs": [
    {
     "name": "stderr",
     "output_type": "stream",
     "text": [
      "2023-09-26 00:44:14.959 \n",
      "  \u001b[33m\u001b[1mWarning:\u001b[0m to view this Streamlit app on a browser, run it with the following\n",
      "  command:\n",
      "\n",
      "    streamlit run c:\\Users\\FatherMammoth\\anaconda3\\envs\\gisenv\\Lib\\site-packages\\ipykernel_launcher.py [ARGUMENTS]\n"
     ]
    },
    {
     "data": {
      "text/plain": [
       "DeltaGenerator()"
      ]
     },
     "execution_count": 60,
     "metadata": {},
     "output_type": "execute_result"
    }
   ],
   "source": [
    "st.altair_chart(prepd_data.groupby(by=['region'])[['txnew2023Q1','txnew2023Q2','txnew2023Q3','txnew2023Q4']].sum().T)"
   ]
  },
  {
   "cell_type": "markdown",
   "id": "d8e9a794",
   "metadata": {},
   "source": [
    "seems i need a new dataset, showing county tested and new tx"
   ]
  },
  {
   "cell_type": "code",
   "execution_count": 61,
   "id": "1ac757fe",
   "metadata": {},
   "outputs": [],
   "source": [
    "tested_data = 'raw_data/tested_totals.xlsx'\n",
    "tested_df = pd.read_excel(tested_data)"
   ]
  },
  {
   "cell_type": "code",
   "execution_count": 65,
   "id": "34f54bb0",
   "metadata": {},
   "outputs": [
    {
     "data": {
      "text/html": [
       "<div>\n",
       "<style scoped>\n",
       "    .dataframe tbody tr th:only-of-type {\n",
       "        vertical-align: middle;\n",
       "    }\n",
       "\n",
       "    .dataframe tbody tr th {\n",
       "        vertical-align: top;\n",
       "    }\n",
       "\n",
       "    .dataframe thead th {\n",
       "        text-align: right;\n",
       "    }\n",
       "</style>\n",
       "<table border=\"1\" class=\"dataframe\">\n",
       "  <thead>\n",
       "    <tr style=\"text-align: right;\">\n",
       "      <th></th>\n",
       "      <th>county</th>\n",
       "      <th>txnew2023Q4</th>\n",
       "      <th>number_tested</th>\n",
       "    </tr>\n",
       "  </thead>\n",
       "  <tbody>\n",
       "    <tr>\n",
       "      <th>0</th>\n",
       "      <td>Bungoma</td>\n",
       "      <td>13</td>\n",
       "      <td>152</td>\n",
       "    </tr>\n",
       "    <tr>\n",
       "      <th>1</th>\n",
       "      <td>Busia</td>\n",
       "      <td>13</td>\n",
       "      <td>198</td>\n",
       "    </tr>\n",
       "    <tr>\n",
       "      <th>2</th>\n",
       "      <td>Homa Bay</td>\n",
       "      <td>85</td>\n",
       "      <td>719</td>\n",
       "    </tr>\n",
       "    <tr>\n",
       "      <th>3</th>\n",
       "      <td>Kajiado</td>\n",
       "      <td>3</td>\n",
       "      <td>74</td>\n",
       "    </tr>\n",
       "    <tr>\n",
       "      <th>4</th>\n",
       "      <td>Kakamega</td>\n",
       "      <td>58</td>\n",
       "      <td>906</td>\n",
       "    </tr>\n",
       "    <tr>\n",
       "      <th>5</th>\n",
       "      <td>Kiambu</td>\n",
       "      <td>53</td>\n",
       "      <td>808</td>\n",
       "    </tr>\n",
       "    <tr>\n",
       "      <th>6</th>\n",
       "      <td>Kilifi</td>\n",
       "      <td>6</td>\n",
       "      <td>19</td>\n",
       "    </tr>\n",
       "    <tr>\n",
       "      <th>7</th>\n",
       "      <td>Kirinyaga</td>\n",
       "      <td>8</td>\n",
       "      <td>402</td>\n",
       "    </tr>\n",
       "    <tr>\n",
       "      <th>8</th>\n",
       "      <td>Kisii</td>\n",
       "      <td>34</td>\n",
       "      <td>365</td>\n",
       "    </tr>\n",
       "    <tr>\n",
       "      <th>9</th>\n",
       "      <td>Kisumu</td>\n",
       "      <td>98</td>\n",
       "      <td>284</td>\n",
       "    </tr>\n",
       "    <tr>\n",
       "      <th>10</th>\n",
       "      <td>Migori</td>\n",
       "      <td>76</td>\n",
       "      <td>709</td>\n",
       "    </tr>\n",
       "    <tr>\n",
       "      <th>11</th>\n",
       "      <td>Mombasa</td>\n",
       "      <td>31</td>\n",
       "      <td>288</td>\n",
       "    </tr>\n",
       "    <tr>\n",
       "      <th>12</th>\n",
       "      <td>Murang'a</td>\n",
       "      <td>5</td>\n",
       "      <td>98</td>\n",
       "    </tr>\n",
       "    <tr>\n",
       "      <th>13</th>\n",
       "      <td>Nairobi</td>\n",
       "      <td>70</td>\n",
       "      <td>1077</td>\n",
       "    </tr>\n",
       "    <tr>\n",
       "      <th>14</th>\n",
       "      <td>Nakuru</td>\n",
       "      <td>8</td>\n",
       "      <td>225</td>\n",
       "    </tr>\n",
       "    <tr>\n",
       "      <th>15</th>\n",
       "      <td>Narok</td>\n",
       "      <td>10</td>\n",
       "      <td>104</td>\n",
       "    </tr>\n",
       "    <tr>\n",
       "      <th>16</th>\n",
       "      <td>Nyeri</td>\n",
       "      <td>5</td>\n",
       "      <td>356</td>\n",
       "    </tr>\n",
       "    <tr>\n",
       "      <th>17</th>\n",
       "      <td>Siaya</td>\n",
       "      <td>38</td>\n",
       "      <td>1112</td>\n",
       "    </tr>\n",
       "    <tr>\n",
       "      <th>18</th>\n",
       "      <td>Taita Taveta</td>\n",
       "      <td>11</td>\n",
       "      <td>153</td>\n",
       "    </tr>\n",
       "    <tr>\n",
       "      <th>19</th>\n",
       "      <td>Vihiga</td>\n",
       "      <td>2</td>\n",
       "      <td>29</td>\n",
       "    </tr>\n",
       "  </tbody>\n",
       "</table>\n",
       "</div>"
      ],
      "text/plain": [
       "          county  txnew2023Q4  number_tested\n",
       "0        Bungoma           13            152\n",
       "1          Busia           13            198\n",
       "2       Homa Bay           85            719\n",
       "3        Kajiado            3             74\n",
       "4       Kakamega           58            906\n",
       "5         Kiambu           53            808\n",
       "6         Kilifi            6             19\n",
       "7      Kirinyaga            8            402\n",
       "8          Kisii           34            365\n",
       "9         Kisumu           98            284\n",
       "10        Migori           76            709\n",
       "11       Mombasa           31            288\n",
       "12      Murang'a            5             98\n",
       "13       Nairobi           70           1077\n",
       "14        Nakuru            8            225\n",
       "15         Narok           10            104\n",
       "16         Nyeri            5            356\n",
       "17         Siaya           38           1112\n",
       "18  Taita Taveta           11            153\n",
       "19        Vihiga            2             29"
      ]
     },
     "execution_count": 65,
     "metadata": {},
     "output_type": "execute_result"
    }
   ],
   "source": [
    "(prepd_data.groupby(by=['county'])[['txnew2023Q4']].sum()).merge(tested_df,\n",
    "                                                                 on=['county'],\n",
    "                                                                 how='outer')\n"
   ]
  },
  {
   "cell_type": "code",
   "execution_count": 67,
   "id": "140a683f",
   "metadata": {},
   "outputs": [
    {
     "data": {
      "text/html": [
       "\n",
       "<style>\n",
       "  #altair-viz-292ee17bafd648549c5ef79817e3e471.vega-embed {\n",
       "    width: 100%;\n",
       "    display: flex;\n",
       "  }\n",
       "\n",
       "  #altair-viz-292ee17bafd648549c5ef79817e3e471.vega-embed details,\n",
       "  #altair-viz-292ee17bafd648549c5ef79817e3e471.vega-embed details summary {\n",
       "    position: relative;\n",
       "  }\n",
       "</style>\n",
       "<div id=\"altair-viz-292ee17bafd648549c5ef79817e3e471\"></div>\n",
       "<script type=\"text/javascript\">\n",
       "  var VEGA_DEBUG = (typeof VEGA_DEBUG == \"undefined\") ? {} : VEGA_DEBUG;\n",
       "  (function(spec, embedOpt){\n",
       "    let outputDiv = document.currentScript.previousElementSibling;\n",
       "    if (outputDiv.id !== \"altair-viz-292ee17bafd648549c5ef79817e3e471\") {\n",
       "      outputDiv = document.getElementById(\"altair-viz-292ee17bafd648549c5ef79817e3e471\");\n",
       "    }\n",
       "    const paths = {\n",
       "      \"vega\": \"https://cdn.jsdelivr.net/npm/vega@5?noext\",\n",
       "      \"vega-lib\": \"https://cdn.jsdelivr.net/npm/vega-lib?noext\",\n",
       "      \"vega-lite\": \"https://cdn.jsdelivr.net/npm/vega-lite@5.14.1?noext\",\n",
       "      \"vega-embed\": \"https://cdn.jsdelivr.net/npm/vega-embed@6?noext\",\n",
       "    };\n",
       "\n",
       "    function maybeLoadScript(lib, version) {\n",
       "      var key = `${lib.replace(\"-\", \"\")}_version`;\n",
       "      return (VEGA_DEBUG[key] == version) ?\n",
       "        Promise.resolve(paths[lib]) :\n",
       "        new Promise(function(resolve, reject) {\n",
       "          var s = document.createElement('script');\n",
       "          document.getElementsByTagName(\"head\")[0].appendChild(s);\n",
       "          s.async = true;\n",
       "          s.onload = () => {\n",
       "            VEGA_DEBUG[key] = version;\n",
       "            return resolve(paths[lib]);\n",
       "          };\n",
       "          s.onerror = () => reject(`Error loading script: ${paths[lib]}`);\n",
       "          s.src = paths[lib];\n",
       "        });\n",
       "    }\n",
       "\n",
       "    function showError(err) {\n",
       "      outputDiv.innerHTML = `<div class=\"error\" style=\"color:red;\">${err}</div>`;\n",
       "      throw err;\n",
       "    }\n",
       "\n",
       "    function displayChart(vegaEmbed) {\n",
       "      vegaEmbed(outputDiv, spec, embedOpt)\n",
       "        .catch(err => showError(`Javascript Error: ${err.message}<br>This usually means there's a typo in your chart specification. See the javascript console for the full traceback.`));\n",
       "    }\n",
       "\n",
       "    if(typeof define === \"function\" && define.amd) {\n",
       "      requirejs.config({paths});\n",
       "      require([\"vega-embed\"], displayChart, err => showError(`Error loading script: ${err.message}`));\n",
       "    } else {\n",
       "      maybeLoadScript(\"vega\", \"5\")\n",
       "        .then(() => maybeLoadScript(\"vega-lite\", \"5.14.1\"))\n",
       "        .then(() => maybeLoadScript(\"vega-embed\", \"6\"))\n",
       "        .catch(showError)\n",
       "        .then(() => displayChart(vegaEmbed));\n",
       "    }\n",
       "  })({\"config\": {\"view\": {\"continuousWidth\": 300, \"continuousHeight\": 300}}, \"data\": {\"name\": \"data-48312e584fae5b6df1851691c9295c06\"}, \"mark\": {\"type\": \"area\"}, \"encoding\": {\"color\": {\"field\": \"county\", \"scale\": {\"scheme\": \"category20b\"}, \"type\": \"nominal\"}, \"x\": {\"aggregate\": \"sum\", \"field\": \"number_tested\", \"type\": \"quantitative\"}, \"y\": {\"aggregate\": \"sum\", \"field\": \"txnew2023Q4\", \"type\": \"quantitative\"}}, \"$schema\": \"https://vega.github.io/schema/vega-lite/v5.14.1.json\", \"datasets\": {\"data-48312e584fae5b6df1851691c9295c06\": [{\"county\": \"Bungoma\", \"txnew2023Q4\": 13, \"number_tested\": 152}, {\"county\": \"Busia\", \"txnew2023Q4\": 13, \"number_tested\": 198}, {\"county\": \"Homa Bay\", \"txnew2023Q4\": 85, \"number_tested\": 719}, {\"county\": \"Kajiado\", \"txnew2023Q4\": 3, \"number_tested\": 74}, {\"county\": \"Kakamega\", \"txnew2023Q4\": 58, \"number_tested\": 906}, {\"county\": \"Kiambu\", \"txnew2023Q4\": 53, \"number_tested\": 808}, {\"county\": \"Kilifi\", \"txnew2023Q4\": 6, \"number_tested\": 19}, {\"county\": \"Kirinyaga\", \"txnew2023Q4\": 8, \"number_tested\": 402}, {\"county\": \"Kisii\", \"txnew2023Q4\": 34, \"number_tested\": 365}, {\"county\": \"Kisumu\", \"txnew2023Q4\": 98, \"number_tested\": 284}, {\"county\": \"Migori\", \"txnew2023Q4\": 76, \"number_tested\": 709}, {\"county\": \"Mombasa\", \"txnew2023Q4\": 31, \"number_tested\": 288}, {\"county\": \"Murang'a\", \"txnew2023Q4\": 5, \"number_tested\": 98}, {\"county\": \"Nairobi\", \"txnew2023Q4\": 70, \"number_tested\": 1077}, {\"county\": \"Nakuru\", \"txnew2023Q4\": 8, \"number_tested\": 225}, {\"county\": \"Narok\", \"txnew2023Q4\": 10, \"number_tested\": 104}, {\"county\": \"Nyeri\", \"txnew2023Q4\": 5, \"number_tested\": 356}, {\"county\": \"Siaya\", \"txnew2023Q4\": 38, \"number_tested\": 1112}, {\"county\": \"Taita Taveta\", \"txnew2023Q4\": 11, \"number_tested\": 153}, {\"county\": \"Vihiga\", \"txnew2023Q4\": 2, \"number_tested\": 29}]}}, {\"mode\": \"vega-lite\"});\n",
       "</script>"
      ],
      "text/plain": [
       "alt.Chart(...)"
      ]
     },
     "execution_count": 67,
     "metadata": {},
     "output_type": "execute_result"
    }
   ],
   "source": [
    "test_yield = alt.Chart((prepd_data.groupby(by=['county'])[['txnew2023Q4']].sum()).merge(tested_df,\n",
    "                                                                 on=['county'],\n",
    "                                                                 how='outer')).mark_area().encode(\n",
    "        x= alt.X(\"sum(number_tested):Q\"),\n",
    "        y= alt.Y(\"sum(txnew2023Q4):Q\"),\n",
    "        color= alt.Color(\"county:N\").scale(scheme=\"category20b\"))\n",
    "\n",
    "test_yield"
   ]
  },
  {
   "cell_type": "code",
   "execution_count": null,
   "id": "1e6ea26a",
   "metadata": {},
   "outputs": [],
   "source": []
  }
 ],
 "metadata": {
  "kernelspec": {
   "display_name": "Python 3.11.5 ('gisenv')",
   "language": "python",
   "name": "python3"
  },
  "language_info": {
   "codemirror_mode": {
    "name": "ipython",
    "version": 3
   },
   "file_extension": ".py",
   "mimetype": "text/x-python",
   "name": "python",
   "nbconvert_exporter": "python",
   "pygments_lexer": "ipython3",
   "version": "3.11.5"
  },
  "vscode": {
   "interpreter": {
    "hash": "acb79f9043e5b1c1529c64d2303b516ef5142c2511b32d722fdcb807fd03c767"
   }
  }
 },
 "nbformat": 4,
 "nbformat_minor": 5
}
