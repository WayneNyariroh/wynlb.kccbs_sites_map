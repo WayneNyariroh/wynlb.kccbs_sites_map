{
 "cells": [
  {
   "cell_type": "markdown",
   "id": "b36c7e42-6c36-49d0-81b4-46012bb61c2f",
   "metadata": {},
   "source": [
    "## Relevant data is key. Right data types. Necessary columns. No missing data. And any other structural preferences"
   ]
  },
  {
   "cell_type": "markdown",
   "id": "6922d285-6ff9-41cb-a688-47905a71d2fa",
   "metadata": {},
   "source": [
    "### before we do any analysis we have to load and prepare our dataset(s). In this case our desired dataset requires combining variables from more than 2 datasets"
   ]
  },
  {
   "cell_type": "code",
   "execution_count": 1,
   "id": "aebbe2af-4a6e-4b59-a99c-a5d0490c849d",
   "metadata": {},
   "outputs": [],
   "source": [
    "#importing data manipulation library\n",
    "import pandas as pd\n",
    "import numpy as np"
   ]
  },
  {
   "cell_type": "code",
   "execution_count": 2,
   "id": "237892a2-6d2f-4a6f-aa7f-6335a835f5e6",
   "metadata": {},
   "outputs": [
    {
     "data": {
      "text/html": [
       "<div>\n",
       "<style scoped>\n",
       "    .dataframe tbody tr th:only-of-type {\n",
       "        vertical-align: middle;\n",
       "    }\n",
       "\n",
       "    .dataframe tbody tr th {\n",
       "        vertical-align: top;\n",
       "    }\n",
       "\n",
       "    .dataframe thead th {\n",
       "        text-align: right;\n",
       "    }\n",
       "</style>\n",
       "<table border=\"1\" class=\"dataframe\">\n",
       "  <thead>\n",
       "    <tr style=\"text-align: right;\">\n",
       "      <th></th>\n",
       "      <th>mfl_code</th>\n",
       "      <th>FacilityName</th>\n",
       "      <th>County</th>\n",
       "      <th>SubCounty</th>\n",
       "      <th>Owner</th>\n",
       "      <th>lat</th>\n",
       "      <th>lon</th>\n",
       "      <th>SDP</th>\n",
       "      <th>CT</th>\n",
       "      <th>HTS</th>\n",
       "      <th>...</th>\n",
       "      <th>IL_lab_manifest</th>\n",
       "      <th>IL_3_PM</th>\n",
       "      <th>IL_AIR</th>\n",
       "      <th>IL_nimeconfirm</th>\n",
       "      <th>MHealth_Nishauri</th>\n",
       "      <th>MHealth_C4C</th>\n",
       "      <th>MHealth_Ushauri</th>\n",
       "      <th>MHealth_Mlab</th>\n",
       "      <th>MHealth_ART_Directory</th>\n",
       "      <th>MHealth_Psurvey</th>\n",
       "    </tr>\n",
       "  </thead>\n",
       "  <tbody>\n",
       "    <tr>\n",
       "      <th>1006</th>\n",
       "      <td>14031</td>\n",
       "      <td>Randung' Dispensary</td>\n",
       "      <td>Homa Bay</td>\n",
       "      <td>Rangwe</td>\n",
       "      <td>Ministry of Health</td>\n",
       "      <td>-0.63551</td>\n",
       "      <td>34.56268</td>\n",
       "      <td>LVCT Vukisha 95</td>\n",
       "      <td>YES</td>\n",
       "      <td>YES</td>\n",
       "      <td>...</td>\n",
       "      <td>NaN</td>\n",
       "      <td>NaN</td>\n",
       "      <td>NO</td>\n",
       "      <td>NaN</td>\n",
       "      <td>NaN</td>\n",
       "      <td>NaN</td>\n",
       "      <td>YES</td>\n",
       "      <td>NO</td>\n",
       "      <td>NaN</td>\n",
       "      <td>NaN</td>\n",
       "    </tr>\n",
       "    <tr>\n",
       "      <th>1996</th>\n",
       "      <td>28592</td>\n",
       "      <td>LVCT Health (Ng'ando Dreams Site)</td>\n",
       "      <td>Nairobi</td>\n",
       "      <td>Dagoretti South</td>\n",
       "      <td>Non Governmental organisation</td>\n",
       "      <td>NaN</td>\n",
       "      <td>NaN</td>\n",
       "      <td>CIHEB CONNECT</td>\n",
       "      <td>NO</td>\n",
       "      <td>YES</td>\n",
       "      <td>...</td>\n",
       "      <td>NaN</td>\n",
       "      <td>NaN</td>\n",
       "      <td>NO</td>\n",
       "      <td>NaN</td>\n",
       "      <td>NO</td>\n",
       "      <td>NaN</td>\n",
       "      <td>YES</td>\n",
       "      <td>NO</td>\n",
       "      <td>NaN</td>\n",
       "      <td>NaN</td>\n",
       "    </tr>\n",
       "  </tbody>\n",
       "</table>\n",
       "<p>2 rows × 45 columns</p>\n",
       "</div>"
      ],
      "text/plain": [
       "      mfl_code                       FacilityName    County        SubCounty  \\\n",
       "1006     14031                Randung' Dispensary  Homa Bay           Rangwe   \n",
       "1996     28592  LVCT Health (Ng'ando Dreams Site)   Nairobi  Dagoretti South   \n",
       "\n",
       "                              Owner      lat       lon              SDP   CT  \\\n",
       "1006             Ministry of Health -0.63551  34.56268  LVCT Vukisha 95  YES   \n",
       "1996  Non Governmental organisation      NaN       NaN    CIHEB CONNECT   NO   \n",
       "\n",
       "      HTS  ... IL_lab_manifest IL_3_PM IL_AIR IL_nimeconfirm MHealth_Nishauri  \\\n",
       "1006  YES  ...             NaN     NaN     NO            NaN              NaN   \n",
       "1996  YES  ...             NaN     NaN     NO            NaN               NO   \n",
       "\n",
       "     MHealth_C4C MHealth_Ushauri MHealth_Mlab MHealth_ART_Directory  \\\n",
       "1006         NaN             YES           NO                   NaN   \n",
       "1996         NaN             YES           NO                   NaN   \n",
       "\n",
       "     MHealth_Psurvey  \n",
       "1006             NaN  \n",
       "1996             NaN  \n",
       "\n",
       "[2 rows x 45 columns]"
      ]
     },
     "execution_count": 2,
     "metadata": {},
     "output_type": "execute_result"
    }
   ],
   "source": [
    "#loading our data\n",
    "data = 'raw_data/his_master_list_with_coordinates.xlsx'\n",
    "\n",
    "site_data = pd.read_excel(data)\n",
    "\n",
    "#sample 2 records for our new dataframe\n",
    "site_data.sample(2)"
   ]
  },
  {
   "cell_type": "code",
   "execution_count": 3,
   "id": "ccd4a022-2070-4336-94fe-792ca5a25e51",
   "metadata": {},
   "outputs": [
    {
     "data": {
      "text/html": [
       "<div>\n",
       "<style scoped>\n",
       "    .dataframe tbody tr th:only-of-type {\n",
       "        vertical-align: middle;\n",
       "    }\n",
       "\n",
       "    .dataframe tbody tr th {\n",
       "        vertical-align: top;\n",
       "    }\n",
       "\n",
       "    .dataframe thead th {\n",
       "        text-align: right;\n",
       "    }\n",
       "</style>\n",
       "<table border=\"1\" class=\"dataframe\">\n",
       "  <thead>\n",
       "    <tr style=\"text-align: right;\">\n",
       "      <th></th>\n",
       "      <th>mfl_code</th>\n",
       "      <th>FacilityName</th>\n",
       "      <th>County</th>\n",
       "      <th>SubCounty</th>\n",
       "      <th>Owner</th>\n",
       "      <th>lat</th>\n",
       "      <th>lon</th>\n",
       "      <th>SDP</th>\n",
       "      <th>CT</th>\n",
       "      <th>HTS</th>\n",
       "      <th>...</th>\n",
       "      <th>IL_lab_manifest</th>\n",
       "      <th>IL_3_PM</th>\n",
       "      <th>IL_AIR</th>\n",
       "      <th>IL_nimeconfirm</th>\n",
       "      <th>MHealth_Nishauri</th>\n",
       "      <th>MHealth_C4C</th>\n",
       "      <th>MHealth_Ushauri</th>\n",
       "      <th>MHealth_Mlab</th>\n",
       "      <th>MHealth_ART_Directory</th>\n",
       "      <th>MHealth_Psurvey</th>\n",
       "    </tr>\n",
       "  </thead>\n",
       "  <tbody>\n",
       "  </tbody>\n",
       "</table>\n",
       "<p>0 rows × 45 columns</p>\n",
       "</div>"
      ],
      "text/plain": [
       "Empty DataFrame\n",
       "Columns: [mfl_code, FacilityName, County, SubCounty, Owner, lat, lon, SDP, CT, HTS, IL, MHealth, KP, EMR, EMRStatus, DateOfEmrImplementation, ModeOfEMRUse, Lab_Manifest, MNCH, TB, OVC, OTZ, PREP, KP.1, HIV, TPT, Covid_19, EVMMC, HTS_Status, HTS_Use, HTS_Deployment, IL_Status, IL_WebADT, IL_Mlab, IL_Ushauri, IL_lab_manifest, IL_3_PM, IL_AIR, IL_nimeconfirm, MHealth_Nishauri, MHealth_C4C, MHealth_Ushauri, MHealth_Mlab, MHealth_ART_Directory, MHealth_Psurvey]\n",
       "Index: []\n",
       "\n",
       "[0 rows x 45 columns]"
      ]
     },
     "execution_count": 3,
     "metadata": {},
     "output_type": "execute_result"
    }
   ],
   "source": [
    "#check for duplicate data\n",
    "site_data[site_data.duplicated()]"
   ]
  },
  {
   "cell_type": "code",
   "execution_count": 4,
   "id": "06dc5bb4-a1f9-4be6-b9bd-979a871c0ed6",
   "metadata": {},
   "outputs": [
    {
     "data": {
      "text/plain": [
       "Index(['mfl_code', 'FacilityName', 'County', 'SubCounty', 'Owner', 'lat',\n",
       "       'lon', 'SDP', 'CT', 'HTS', 'IL', 'MHealth', 'KP', 'EMR', 'EMRStatus',\n",
       "       'DateOfEmrImplementation', 'ModeOfEMRUse', 'Lab_Manifest', 'MNCH', 'TB',\n",
       "       'OVC', 'OTZ', 'PREP', 'KP.1', 'HIV', 'TPT', 'Covid_19', 'EVMMC',\n",
       "       'HTS_Status', 'HTS_Use', 'HTS_Deployment', 'IL_Status', 'IL_WebADT',\n",
       "       'IL_Mlab', 'IL_Ushauri', 'IL_lab_manifest', 'IL_3_PM', 'IL_AIR',\n",
       "       'IL_nimeconfirm', 'MHealth_Nishauri', 'MHealth_C4C', 'MHealth_Ushauri',\n",
       "       'MHealth_Mlab', 'MHealth_ART_Directory', 'MHealth_Psurvey'],\n",
       "      dtype='object')"
      ]
     },
     "execution_count": 4,
     "metadata": {},
     "output_type": "execute_result"
    }
   ],
   "source": [
    "#quick look at the columns to see the relevant ones\n",
    "site_data.columns"
   ]
  },
  {
   "cell_type": "code",
   "execution_count": 5,
   "id": "91424f0f-ad40-465a-8829-7dde0e4fb9dc",
   "metadata": {},
   "outputs": [],
   "source": [
    "#removing the columns we do not need from the dataframe\n",
    "site_data = site_data.drop(['CT', 'HTS', 'IL', 'MHealth', 'KP', 'EMR', 'EMRStatus',\n",
    "       'DateOfEmrImplementation', 'ModeOfEMRUse', 'Lab_Manifest', 'MNCH', 'TB',\n",
    "       'OVC', 'OTZ', 'PREP', 'KP.1', 'HIV', 'TPT', 'Covid_19', 'EVMMC',\n",
    "       'HTS_Status', 'HTS_Use', 'HTS_Deployment', 'IL_Status', 'IL_WebADT',\n",
    "       'IL_Mlab', 'IL_Ushauri', 'IL_lab_manifest', 'IL_3_PM', 'IL_AIR',\n",
    "       'IL_nimeconfirm', 'MHealth_Nishauri', 'MHealth_C4C', 'MHealth_Ushauri',\n",
    "       'MHealth_Mlab', 'MHealth_ART_Directory', 'MHealth_Psurvey'], axis=1)"
   ]
  },
  {
   "cell_type": "code",
   "execution_count": 6,
   "id": "66a3886a-709c-472c-b33d-bcaa11f9cd51",
   "metadata": {},
   "outputs": [
    {
     "data": {
      "text/plain": [
       "array(['LVCT Dhibiti', 'USAID Jamii Tekelezi', 'Nyeri CHMT',\n",
       "       'USAID Tujenge Jamii', 'KCCB ACTS', 'LVCT Prisons',\n",
       "       'CHAK CHAP STAWISHA', 'USAID Stawisha Pwani',\n",
       "       'Bomu Hospital Affiliated Sites', 'HJF-Nairobi', 'CIHEB Imara',\n",
       "       'DREAMS Trust Kenya', 'USAID Fahari ya Jamii', 'CIHEB CONNECT',\n",
       "       'Coptic Hospitals', 'Aids Healthcare Foundation Kenya', 'COGRI',\n",
       "       'CHS Shinda Tena', 'LVCT Vukisha 95', 'CIHEB Entrench',\n",
       "       'Homa Bay CHMT', 'USAID NURU YA MTOTO', 'HJF-Kisumu West',\n",
       "       'Siaya CHMT', 'Migori CHMT', 'USAID Boresha Jamii',\n",
       "       'HJF-South Rift Valley', 'USAID AMPATH Uzima',\n",
       "       'USAID Imarisha Jamii', nan, 'USAID Dumisha Afya', 'No Partner',\n",
       "       'Hope Worldwide Kenya'], dtype=object)"
      ]
     },
     "execution_count": 6,
     "metadata": {},
     "output_type": "execute_result"
    }
   ],
   "source": [
    "#since we are only interested in a specific implementing partner\n",
    "site_data['SDP'].unique()"
   ]
  },
  {
   "cell_type": "code",
   "execution_count": 7,
   "id": "482944a1-702a-4fca-9906-3f9452a2c6b2",
   "metadata": {},
   "outputs": [
    {
     "data": {
      "text/html": [
       "<div>\n",
       "<style scoped>\n",
       "    .dataframe tbody tr th:only-of-type {\n",
       "        vertical-align: middle;\n",
       "    }\n",
       "\n",
       "    .dataframe tbody tr th {\n",
       "        vertical-align: top;\n",
       "    }\n",
       "\n",
       "    .dataframe thead th {\n",
       "        text-align: right;\n",
       "    }\n",
       "</style>\n",
       "<table border=\"1\" class=\"dataframe\">\n",
       "  <thead>\n",
       "    <tr style=\"text-align: right;\">\n",
       "      <th></th>\n",
       "      <th>mfl_code</th>\n",
       "      <th>FacilityName</th>\n",
       "      <th>County</th>\n",
       "      <th>SubCounty</th>\n",
       "      <th>Owner</th>\n",
       "      <th>lat</th>\n",
       "      <th>lon</th>\n",
       "      <th>SDP</th>\n",
       "    </tr>\n",
       "  </thead>\n",
       "  <tbody>\n",
       "    <tr>\n",
       "      <th>0</th>\n",
       "      <td>13473</td>\n",
       "      <td>Aluor Mission Health Centre</td>\n",
       "      <td>Siaya</td>\n",
       "      <td>Gem</td>\n",
       "      <td>Kenya Episcopal Conference-Catholic Secretariat</td>\n",
       "      <td>0.01047</td>\n",
       "      <td>34.46500</td>\n",
       "      <td>KCCB ACTS</td>\n",
       "    </tr>\n",
       "    <tr>\n",
       "      <th>1</th>\n",
       "      <td>13488</td>\n",
       "      <td>Asumbi Mission Hospital</td>\n",
       "      <td>Homa Bay</td>\n",
       "      <td>Rangwe</td>\n",
       "      <td>Kenya Episcopal Conference-Catholic Secretariat</td>\n",
       "      <td>-0.62079</td>\n",
       "      <td>34.61453</td>\n",
       "      <td>KCCB ACTS</td>\n",
       "    </tr>\n",
       "    <tr>\n",
       "      <th>2</th>\n",
       "      <td>13491</td>\n",
       "      <td>Awasi Mission Health Center</td>\n",
       "      <td>Kisumu</td>\n",
       "      <td>Nyando</td>\n",
       "      <td>Kenya Episcopal Conference-Catholic Secretariat</td>\n",
       "      <td>-0.16043</td>\n",
       "      <td>35.07395</td>\n",
       "      <td>KCCB ACTS</td>\n",
       "    </tr>\n",
       "    <tr>\n",
       "      <th>3</th>\n",
       "      <td>12875</td>\n",
       "      <td>Babadogo (EDARP)</td>\n",
       "      <td>Nairobi</td>\n",
       "      <td>Ruaraka</td>\n",
       "      <td>Kenya Episcopal Conference-Catholic Secretariat</td>\n",
       "      <td>-1.23916</td>\n",
       "      <td>36.88640</td>\n",
       "      <td>KCCB ACTS</td>\n",
       "    </tr>\n",
       "  </tbody>\n",
       "</table>\n",
       "</div>"
      ],
      "text/plain": [
       "   mfl_code                 FacilityName    County SubCounty  \\\n",
       "0     13473  Aluor Mission Health Centre     Siaya       Gem   \n",
       "1     13488      Asumbi Mission Hospital  Homa Bay    Rangwe   \n",
       "2     13491  Awasi Mission Health Center    Kisumu    Nyando   \n",
       "3     12875             Babadogo (EDARP)   Nairobi   Ruaraka   \n",
       "\n",
       "                                             Owner      lat       lon  \\\n",
       "0  Kenya Episcopal Conference-Catholic Secretariat  0.01047  34.46500   \n",
       "1  Kenya Episcopal Conference-Catholic Secretariat -0.62079  34.61453   \n",
       "2  Kenya Episcopal Conference-Catholic Secretariat -0.16043  35.07395   \n",
       "3  Kenya Episcopal Conference-Catholic Secretariat -1.23916  36.88640   \n",
       "\n",
       "         SDP  \n",
       "0  KCCB ACTS  \n",
       "1  KCCB ACTS  \n",
       "2  KCCB ACTS  \n",
       "3  KCCB ACTS  "
      ]
     },
     "execution_count": 7,
     "metadata": {},
     "output_type": "execute_result"
    }
   ],
   "source": [
    "#the implementing sdp to filter\n",
    "partner_filter = 'KCCB ACTS'\n",
    "\n",
    "#@allows us to pass our string variable through the query method. we also use method chaining to do addition manipulations on the resulting data.\n",
    "kccb_sites = site_data.query('SDP == @partner_filter').reset_index().drop(['index'], axis=1)\n",
    "kccb_sites.head(4)"
   ]
  },
  {
   "cell_type": "code",
   "execution_count": 8,
   "id": "c5cd2220-aa3d-4d5e-a341-4811c728dbef",
   "metadata": {},
   "outputs": [
    {
     "data": {
      "text/plain": [
       "mfl_code  FacilityName  County  SubCounty  Owner  lat    lon    SDP  \n",
       "False     False         False   False      False  False  False  False    105\n",
       "Name: count, dtype: int64"
      ]
     },
     "execution_count": 8,
     "metadata": {},
     "output_type": "execute_result"
    }
   ],
   "source": [
    "#checking for any missing values\n",
    "kccb_sites.isna().value_counts()"
   ]
  },
  {
   "cell_type": "code",
   "execution_count": 9,
   "id": "89cd125c-5045-4f77-96b3-0a7232c591b3",
   "metadata": {},
   "outputs": [],
   "source": [
    "#saving our dataframe in a file for future use\n",
    "kccb_sites.to_excel('processed_data/cleaned_kccb_his_master_coordinates.xlsx', index=False)"
   ]
  },
  {
   "cell_type": "markdown",
   "id": "8849f370-2f73-4f70-b5cc-f200cd676223",
   "metadata": {},
   "source": [
    "no data is missing and we can also see we have 105 records equating to __105 facility under kccb-acts sdp__"
   ]
  },
  {
   "cell_type": "markdown",
   "id": "2a628f12-952a-430e-92f2-29bfe0bc685e",
   "metadata": {},
   "source": [
    "### our first dataset is cleaned and now we can do some few EDA on it"
   ]
  },
  {
   "cell_type": "code",
   "execution_count": 10,
   "id": "f3499a47-e8de-425a-a435-3b18da4ac68d",
   "metadata": {},
   "outputs": [
    {
     "data": {
      "text/plain": [
       "Owner\n",
       "Kenya Episcopal Conference-Catholic Secretariat    64\n",
       "Other Faith Based                                  17\n",
       "Christian Health Association of Kenya              16\n",
       "Ministry of Health                                  3\n",
       "Non-Governmental Organizations                      1\n",
       "Private Practice - Unspecified                      1\n",
       "Private Enterprise (Institution)                    1\n",
       "Kenya MPDB - Institution                            1\n",
       "Nursing Council of Kenya                            1\n",
       "Name: count, dtype: int64"
      ]
     },
     "execution_count": 10,
     "metadata": {},
     "output_type": "execute_result"
    }
   ],
   "source": [
    "#we can also use the value_counts() method to see the owners of the 105 sites\n",
    "kccb_sites.Owner.value_counts()"
   ]
  },
  {
   "cell_type": "markdown",
   "id": "2f6ff468-7fb7-412b-a11d-310c16cf14b6",
   "metadata": {},
   "source": [
    "64 sites belong to *__Kenya Episcopal Conference-Catholic Secretariat__*"
   ]
  },
  {
   "cell_type": "markdown",
   "id": "5a029623-f864-43b0-9e97-e33fa400dd33",
   "metadata": {},
   "source": [
    "### some quick visualization test"
   ]
  },
  {
   "cell_type": "code",
   "execution_count": 11,
   "id": "7e801f3b-bb5e-4c29-9581-7db860620620",
   "metadata": {
    "tags": []
   },
   "outputs": [],
   "source": [
    "import matplotlib.pyplot as plt"
   ]
  },
  {
   "cell_type": "code",
   "execution_count": 12,
   "id": "fc34aa4c-e23a-44f2-9462-4f93b4445782",
   "metadata": {},
   "outputs": [
    {
     "name": "stdout",
     "output_type": "stream",
     "text": [
      "KCCB ACTS supports facilities in 20 counties\n"
     ]
    }
   ],
   "source": [
    "print(f'KCCB ACTS supports facilities in {kccb_sites.County.nunique()} counties')"
   ]
  },
  {
   "cell_type": "code",
   "execution_count": 13,
   "id": "f37578d8-683f-4c7b-9e50-5cddefad0ef4",
   "metadata": {},
   "outputs": [
    {
     "data": {
      "image/png": "[encoded data removed]",
      "text/plain": [
       "<Figure size 2000x500 with 1 Axes>"
      ]
     },
     "metadata": {},
     "output_type": "display_data"
    }
   ],
   "source": [
    "csites = kccb_sites.County.value_counts().reset_index()\n",
    "csites.columns = ('county','Supported_Sites')\n",
    "#csites.set_index('county')\n",
    "#for index,county in csites.county.items():\n",
    "#    print(str(county));\n",
    "#basis on our plot; type and size\n",
    "csites.plot.bar(figsize=(20,5))\n",
    "\n",
    "#labels of plot axes using the import plt for matplotlib.pyplot\n",
    "plt.xlabel('County')\n",
    "plt.ylabel('No. of Supported Sites')\n",
    "plt.title('Total Sites Supported by KCCB-ACTS as at August 2023', fontsize=13)\n",
    "\n",
    "#for the xticks to show county names\n",
    "plt.xticks(csites.index, labels=csites.county)\n",
    "\n",
    "#plt.axis(\"off\") #removes the borders and whitespace\n",
    "\n",
    "#annotate values above bars based on index\n",
    "for county, counts in csites.Supported_Sites.items():\n",
    "    plt.text(county, counts+0.22, str(counts), fontsize=10, horizontalalignment='center');"
   ]
  },
  {
   "cell_type": "markdown",
   "id": "d141df27-6a8d-4f86-a9ce-dabf46e2ac79",
   "metadata": {},
   "source": [
    "### adding more variables to our data by merging with another dataset"
   ]
  },
  {
   "cell_type": "code",
   "execution_count": 14,
   "id": "f70cfd63-4714-4b98-89e6-a728fcd3f6cc",
   "metadata": {},
   "outputs": [
    {
     "data": {
      "text/html": [
       "<div>\n",
       "<style scoped>\n",
       "    .dataframe tbody tr th:only-of-type {\n",
       "        vertical-align: middle;\n",
       "    }\n",
       "\n",
       "    .dataframe tbody tr th {\n",
       "        vertical-align: top;\n",
       "    }\n",
       "\n",
       "    .dataframe thead th {\n",
       "        text-align: right;\n",
       "    }\n",
       "</style>\n",
       "<table border=\"1\" class=\"dataframe\">\n",
       "  <thead>\n",
       "    <tr style=\"text-align: right;\">\n",
       "      <th></th>\n",
       "      <th>mfl</th>\n",
       "      <th>facility_name</th>\n",
       "      <th>txnew2023Q1</th>\n",
       "      <th>txnew2023Q2</th>\n",
       "      <th>txnew2023Q3</th>\n",
       "      <th>txnew2023Q4</th>\n",
       "      <th>2023Q1</th>\n",
       "      <th>2023Q2</th>\n",
       "      <th>2023Q3</th>\n",
       "      <th>2023Q4</th>\n",
       "    </tr>\n",
       "  </thead>\n",
       "  <tbody>\n",
       "    <tr>\n",
       "      <th>64</th>\n",
       "      <td>20364</td>\n",
       "      <td>Ringa Dispensary</td>\n",
       "      <td>4</td>\n",
       "      <td>3</td>\n",
       "      <td>8</td>\n",
       "      <td>2</td>\n",
       "      <td>839</td>\n",
       "      <td>835</td>\n",
       "      <td>845</td>\n",
       "      <td>841</td>\n",
       "    </tr>\n",
       "    <tr>\n",
       "      <th>103</th>\n",
       "      <td>20692</td>\n",
       "      <td>Vigetse Medical Clinic</td>\n",
       "      <td>10</td>\n",
       "      <td>4</td>\n",
       "      <td>4</td>\n",
       "      <td>2</td>\n",
       "      <td>519</td>\n",
       "      <td>525</td>\n",
       "      <td>528</td>\n",
       "      <td>529</td>\n",
       "    </tr>\n",
       "    <tr>\n",
       "      <th>87</th>\n",
       "      <td>20836</td>\n",
       "      <td>St Monica Hospital (Town Clinic)</td>\n",
       "      <td>8</td>\n",
       "      <td>9</td>\n",
       "      <td>6</td>\n",
       "      <td>8</td>\n",
       "      <td>1116</td>\n",
       "      <td>1118</td>\n",
       "      <td>1112</td>\n",
       "      <td>1115</td>\n",
       "    </tr>\n",
       "    <tr>\n",
       "      <th>78</th>\n",
       "      <td>22771</td>\n",
       "      <td>St Joseph Catholic Dispensary (Maungu)</td>\n",
       "      <td>4</td>\n",
       "      <td>3</td>\n",
       "      <td>3</td>\n",
       "      <td>2</td>\n",
       "      <td>281</td>\n",
       "      <td>278</td>\n",
       "      <td>279</td>\n",
       "      <td>284</td>\n",
       "    </tr>\n",
       "    <tr>\n",
       "      <th>5</th>\n",
       "      <td>23285</td>\n",
       "      <td>Chaani Catholic Dispensary CBHC</td>\n",
       "      <td>12</td>\n",
       "      <td>8</td>\n",
       "      <td>8</td>\n",
       "      <td>5</td>\n",
       "      <td>649</td>\n",
       "      <td>671</td>\n",
       "      <td>678</td>\n",
       "      <td>681</td>\n",
       "    </tr>\n",
       "  </tbody>\n",
       "</table>\n",
       "</div>"
      ],
      "text/plain": [
       "       mfl                           facility_name  txnew2023Q1  txnew2023Q2  \\\n",
       "64   20364                        Ringa Dispensary            4            3   \n",
       "103  20692                  Vigetse Medical Clinic           10            4   \n",
       "87   20836        St Monica Hospital (Town Clinic)            8            9   \n",
       "78   22771  St Joseph Catholic Dispensary (Maungu)            4            3   \n",
       "5    23285         Chaani Catholic Dispensary CBHC           12            8   \n",
       "\n",
       "     txnew2023Q3  txnew2023Q4  2023Q1  2023Q2  2023Q3  2023Q4  \n",
       "64             8            2     839     835     845     841  \n",
       "103            4            2     519     525     528     529  \n",
       "87             6            8    1116    1118    1112    1115  \n",
       "78             3            2     281     278     279     284  \n",
       "5              8            5     649     671     678     681  "
      ]
     },
     "execution_count": 14,
     "metadata": {},
     "output_type": "execute_result"
    }
   ],
   "source": [
    "#loading dataset with the tx current data for the quarters\n",
    "txdata = 'raw_data/kccbtxcurrdata.xlsx'\n",
    "\n",
    "kccbtxdata = pd.read_excel(txdata, usecols={'mfl',\n",
    "                                            'facility_name', 'txnew2023Q1','txnew2023Q2',\n",
    "                                            'txnew2023Q3','txnew2023Q4',\n",
    "                                            '2023Q1','2023Q2','2023Q3','2023Q4'}\n",
    "                          ).sort_values(by='mfl',\n",
    "                                        ascending=True)\n",
    "kccbtxdata.tail(5)"
   ]
  },
  {
   "cell_type": "code",
   "execution_count": 15,
   "id": "1556eaf9-b9a1-48ec-aa83-03b2a5961d8b",
   "metadata": {},
   "outputs": [
    {
     "name": "stdout",
     "output_type": "stream",
     "text": [
      "<class 'pandas.core.frame.DataFrame'>\n",
      "Index: 105 entries, 9 to 5\n",
      "Data columns (total 10 columns):\n",
      " #   Column         Non-Null Count  Dtype \n",
      "---  ------         --------------  ----- \n",
      " 0   mfl            105 non-null    int64 \n",
      " 1   facility_name  105 non-null    object\n",
      " 2   txnew2023Q1    105 non-null    int64 \n",
      " 3   txnew2023Q2    105 non-null    int64 \n",
      " 4   txnew2023Q3    105 non-null    int64 \n",
      " 5   txnew2023Q4    105 non-null    int64 \n",
      " 6   2023Q1         105 non-null    int64 \n",
      " 7   2023Q2         105 non-null    int64 \n",
      " 8   2023Q3         105 non-null    int64 \n",
      " 9   2023Q4         105 non-null    int64 \n",
      "dtypes: int64(9), object(1)\n",
      "memory usage: 9.0+ KB\n"
     ]
    }
   ],
   "source": [
    "#to check on our dtypes\n",
    "kccbtxdata.info()"
   ]
  },
  {
   "cell_type": "code",
   "execution_count": 16,
   "id": "c62332b9-248d-401c-be2c-900696a55eba",
   "metadata": {},
   "outputs": [
    {
     "data": {
      "text/html": [
       "<div>\n",
       "<style scoped>\n",
       "    .dataframe tbody tr th:only-of-type {\n",
       "        vertical-align: middle;\n",
       "    }\n",
       "\n",
       "    .dataframe tbody tr th {\n",
       "        vertical-align: top;\n",
       "    }\n",
       "\n",
       "    .dataframe thead th {\n",
       "        text-align: right;\n",
       "    }\n",
       "</style>\n",
       "<table border=\"1\" class=\"dataframe\">\n",
       "  <thead>\n",
       "    <tr style=\"text-align: right;\">\n",
       "      <th></th>\n",
       "      <th>mfl_code</th>\n",
       "      <th>FacilityName</th>\n",
       "      <th>County</th>\n",
       "      <th>SubCounty</th>\n",
       "      <th>Owner</th>\n",
       "      <th>lat</th>\n",
       "      <th>lon</th>\n",
       "      <th>SDP</th>\n",
       "    </tr>\n",
       "  </thead>\n",
       "  <tbody>\n",
       "    <tr>\n",
       "      <th>100</th>\n",
       "      <td>14157</td>\n",
       "      <td>Ulanda Dispensary</td>\n",
       "      <td>Migori</td>\n",
       "      <td>Awendo</td>\n",
       "      <td>Kenya Episcopal Conference-Catholic Secretariat</td>\n",
       "      <td>-1.007030</td>\n",
       "      <td>34.58561</td>\n",
       "      <td>KCCB ACTS</td>\n",
       "    </tr>\n",
       "    <tr>\n",
       "      <th>101</th>\n",
       "      <td>17183</td>\n",
       "      <td>Uradi Health Centre</td>\n",
       "      <td>Siaya</td>\n",
       "      <td>Alego Usonga</td>\n",
       "      <td>Kenya Episcopal Conference-Catholic Secretariat</td>\n",
       "      <td>0.121560</td>\n",
       "      <td>34.15762</td>\n",
       "      <td>KCCB ACTS</td>\n",
       "    </tr>\n",
       "    <tr>\n",
       "      <th>102</th>\n",
       "      <td>14166</td>\n",
       "      <td>Verna Health Centre</td>\n",
       "      <td>Migori</td>\n",
       "      <td>Rongo</td>\n",
       "      <td>Kenya Episcopal Conference-Catholic Secretariat</td>\n",
       "      <td>-0.794940</td>\n",
       "      <td>34.58272</td>\n",
       "      <td>KCCB ACTS</td>\n",
       "    </tr>\n",
       "    <tr>\n",
       "      <th>103</th>\n",
       "      <td>20692</td>\n",
       "      <td>Vigetse Medical Clinic</td>\n",
       "      <td>Vihiga</td>\n",
       "      <td>Vihiga</td>\n",
       "      <td>Nursing Council of Kenya</td>\n",
       "      <td>-0.000603</td>\n",
       "      <td>34.67350</td>\n",
       "      <td>KCCB ACTS</td>\n",
       "    </tr>\n",
       "    <tr>\n",
       "      <th>104</th>\n",
       "      <td>14174</td>\n",
       "      <td>Wire Dispensary</td>\n",
       "      <td>Homa Bay</td>\n",
       "      <td>Rachuonyo South</td>\n",
       "      <td>Christian Health Association of Kenya</td>\n",
       "      <td>-0.488500</td>\n",
       "      <td>34.75548</td>\n",
       "      <td>KCCB ACTS</td>\n",
       "    </tr>\n",
       "  </tbody>\n",
       "</table>\n",
       "</div>"
      ],
      "text/plain": [
       "     mfl_code            FacilityName    County        SubCounty  \\\n",
       "100     14157       Ulanda Dispensary    Migori           Awendo   \n",
       "101     17183     Uradi Health Centre     Siaya     Alego Usonga   \n",
       "102     14166     Verna Health Centre    Migori            Rongo   \n",
       "103     20692  Vigetse Medical Clinic    Vihiga           Vihiga   \n",
       "104     14174         Wire Dispensary  Homa Bay  Rachuonyo South   \n",
       "\n",
       "                                               Owner       lat       lon  \\\n",
       "100  Kenya Episcopal Conference-Catholic Secretariat -1.007030  34.58561   \n",
       "101  Kenya Episcopal Conference-Catholic Secretariat  0.121560  34.15762   \n",
       "102  Kenya Episcopal Conference-Catholic Secretariat -0.794940  34.58272   \n",
       "103                         Nursing Council of Kenya -0.000603  34.67350   \n",
       "104            Christian Health Association of Kenya -0.488500  34.75548   \n",
       "\n",
       "           SDP  \n",
       "100  KCCB ACTS  \n",
       "101  KCCB ACTS  \n",
       "102  KCCB ACTS  \n",
       "103  KCCB ACTS  \n",
       "104  KCCB ACTS  "
      ]
     },
     "execution_count": 16,
     "metadata": {},
     "output_type": "execute_result"
    }
   ],
   "source": [
    "#show the last 5 records\n",
    "kccb_sites.tail(5)"
   ]
  },
  {
   "cell_type": "code",
   "execution_count": 17,
   "id": "c7997398-ffbb-4833-b71f-de447ff00157",
   "metadata": {},
   "outputs": [
    {
     "data": {
      "text/html": [
       "<div>\n",
       "<style scoped>\n",
       "    .dataframe tbody tr th:only-of-type {\n",
       "        vertical-align: middle;\n",
       "    }\n",
       "\n",
       "    .dataframe tbody tr th {\n",
       "        vertical-align: top;\n",
       "    }\n",
       "\n",
       "    .dataframe thead th {\n",
       "        text-align: right;\n",
       "    }\n",
       "</style>\n",
       "<table border=\"1\" class=\"dataframe\">\n",
       "  <thead>\n",
       "    <tr style=\"text-align: right;\">\n",
       "      <th></th>\n",
       "      <th>mfl</th>\n",
       "      <th>facility_name</th>\n",
       "      <th>txnew2023Q1</th>\n",
       "      <th>txnew2023Q2</th>\n",
       "      <th>txnew2023Q3</th>\n",
       "      <th>txnew2023Q4</th>\n",
       "      <th>2023Q1</th>\n",
       "      <th>2023Q2</th>\n",
       "      <th>2023Q3</th>\n",
       "      <th>2023Q4</th>\n",
       "    </tr>\n",
       "  </thead>\n",
       "  <tbody>\n",
       "  </tbody>\n",
       "</table>\n",
       "</div>"
      ],
      "text/plain": [
       "Empty DataFrame\n",
       "Columns: [mfl, facility_name, txnew2023Q1, txnew2023Q2, txnew2023Q3, txnew2023Q4, 2023Q1, 2023Q2, 2023Q3, 2023Q4]\n",
       "Index: []"
      ]
     },
     "execution_count": 17,
     "metadata": {},
     "output_type": "execute_result"
    }
   ],
   "source": [
    "#check for duplicate records\n",
    "kccbtxdata[kccbtxdata.duplicated()]"
   ]
  },
  {
   "cell_type": "code",
   "execution_count": 18,
   "id": "013f1c29-a4d0-46f5-868b-686db636441a",
   "metadata": {},
   "outputs": [
    {
     "data": {
      "text/plain": [
       "mfl    facility_name  txnew2023Q1  txnew2023Q2  txnew2023Q3  txnew2023Q4  2023Q1  2023Q2  2023Q3  2023Q4\n",
       "False  False          False        False        False        False        False   False   False   False     105\n",
       "Name: count, dtype: int64"
      ]
     },
     "execution_count": 18,
     "metadata": {},
     "output_type": "execute_result"
    }
   ],
   "source": [
    "#check for missing values\n",
    "kccbtxdata.isna().value_counts()"
   ]
  },
  {
   "cell_type": "code",
   "execution_count": 19,
   "id": "74bef122-dbe1-4d59-bca1-da9927cd155a",
   "metadata": {},
   "outputs": [],
   "source": [
    "#renaming the mfl column in the second df\n",
    "kccbtxdata.rename(columns={'mfl':'mfl_code'}, inplace=True)\n",
    "\n",
    "#merging the two dataframe where mfl_code is same\n",
    "#and saving the resulting dataframe as a new dataframe to merge with the next dataset. use to_excel('dir/filename') to save it\n",
    "tx_coords = (pd.\n",
    " merge(kccbtxdata, kccb_sites,\n",
    "      on=['mfl_code'],\n",
    "      how='left'))"
   ]
  },
  {
   "cell_type": "markdown",
   "id": "8b5b85ad-6284-4ac5-92be-dc9b1da420ec",
   "metadata": {},
   "source": [
    "### adding a dataset with 'region' variable for the sites"
   ]
  },
  {
   "cell_type": "code",
   "execution_count": 20,
   "id": "cfbecabd-bb1c-46ba-8944-8bf8f3d0470f",
   "metadata": {},
   "outputs": [
    {
     "data": {
      "text/html": [
       "<div>\n",
       "<style scoped>\n",
       "    .dataframe tbody tr th:only-of-type {\n",
       "        vertical-align: middle;\n",
       "    }\n",
       "\n",
       "    .dataframe tbody tr th {\n",
       "        vertical-align: top;\n",
       "    }\n",
       "\n",
       "    .dataframe thead th {\n",
       "        text-align: right;\n",
       "    }\n",
       "</style>\n",
       "<table border=\"1\" class=\"dataframe\">\n",
       "  <thead>\n",
       "    <tr style=\"text-align: right;\">\n",
       "      <th></th>\n",
       "      <th>facility_name</th>\n",
       "      <th>mfl_code</th>\n",
       "      <th>region</th>\n",
       "    </tr>\n",
       "  </thead>\n",
       "  <tbody>\n",
       "    <tr>\n",
       "      <th>47</th>\n",
       "      <td>St Paul Dispensary</td>\n",
       "      <td>14123</td>\n",
       "      <td>Siaya</td>\n",
       "    </tr>\n",
       "  </tbody>\n",
       "</table>\n",
       "</div>"
      ],
      "text/plain": [
       "         facility_name  mfl_code region\n",
       "47  St Paul Dispensary     14123  Siaya"
      ]
     },
     "execution_count": 20,
     "metadata": {},
     "output_type": "execute_result"
    }
   ],
   "source": [
    "#add regions\n",
    "siteregions = 'raw_data/regiondata.csv'\n",
    "\n",
    "region_data = pd.read_csv(siteregions, usecols=('Facility',\n",
    "                                             'MFL Code',\n",
    "                                             'Region'))\n",
    "\n",
    "columns=('facility_name',\n",
    "         'mfl_code',\n",
    "         'region')\n",
    "\n",
    "region_data.columns = columns\n",
    "\n",
    "region_data.sample(1)"
   ]
  },
  {
   "cell_type": "code",
   "execution_count": 21,
   "id": "41d70117-892b-4ee2-9537-43f561941afb",
   "metadata": {},
   "outputs": [
    {
     "data": {
      "text/plain": [
       "(57, 3)"
      ]
     },
     "execution_count": 21,
     "metadata": {},
     "output_type": "execute_result"
    }
   ],
   "source": [
    "region_data.shape"
   ]
  },
  {
   "cell_type": "code",
   "execution_count": 22,
   "id": "20cfc89d-db93-4933-b809-14a296453ba4",
   "metadata": {},
   "outputs": [],
   "source": [
    "#dataset only contains 57 sites, while our kccb_sites dataframe has 105 sites. \n",
    "#a quick check on null values in a merge of the two shows this\n",
    "kccbsites_df = (pd.\n",
    " merge(tx_coords, region_data,\n",
    "      on=['mfl_code'],\n",
    "      how='left'))\n",
    "\n",
    "#.fillna(value='Nairobi')\n",
    "#.isnull().value_counts()"
   ]
  },
  {
   "cell_type": "code",
   "execution_count": 23,
   "id": "e4faee2c-3300-4ff0-a4f8-cf9bccb5dbd7",
   "metadata": {},
   "outputs": [
    {
     "data": {
      "text/html": [
       "<div>\n",
       "<style scoped>\n",
       "    .dataframe tbody tr th:only-of-type {\n",
       "        vertical-align: middle;\n",
       "    }\n",
       "\n",
       "    .dataframe tbody tr th {\n",
       "        vertical-align: top;\n",
       "    }\n",
       "\n",
       "    .dataframe thead th {\n",
       "        text-align: right;\n",
       "    }\n",
       "</style>\n",
       "<table border=\"1\" class=\"dataframe\">\n",
       "  <thead>\n",
       "    <tr style=\"text-align: right;\">\n",
       "      <th></th>\n",
       "      <th>mfl_code</th>\n",
       "      <th>facility_name_x</th>\n",
       "      <th>txnew2023Q1</th>\n",
       "      <th>txnew2023Q2</th>\n",
       "      <th>txnew2023Q3</th>\n",
       "      <th>txnew2023Q4</th>\n",
       "      <th>2023Q1</th>\n",
       "      <th>2023Q2</th>\n",
       "      <th>2023Q3</th>\n",
       "      <th>2023Q4</th>\n",
       "      <th>FacilityName</th>\n",
       "      <th>County</th>\n",
       "      <th>SubCounty</th>\n",
       "      <th>Owner</th>\n",
       "      <th>lat</th>\n",
       "      <th>lon</th>\n",
       "      <th>SDP</th>\n",
       "      <th>facility_name_y</th>\n",
       "      <th>region</th>\n",
       "    </tr>\n",
       "  </thead>\n",
       "  <tbody>\n",
       "    <tr>\n",
       "      <th>38</th>\n",
       "      <td>13739</td>\n",
       "      <td>St Elizabeth Lwak Mission Health Centre</td>\n",
       "      <td>9</td>\n",
       "      <td>10</td>\n",
       "      <td>20</td>\n",
       "      <td>7</td>\n",
       "      <td>1922</td>\n",
       "      <td>1930</td>\n",
       "      <td>1937</td>\n",
       "      <td>1939</td>\n",
       "      <td>St Elizabeth Lwak Mission Health Centre</td>\n",
       "      <td>Siaya</td>\n",
       "      <td>Rarieda</td>\n",
       "      <td>Kenya Episcopal Conference-Catholic Secretariat</td>\n",
       "      <td>-0.13000</td>\n",
       "      <td>34.35000</td>\n",
       "      <td>KCCB ACTS</td>\n",
       "      <td>St Elizabeth Lwak Mission Health Centre</td>\n",
       "      <td>Siaya</td>\n",
       "    </tr>\n",
       "    <tr>\n",
       "      <th>10</th>\n",
       "      <td>10825</td>\n",
       "      <td>Nazareth Hospital</td>\n",
       "      <td>20</td>\n",
       "      <td>12</td>\n",
       "      <td>14</td>\n",
       "      <td>9</td>\n",
       "      <td>2113</td>\n",
       "      <td>2082</td>\n",
       "      <td>2060</td>\n",
       "      <td>2054</td>\n",
       "      <td>Nazareth Hospital</td>\n",
       "      <td>Kiambu</td>\n",
       "      <td>Limuru</td>\n",
       "      <td>Kenya Episcopal Conference-Catholic Secretariat</td>\n",
       "      <td>-1.13613</td>\n",
       "      <td>36.72546</td>\n",
       "      <td>KCCB ACTS</td>\n",
       "      <td>NaN</td>\n",
       "      <td>NaN</td>\n",
       "    </tr>\n",
       "    <tr>\n",
       "      <th>85</th>\n",
       "      <td>16073</td>\n",
       "      <td>Holy Family Nangina Mission Hospital</td>\n",
       "      <td>12</td>\n",
       "      <td>12</td>\n",
       "      <td>14</td>\n",
       "      <td>13</td>\n",
       "      <td>2651</td>\n",
       "      <td>2647</td>\n",
       "      <td>2459</td>\n",
       "      <td>2492</td>\n",
       "      <td>Holy Family Nangina Mission Hospital</td>\n",
       "      <td>Busia</td>\n",
       "      <td>Samia</td>\n",
       "      <td>Kenya Episcopal Conference-Catholic Secretariat</td>\n",
       "      <td>0.27749</td>\n",
       "      <td>34.10545</td>\n",
       "      <td>KCCB ACTS</td>\n",
       "      <td>Holy Family Nangina Mission Hospital</td>\n",
       "      <td>Western</td>\n",
       "    </tr>\n",
       "  </tbody>\n",
       "</table>\n",
       "</div>"
      ],
      "text/plain": [
       "    mfl_code                          facility_name_x  txnew2023Q1  \\\n",
       "38     13739  St Elizabeth Lwak Mission Health Centre            9   \n",
       "10     10825                        Nazareth Hospital           20   \n",
       "85     16073     Holy Family Nangina Mission Hospital           12   \n",
       "\n",
       "    txnew2023Q2  txnew2023Q3  txnew2023Q4  2023Q1  2023Q2  2023Q3  2023Q4  \\\n",
       "38           10           20            7    1922    1930    1937    1939   \n",
       "10           12           14            9    2113    2082    2060    2054   \n",
       "85           12           14           13    2651    2647    2459    2492   \n",
       "\n",
       "                               FacilityName  County SubCounty  \\\n",
       "38  St Elizabeth Lwak Mission Health Centre   Siaya   Rarieda   \n",
       "10                        Nazareth Hospital  Kiambu    Limuru   \n",
       "85     Holy Family Nangina Mission Hospital   Busia     Samia   \n",
       "\n",
       "                                              Owner      lat       lon  \\\n",
       "38  Kenya Episcopal Conference-Catholic Secretariat -0.13000  34.35000   \n",
       "10  Kenya Episcopal Conference-Catholic Secretariat -1.13613  36.72546   \n",
       "85  Kenya Episcopal Conference-Catholic Secretariat  0.27749  34.10545   \n",
       "\n",
       "          SDP                          facility_name_y   region  \n",
       "38  KCCB ACTS  St Elizabeth Lwak Mission Health Centre    Siaya  \n",
       "10  KCCB ACTS                                      NaN      NaN  \n",
       "85  KCCB ACTS     Holy Family Nangina Mission Hospital  Western  "
      ]
     },
     "execution_count": 23,
     "metadata": {},
     "output_type": "execute_result"
    }
   ],
   "source": [
    "kccbsites_df.sample(3)"
   ]
  },
  {
   "cell_type": "code",
   "execution_count": 24,
   "id": "fea1d934-d609-4949-b7e1-afcf662b176e",
   "metadata": {},
   "outputs": [
    {
     "data": {
      "text/plain": [
       "array([nan, 'Siaya', 'HomaBay', 'Kisumu', 'Kisii', 'Western'],\n",
       "      dtype=object)"
      ]
     },
     "execution_count": 24,
     "metadata": {},
     "output_type": "execute_result"
    }
   ],
   "source": [
    "kccbsites_df.region.unique()"
   ]
  },
  {
   "cell_type": "code",
   "execution_count": 25,
   "id": "6bc96506-8b9f-4fb3-9d3a-06125d1a91d3",
   "metadata": {
    "tags": []
   },
   "outputs": [],
   "source": [
    "#changing region from nan to the appropriate value for the facilities in the newer counties\n",
    "#kccbsites_df[kccbsites_df.County.str.contains(\"Nairobi|Narok|Nyeri|Kirinyaga|Murang'a|Kiambu|Nakuru|Kajiado\")].assign(region = \"Nairobi\") #worked but didnt change in place\n"
   ]
  },
  {
   "cell_type": "code",
   "execution_count": 26,
   "id": "940b6203-4c1b-479f-9db8-d1b6afaf7239",
   "metadata": {},
   "outputs": [],
   "source": [
    "#rows containing the specific string as a filter\n",
    "nairobi_region = kccbsites_df.County.str.contains(\"Nairobi|Narok|Nyeri|Kirinyaga|Murang'a|Kiambu|Nakuru|Kajiado\")\n",
    "mombasa_region = kccbsites_df.County.str.contains(\"Taita Taveta|Mombasa|Kilifi\")\n",
    "\n",
    "#use loc to take our filters in to fill in the nan values in regions\n",
    "kccbsites_df.loc[nairobi_region, 'region'] = kccbsites_df.loc[nairobi_region, 'region'].fillna(value='Nairobi')\n",
    "kccbsites_df.loc[mombasa_region, 'region'] = kccbsites_df.loc[mombasa_region, 'region'].fillna(value='Mombasa')"
   ]
  },
  {
   "cell_type": "code",
   "execution_count": 27,
   "id": "9d5e5b70-43e6-4c5c-b03c-2b2b9428003c",
   "metadata": {},
   "outputs": [
    {
     "data": {
      "text/plain": [
       "(105, 19)"
      ]
     },
     "execution_count": 27,
     "metadata": {},
     "output_type": "execute_result"
    }
   ],
   "source": [
    "kccbsites_df.shape"
   ]
  },
  {
   "cell_type": "code",
   "execution_count": 28,
   "id": "d0deddc0-872f-4d04-a192-f7c9a909ad40",
   "metadata": {},
   "outputs": [
    {
     "data": {
      "text/html": [
       "<div>\n",
       "<style scoped>\n",
       "    .dataframe tbody tr th:only-of-type {\n",
       "        vertical-align: middle;\n",
       "    }\n",
       "\n",
       "    .dataframe tbody tr th {\n",
       "        vertical-align: top;\n",
       "    }\n",
       "\n",
       "    .dataframe thead th {\n",
       "        text-align: right;\n",
       "    }\n",
       "</style>\n",
       "<table border=\"1\" class=\"dataframe\">\n",
       "  <thead>\n",
       "    <tr style=\"text-align: right;\">\n",
       "      <th></th>\n",
       "      <th>mfl_code</th>\n",
       "      <th>facility_name_x</th>\n",
       "      <th>txnew2023Q1</th>\n",
       "      <th>txnew2023Q2</th>\n",
       "      <th>txnew2023Q3</th>\n",
       "      <th>txnew2023Q4</th>\n",
       "      <th>2023Q1</th>\n",
       "      <th>2023Q2</th>\n",
       "      <th>2023Q3</th>\n",
       "      <th>2023Q4</th>\n",
       "      <th>FacilityName</th>\n",
       "      <th>County</th>\n",
       "      <th>SubCounty</th>\n",
       "      <th>Owner</th>\n",
       "      <th>lat</th>\n",
       "      <th>lon</th>\n",
       "      <th>SDP</th>\n",
       "      <th>facility_name_y</th>\n",
       "      <th>region</th>\n",
       "    </tr>\n",
       "  </thead>\n",
       "  <tbody>\n",
       "    <tr>\n",
       "      <th>18</th>\n",
       "      <td>11817</td>\n",
       "      <td>St Joseph's Shelter of Hope</td>\n",
       "      <td>9</td>\n",
       "      <td>8</td>\n",
       "      <td>7</td>\n",
       "      <td>5</td>\n",
       "      <td>745</td>\n",
       "      <td>755</td>\n",
       "      <td>742</td>\n",
       "      <td>737</td>\n",
       "      <td>St Joseph's Shelter of Hope</td>\n",
       "      <td>Taita Taveta</td>\n",
       "      <td>Voi</td>\n",
       "      <td>Christian Health Association of Kenya</td>\n",
       "      <td>-3.39082</td>\n",
       "      <td>38.53897</td>\n",
       "      <td>KCCB ACTS</td>\n",
       "      <td>NaN</td>\n",
       "      <td>Mombasa</td>\n",
       "    </tr>\n",
       "    <tr>\n",
       "      <th>15</th>\n",
       "      <td>11124</td>\n",
       "      <td>Tumutumu (PCEA) Hospital</td>\n",
       "      <td>8</td>\n",
       "      <td>7</td>\n",
       "      <td>10</td>\n",
       "      <td>3</td>\n",
       "      <td>1904</td>\n",
       "      <td>1886</td>\n",
       "      <td>1846</td>\n",
       "      <td>1846</td>\n",
       "      <td>Tumutumu (PCEA) Hospital</td>\n",
       "      <td>Nyeri</td>\n",
       "      <td>Mathira West</td>\n",
       "      <td>Christian Health Association of Kenya</td>\n",
       "      <td>-0.48549</td>\n",
       "      <td>37.07946</td>\n",
       "      <td>KCCB ACTS</td>\n",
       "      <td>NaN</td>\n",
       "      <td>Nairobi</td>\n",
       "    </tr>\n",
       "  </tbody>\n",
       "</table>\n",
       "</div>"
      ],
      "text/plain": [
       "    mfl_code              facility_name_x  txnew2023Q1  txnew2023Q2  \\\n",
       "18     11817  St Joseph's Shelter of Hope            9            8   \n",
       "15     11124     Tumutumu (PCEA) Hospital            8            7   \n",
       "\n",
       "    txnew2023Q3  txnew2023Q4  2023Q1  2023Q2  2023Q3  2023Q4  \\\n",
       "18            7            5     745     755     742     737   \n",
       "15           10            3    1904    1886    1846    1846   \n",
       "\n",
       "                   FacilityName        County     SubCounty  \\\n",
       "18  St Joseph's Shelter of Hope  Taita Taveta           Voi   \n",
       "15     Tumutumu (PCEA) Hospital         Nyeri  Mathira West   \n",
       "\n",
       "                                    Owner      lat       lon        SDP  \\\n",
       "18  Christian Health Association of Kenya -3.39082  38.53897  KCCB ACTS   \n",
       "15  Christian Health Association of Kenya -0.48549  37.07946  KCCB ACTS   \n",
       "\n",
       "   facility_name_y   region  \n",
       "18             NaN  Mombasa  \n",
       "15             NaN  Nairobi  "
      ]
     },
     "execution_count": 28,
     "metadata": {},
     "output_type": "execute_result"
    }
   ],
   "source": [
    "kccbsites_df.sample(2)"
   ]
  },
  {
   "cell_type": "code",
   "execution_count": 29,
   "id": "7b2964b1-b1db-4e56-84a8-fb78a560f7e2",
   "metadata": {},
   "outputs": [
    {
     "data": {
      "text/plain": [
       "region\n",
       "False    105\n",
       "Name: count, dtype: int64"
      ]
     },
     "execution_count": 29,
     "metadata": {},
     "output_type": "execute_result"
    }
   ],
   "source": [
    "#check for any missing values\n",
    "kccbsites_df.region.isna().value_counts()"
   ]
  },
  {
   "cell_type": "code",
   "execution_count": 30,
   "id": "f4aeb242-51a2-41cd-bd72-08038115daab",
   "metadata": {},
   "outputs": [
    {
     "data": {
      "text/plain": [
       "mfl_code             int64\n",
       "facility_name_x     object\n",
       "txnew2023Q1          int64\n",
       "txnew2023Q2          int64\n",
       "txnew2023Q3          int64\n",
       "txnew2023Q4          int64\n",
       "2023Q1               int64\n",
       "2023Q2               int64\n",
       "2023Q3               int64\n",
       "2023Q4               int64\n",
       "FacilityName        object\n",
       "County              object\n",
       "SubCounty           object\n",
       "Owner               object\n",
       "lat                float64\n",
       "lon                float64\n",
       "SDP                 object\n",
       "facility_name_y     object\n",
       "region              object\n",
       "dtype: object"
      ]
     },
     "execution_count": 30,
     "metadata": {},
     "output_type": "execute_result"
    }
   ],
   "source": [
    "#our columns and their respective data types\n",
    "kccbsites_df.dtypes"
   ]
  },
  {
   "cell_type": "code",
   "execution_count": 31,
   "id": "b31057b5-d44d-4604-ad3f-bc000f6f871b",
   "metadata": {},
   "outputs": [],
   "source": [
    "#mfl_code to str since no mathematical operations should be done on it\n",
    "kccbsites_df.mfl_code = kccbsites_df.mfl_code.apply(str)"
   ]
  },
  {
   "cell_type": "code",
   "execution_count": 32,
   "id": "0b13ec49-c2c6-4917-a533-6e8a31c86f6a",
   "metadata": {},
   "outputs": [],
   "source": [
    "kccbsites_df = kccbsites_df.drop(['FacilityName','facility_name_y'], axis=1)"
   ]
  },
  {
   "cell_type": "code",
   "execution_count": 33,
   "id": "d619c9c2-05fb-483d-b413-241af6c9627a",
   "metadata": {},
   "outputs": [
    {
     "data": {
      "text/plain": [
       "array(['Nyeri', 'Kirinyaga', \"Murang'a\", 'Kiambu', 'Nairobi', 'Narok',\n",
       "       'Nakuru', 'Kajiado'], dtype=object)"
      ]
     },
     "execution_count": 33,
     "metadata": {},
     "output_type": "execute_result"
    }
   ],
   "source": [
    "#checking to see if our assigning of region is correct\n",
    "filter = 'Nairobi'\n",
    "\n",
    "(kccbsites_df\n",
    " .query('region==@filter')['County'].unique())"
   ]
  },
  {
   "cell_type": "code",
   "execution_count": 34,
   "id": "9f1ef910-1a62-4beb-a08d-7472af13710d",
   "metadata": {},
   "outputs": [],
   "source": [
    "kccbsites_df.rename(columns={'facility_name_x':'facility_name',\n",
    "                        'County':'county',\n",
    "                        'SubCounty':'sub_county',\n",
    "                        'Owner':'owner'}, inplace=True)"
   ]
  },
  {
   "cell_type": "markdown",
   "id": "5587e2d8-8939-4746-8049-36b8f8912f3b",
   "metadata": {},
   "source": [
    "# our final dataframe"
   ]
  },
  {
   "cell_type": "code",
   "execution_count": 35,
   "id": "70a65f45",
   "metadata": {},
   "outputs": [],
   "source": [
    "#isolate the relevant columns only\n",
    "#save to excel file\n",
    "prepd_data = (kccbsites_df[['mfl_code', 'facility_name', 'region',\n",
    "       'county', 'sub_county', 'owner', 'lat', 'lon', 'txnew2023Q1', 'txnew2023Q2',\n",
    "       'txnew2023Q3', 'txnew2023Q4', '2023Q1', '2023Q2', '2023Q3', '2023Q4']])\n",
    "\n",
    "\n",
    "prepd_data.to_excel('processed_data/cleaned_data.xlsx', index=False)"
   ]
  },
  {
   "cell_type": "code",
   "execution_count": 36,
   "id": "2b9ed4bc-5faf-40d6-8689-9f663b143352",
   "metadata": {},
   "outputs": [],
   "source": [
    "#prepd_data.memory_usage(deep=True).sum()"
   ]
  },
  {
   "cell_type": "code",
   "execution_count": 37,
   "id": "89d32097-1e31-4876-a525-b3fb38b73a28",
   "metadata": {},
   "outputs": [
    {
     "data": {
      "text/html": [
       "<div>\n",
       "<style scoped>\n",
       "    .dataframe tbody tr th:only-of-type {\n",
       "        vertical-align: middle;\n",
       "    }\n",
       "\n",
       "    .dataframe tbody tr th {\n",
       "        vertical-align: top;\n",
       "    }\n",
       "\n",
       "    .dataframe thead th {\n",
       "        text-align: right;\n",
       "    }\n",
       "</style>\n",
       "<table border=\"1\" class=\"dataframe\">\n",
       "  <thead>\n",
       "    <tr style=\"text-align: right;\">\n",
       "      <th></th>\n",
       "      <th>mfl_code</th>\n",
       "      <th>facility_name</th>\n",
       "      <th>region</th>\n",
       "      <th>county</th>\n",
       "      <th>sub_county</th>\n",
       "      <th>owner</th>\n",
       "      <th>lat</th>\n",
       "      <th>lon</th>\n",
       "      <th>txnew2023Q1</th>\n",
       "      <th>txnew2023Q2</th>\n",
       "      <th>txnew2023Q3</th>\n",
       "      <th>txnew2023Q4</th>\n",
       "      <th>2023Q1</th>\n",
       "      <th>2023Q2</th>\n",
       "      <th>2023Q3</th>\n",
       "      <th>2023Q4</th>\n",
       "      <th>txnew_total</th>\n",
       "    </tr>\n",
       "  </thead>\n",
       "  <tbody>\n",
       "    <tr>\n",
       "      <th>0</th>\n",
       "      <td>10100</td>\n",
       "      <td>Consolata Mission Hospital (Mathari)</td>\n",
       "      <td>Nairobi</td>\n",
       "      <td>Nyeri</td>\n",
       "      <td>Nyeri Central</td>\n",
       "      <td>Kenya Episcopal Conference-Catholic Secretariat</td>\n",
       "      <td>-0.413830</td>\n",
       "      <td>36.919700</td>\n",
       "      <td>8</td>\n",
       "      <td>5</td>\n",
       "      <td>5</td>\n",
       "      <td>2</td>\n",
       "      <td>1336</td>\n",
       "      <td>1339</td>\n",
       "      <td>1337</td>\n",
       "      <td>1323</td>\n",
       "      <td>20</td>\n",
       "    </tr>\n",
       "    <tr>\n",
       "      <th>1</th>\n",
       "      <td>10221</td>\n",
       "      <td>Gatithi Dispensary</td>\n",
       "      <td>Nairobi</td>\n",
       "      <td>Kirinyaga</td>\n",
       "      <td>Kirinyaga West</td>\n",
       "      <td>Ministry of Health</td>\n",
       "      <td>-0.583200</td>\n",
       "      <td>37.191380</td>\n",
       "      <td>3</td>\n",
       "      <td>1</td>\n",
       "      <td>5</td>\n",
       "      <td>2</td>\n",
       "      <td>148</td>\n",
       "      <td>155</td>\n",
       "      <td>163</td>\n",
       "      <td>163</td>\n",
       "      <td>11</td>\n",
       "    </tr>\n",
       "    <tr>\n",
       "      <th>2</th>\n",
       "      <td>10267</td>\n",
       "      <td>Githumu Hospital</td>\n",
       "      <td>Nairobi</td>\n",
       "      <td>Murang'a</td>\n",
       "      <td>Kandara</td>\n",
       "      <td>Christian Health Association of Kenya</td>\n",
       "      <td>-0.826860</td>\n",
       "      <td>36.913380</td>\n",
       "      <td>9</td>\n",
       "      <td>6</td>\n",
       "      <td>3</td>\n",
       "      <td>5</td>\n",
       "      <td>542</td>\n",
       "      <td>545</td>\n",
       "      <td>550</td>\n",
       "      <td>554</td>\n",
       "      <td>23</td>\n",
       "    </tr>\n",
       "    <tr>\n",
       "      <th>3</th>\n",
       "      <td>10321</td>\n",
       "      <td>Holy Cross Dispensary</td>\n",
       "      <td>Nairobi</td>\n",
       "      <td>Kiambu</td>\n",
       "      <td>Limuru</td>\n",
       "      <td>Kenya Episcopal Conference-Catholic Secretariat</td>\n",
       "      <td>-1.188910</td>\n",
       "      <td>36.597730</td>\n",
       "      <td>1</td>\n",
       "      <td>2</td>\n",
       "      <td>1</td>\n",
       "      <td>2</td>\n",
       "      <td>311</td>\n",
       "      <td>308</td>\n",
       "      <td>307</td>\n",
       "      <td>307</td>\n",
       "      <td>6</td>\n",
       "    </tr>\n",
       "    <tr>\n",
       "      <th>4</th>\n",
       "      <td>10398</td>\n",
       "      <td>Kagio Catholic Dispensary (Mary Immucate Catho...</td>\n",
       "      <td>Nairobi</td>\n",
       "      <td>Kirinyaga</td>\n",
       "      <td>Kirinyaga West</td>\n",
       "      <td>Kenya Episcopal Conference-Catholic Secretariat</td>\n",
       "      <td>-0.631120</td>\n",
       "      <td>37.253870</td>\n",
       "      <td>3</td>\n",
       "      <td>3</td>\n",
       "      <td>2</td>\n",
       "      <td>0</td>\n",
       "      <td>314</td>\n",
       "      <td>316</td>\n",
       "      <td>317</td>\n",
       "      <td>318</td>\n",
       "      <td>8</td>\n",
       "    </tr>\n",
       "    <tr>\n",
       "      <th>...</th>\n",
       "      <td>...</td>\n",
       "      <td>...</td>\n",
       "      <td>...</td>\n",
       "      <td>...</td>\n",
       "      <td>...</td>\n",
       "      <td>...</td>\n",
       "      <td>...</td>\n",
       "      <td>...</td>\n",
       "      <td>...</td>\n",
       "      <td>...</td>\n",
       "      <td>...</td>\n",
       "      <td>...</td>\n",
       "      <td>...</td>\n",
       "      <td>...</td>\n",
       "      <td>...</td>\n",
       "      <td>...</td>\n",
       "      <td>...</td>\n",
       "    </tr>\n",
       "    <tr>\n",
       "      <th>100</th>\n",
       "      <td>20364</td>\n",
       "      <td>Ringa Dispensary</td>\n",
       "      <td>HomaBay</td>\n",
       "      <td>Homa Bay</td>\n",
       "      <td>Kabondo Kasipul</td>\n",
       "      <td>Kenya Episcopal Conference-Catholic Secretariat</td>\n",
       "      <td>-0.474640</td>\n",
       "      <td>34.851500</td>\n",
       "      <td>4</td>\n",
       "      <td>3</td>\n",
       "      <td>8</td>\n",
       "      <td>2</td>\n",
       "      <td>839</td>\n",
       "      <td>835</td>\n",
       "      <td>845</td>\n",
       "      <td>841</td>\n",
       "      <td>17</td>\n",
       "    </tr>\n",
       "    <tr>\n",
       "      <th>101</th>\n",
       "      <td>20692</td>\n",
       "      <td>Vigetse Medical Clinic</td>\n",
       "      <td>Western</td>\n",
       "      <td>Vihiga</td>\n",
       "      <td>Vihiga</td>\n",
       "      <td>Nursing Council of Kenya</td>\n",
       "      <td>-0.000603</td>\n",
       "      <td>34.673500</td>\n",
       "      <td>10</td>\n",
       "      <td>4</td>\n",
       "      <td>4</td>\n",
       "      <td>2</td>\n",
       "      <td>519</td>\n",
       "      <td>525</td>\n",
       "      <td>528</td>\n",
       "      <td>529</td>\n",
       "      <td>20</td>\n",
       "    </tr>\n",
       "    <tr>\n",
       "      <th>102</th>\n",
       "      <td>20836</td>\n",
       "      <td>St Monica Hospital (Town Clinic)</td>\n",
       "      <td>Kisumu</td>\n",
       "      <td>Kisumu</td>\n",
       "      <td>Kisumu Central</td>\n",
       "      <td>Kenya MPDB - Institution</td>\n",
       "      <td>-0.091900</td>\n",
       "      <td>34.765980</td>\n",
       "      <td>8</td>\n",
       "      <td>9</td>\n",
       "      <td>6</td>\n",
       "      <td>8</td>\n",
       "      <td>1116</td>\n",
       "      <td>1118</td>\n",
       "      <td>1112</td>\n",
       "      <td>1115</td>\n",
       "      <td>31</td>\n",
       "    </tr>\n",
       "    <tr>\n",
       "      <th>103</th>\n",
       "      <td>22771</td>\n",
       "      <td>St Joseph Catholic Dispensary (Maungu)</td>\n",
       "      <td>Mombasa</td>\n",
       "      <td>Taita Taveta</td>\n",
       "      <td>Voi</td>\n",
       "      <td>Kenya Episcopal Conference-Catholic Secretariat</td>\n",
       "      <td>-3.568415</td>\n",
       "      <td>38.744856</td>\n",
       "      <td>4</td>\n",
       "      <td>3</td>\n",
       "      <td>3</td>\n",
       "      <td>2</td>\n",
       "      <td>281</td>\n",
       "      <td>278</td>\n",
       "      <td>279</td>\n",
       "      <td>284</td>\n",
       "      <td>12</td>\n",
       "    </tr>\n",
       "    <tr>\n",
       "      <th>104</th>\n",
       "      <td>23285</td>\n",
       "      <td>Chaani Catholic Dispensary CBHC</td>\n",
       "      <td>Mombasa</td>\n",
       "      <td>Mombasa</td>\n",
       "      <td>Changamwe</td>\n",
       "      <td>Kenya Episcopal Conference-Catholic Secretariat</td>\n",
       "      <td>-4.032120</td>\n",
       "      <td>39.628210</td>\n",
       "      <td>12</td>\n",
       "      <td>8</td>\n",
       "      <td>8</td>\n",
       "      <td>5</td>\n",
       "      <td>649</td>\n",
       "      <td>671</td>\n",
       "      <td>678</td>\n",
       "      <td>681</td>\n",
       "      <td>33</td>\n",
       "    </tr>\n",
       "  </tbody>\n",
       "</table>\n",
       "<p>105 rows × 17 columns</p>\n",
       "</div>"
      ],
      "text/plain": [
       "    mfl_code                                      facility_name   region  \\\n",
       "0      10100               Consolata Mission Hospital (Mathari)  Nairobi   \n",
       "1      10221                                 Gatithi Dispensary  Nairobi   \n",
       "2      10267                                   Githumu Hospital  Nairobi   \n",
       "3      10321                              Holy Cross Dispensary  Nairobi   \n",
       "4      10398  Kagio Catholic Dispensary (Mary Immucate Catho...  Nairobi   \n",
       "..       ...                                                ...      ...   \n",
       "100    20364                                   Ringa Dispensary  HomaBay   \n",
       "101    20692                             Vigetse Medical Clinic  Western   \n",
       "102    20836                   St Monica Hospital (Town Clinic)   Kisumu   \n",
       "103    22771             St Joseph Catholic Dispensary (Maungu)  Mombasa   \n",
       "104    23285                    Chaani Catholic Dispensary CBHC  Mombasa   \n",
       "\n",
       "           county       sub_county  \\\n",
       "0           Nyeri    Nyeri Central   \n",
       "1       Kirinyaga   Kirinyaga West   \n",
       "2        Murang'a          Kandara   \n",
       "3          Kiambu           Limuru   \n",
       "4       Kirinyaga   Kirinyaga West   \n",
       "..            ...              ...   \n",
       "100      Homa Bay  Kabondo Kasipul   \n",
       "101        Vihiga           Vihiga   \n",
       "102        Kisumu   Kisumu Central   \n",
       "103  Taita Taveta              Voi   \n",
       "104       Mombasa        Changamwe   \n",
       "\n",
       "                                               owner       lat        lon  \\\n",
       "0    Kenya Episcopal Conference-Catholic Secretariat -0.413830  36.919700   \n",
       "1                                 Ministry of Health -0.583200  37.191380   \n",
       "2              Christian Health Association of Kenya -0.826860  36.913380   \n",
       "3    Kenya Episcopal Conference-Catholic Secretariat -1.188910  36.597730   \n",
       "4    Kenya Episcopal Conference-Catholic Secretariat -0.631120  37.253870   \n",
       "..                                               ...       ...        ...   \n",
       "100  Kenya Episcopal Conference-Catholic Secretariat -0.474640  34.851500   \n",
       "101                         Nursing Council of Kenya -0.000603  34.673500   \n",
       "102                         Kenya MPDB - Institution -0.091900  34.765980   \n",
       "103  Kenya Episcopal Conference-Catholic Secretariat -3.568415  38.744856   \n",
       "104  Kenya Episcopal Conference-Catholic Secretariat -4.032120  39.628210   \n",
       "\n",
       "     txnew2023Q1  txnew2023Q2  txnew2023Q3  txnew2023Q4  2023Q1  2023Q2  \\\n",
       "0              8            5            5            2    1336    1339   \n",
       "1              3            1            5            2     148     155   \n",
       "2              9            6            3            5     542     545   \n",
       "3              1            2            1            2     311     308   \n",
       "4              3            3            2            0     314     316   \n",
       "..           ...          ...          ...          ...     ...     ...   \n",
       "100            4            3            8            2     839     835   \n",
       "101           10            4            4            2     519     525   \n",
       "102            8            9            6            8    1116    1118   \n",
       "103            4            3            3            2     281     278   \n",
       "104           12            8            8            5     649     671   \n",
       "\n",
       "     2023Q3  2023Q4  txnew_total  \n",
       "0      1337    1323           20  \n",
       "1       163     163           11  \n",
       "2       550     554           23  \n",
       "3       307     307            6  \n",
       "4       317     318            8  \n",
       "..      ...     ...          ...  \n",
       "100     845     841           17  \n",
       "101     528     529           20  \n",
       "102    1112    1115           31  \n",
       "103     279     284           12  \n",
       "104     678     681           33  \n",
       "\n",
       "[105 rows x 17 columns]"
      ]
     },
     "execution_count": 37,
     "metadata": {},
     "output_type": "execute_result"
    }
   ],
   "source": [
    "#some light feature engineering, using np.sum and assign to make a new column to sums the columns of txnew for the quarter\n",
    "#axis=0 would sum the rows\n",
    "prepd_data.assign(txnew_total = np.sum(prepd_data[['txnew2023Q1', 'txnew2023Q2','txnew2023Q3', 'txnew2023Q4']], axis=1))"
   ]
  },
  {
   "cell_type": "code",
   "execution_count": 38,
   "id": "19d0d40a-add4-4140-b48e-ca81d98313c4",
   "metadata": {},
   "outputs": [
    {
     "name": "stdout",
     "output_type": "stream",
     "text": [
      "Tx New Total for the sites by 2023Q4 is: 4081\n"
     ]
    }
   ],
   "source": [
    "print(f\"Tx New Total for the sites by 2023Q4 is: {np.sum(prepd_data[['txnew2023Q1', 'txnew2023Q2','txnew2023Q3', 'txnew2023Q4']], axis=1).sum()}\")"
   ]
  },
  {
   "cell_type": "code",
   "execution_count": 39,
   "id": "0d49f649-26f4-435b-acc2-bf9d986c7472",
   "metadata": {},
   "outputs": [
    {
     "data": {
      "text/plain": [
       "<Axes: >"
      ]
     },
     "execution_count": 39,
     "metadata": {},
     "output_type": "execute_result"
    },
    {
     "data": {
      "image/png": "[encoded data removed]",
      "text/plain": [
       "<Figure size 640x480 with 1 Axes>"
      ]
     },
     "metadata": {},
     "output_type": "display_data"
    }
   ],
   "source": [
    "#txq4 total by region\n",
    "prepd_data.groupby(by=['region'])['2023Q4'].sum().reset_index().plot.barh()"
   ]
  },
  {
   "cell_type": "code",
   "execution_count": 40,
   "id": "d7d9679c-dcf6-4876-b10b-93c646edbb07",
   "metadata": {},
   "outputs": [
    {
     "data": {
      "text/plain": [
       "([0, 1, 2, 3, 4, 5, 6],\n",
       " [Text(0, 0, 'Nairobi'),\n",
       "  Text(1, 0, 'Mombasa'),\n",
       "  Text(2, 0, 'Siaya'),\n",
       "  Text(3, 0, 'HomaBay'),\n",
       "  Text(4, 0, 'Kisumu'),\n",
       "  Text(5, 0, 'Kisii'),\n",
       "  Text(6, 0, 'Western')])"
      ]
     },
     "execution_count": 40,
     "metadata": {},
     "output_type": "execute_result"
    },
    {
     "data": {
      "image/png": "[encoded data removed]",
      "text/plain": [
       "<Figure size 400x1000 with 1 Axes>"
      ]
     },
     "metadata": {},
     "output_type": "display_data"
    }
   ],
   "source": [
    "prepd_data[['region','2023Q4']].plot.scatter(x='region', y='2023Q4',figsize=(4,10))\n",
    "plt.title(\"TX current distribution across Counties\")\n",
    "plt.xticks(rotation=90)"
   ]
  },
  {
   "cell_type": "code",
   "execution_count": 41,
   "id": "ae0d8b07-2119-4c85-b073-8f2b44c96c30",
   "metadata": {},
   "outputs": [
    {
     "data": {
      "text/plain": [
       "36    5003\n",
       "63    3968\n",
       "84    3747\n",
       "92    3641\n",
       "27    3583\n",
       "60    3467\n",
       "40    3130\n",
       "65    2790\n",
       "52    2750\n",
       "86    2668\n",
       "Name: 2023Q4, dtype: int64"
      ]
     },
     "execution_count": 41,
     "metadata": {},
     "output_type": "execute_result"
    }
   ],
   "source": [
    "prepd_data['2023Q4'].nlargest(10)"
   ]
  },
  {
   "cell_type": "markdown",
   "id": "9abda493-4476-436c-af37-747c754dac30",
   "metadata": {
    "jupyter": {
     "source_hidden": true
    },
    "tags": []
   },
   "source": [
    "#### our streamlit app will mainly be using altair charts"
   ]
  },
  {
   "cell_type": "code",
   "execution_count": 42,
   "id": "fbc2a1a3-495e-4cb1-9e78-8793e4c3d313",
   "metadata": {},
   "outputs": [],
   "source": [
    "import altair as alt"
   ]
  },
  {
   "cell_type": "code",
   "execution_count": 43,
   "id": "bbcb65f4-aa3a-4c68-a692-e2fcd3c1dfca",
   "metadata": {},
   "outputs": [
    {
     "data": {
      "text/html": [
       "\n",
       "<style>\n",
       "  #altair-viz-60d8b1d7eb344796831fc948aa5d132a.vega-embed {\n",
       "    width: 100%;\n",
       "    display: flex;\n",
       "  }\n",
       "\n",
       "  #altair-viz-60d8b1d7eb344796831fc948aa5d132a.vega-embed details,\n",
       "  #altair-viz-60d8b1d7eb344796831fc948aa5d132a.vega-embed details summary {\n",
       "    position: relative;\n",
       "  }\n",
       "</style>\n",
       "<div id=\"altair-viz-60d8b1d7eb344796831fc948aa5d132a\"></div>\n",
       "<script type=\"text/javascript\">\n",
       "  var VEGA_DEBUG = (typeof VEGA_DEBUG == \"undefined\") ? {} : VEGA_DEBUG;\n",
       "  (function(spec, embedOpt){\n",
       "    let outputDiv = document.currentScript.previousElementSibling;\n",
       "    if (outputDiv.id !== \"altair-viz-60d8b1d7eb344796831fc948aa5d132a\") {\n",
       "      outputDiv = document.getElementById(\"altair-viz-60d8b1d7eb344796831fc948aa5d132a\");\n",
       "    }\n",
       "    const paths = {\n",
       "      \"vega\": \"https://cdn.jsdelivr.net/npm/vega@5?noext\",\n",
       "      \"vega-lib\": \"https://cdn.jsdelivr.net/npm/vega-lib?noext\",\n",
       "      \"vega-lite\": \"https://cdn.jsdelivr.net/npm/vega-lite@5.14.1?noext\",\n",
       "      \"vega-embed\": \"https://cdn.jsdelivr.net/npm/vega-embed@6?noext\",\n",
       "    };\n",
       "\n",
       "    function maybeLoadScript(lib, version) {\n",
       "      var key = `${lib.replace(\"-\", \"\")}_version`;\n",
       "      return (VEGA_DEBUG[key] == version) ?\n",
       "        Promise.resolve(paths[lib]) :\n",
       "        new Promise(function(resolve, reject) {\n",
       "          var s = document.createElement('script');\n",
       "          document.getElementsByTagName(\"head\")[0].appendChild(s);\n",
       "          s.async = true;\n",
       "          s.onload = () => {\n",
       "            VEGA_DEBUG[key] = version;\n",
       "            return resolve(paths[lib]);\n",
       "          };\n",
       "          s.onerror = () => reject(`Error loading script: ${paths[lib]}`);\n",
       "          s.src = paths[lib];\n",
       "        });\n",
       "    }\n",
       "\n",
       "    function showError(err) {\n",
       "      outputDiv.innerHTML = `<div class=\"error\" style=\"color:red;\">${err}</div>`;\n",
       "      throw err;\n",
       "    }\n",
       "\n",
       "    function displayChart(vegaEmbed) {\n",
       "      vegaEmbed(outputDiv, spec, embedOpt)\n",
       "        .catch(err => showError(`Javascript Error: ${err.message}<br>This usually means there's a typo in your chart specification. See the javascript console for the full traceback.`));\n",
       "    }\n",
       "\n",
       "    if(typeof define === \"function\" && define.amd) {\n",
       "      requirejs.config({paths});\n",
       "      require([\"vega-embed\"], displayChart, err => showError(`Error loading script: ${err.message}`));\n",
       "    } else {\n",
       "      maybeLoadScript(\"vega\", \"5\")\n",
       "        .then(() => maybeLoadScript(\"vega-lite\", \"5.14.1\"))\n",
       "        .then(() => maybeLoadScript(\"vega-embed\", \"6\"))\n",
       "        .catch(showError)\n",
       "        .then(() => displayChart(vegaEmbed));\n",
       "    }\n",
       "  })({\"config\": {\"view\": {\"continuousWidth\": 300, \"continuousHeight\": 300}}, \"layer\": [{\"mark\": {\"type\": \"bar\"}, \"encoding\": {\"x\": {\"field\": \"b\", \"scale\": {\"domain\": [0, 60]}, \"type\": \"quantitative\"}, \"y\": {\"field\": \"a\", \"type\": \"nominal\"}}}, {\"mark\": {\"type\": \"text\", \"align\": \"left\", \"baseline\": \"middle\", \"dx\": 3}, \"encoding\": {\"text\": {\"field\": \"b\", \"type\": \"quantitative\"}, \"x\": {\"field\": \"b\", \"scale\": {\"domain\": [0, 60]}, \"type\": \"quantitative\"}, \"y\": {\"field\": \"a\", \"type\": \"nominal\"}}}], \"data\": {\"name\": \"data-0b6f1883e352d1ecc129ccc25e6cf6ea\"}, \"$schema\": \"https://vega.github.io/schema/vega-lite/v5.14.1.json\", \"datasets\": {\"data-0b6f1883e352d1ecc129ccc25e6cf6ea\": [{\"a\": \"A\", \"b\": 28}, {\"a\": \"B\", \"b\": 55}, {\"a\": \"C\", \"b\": 43}]}}, {\"mode\": \"vega-lite\"});\n",
       "</script>"
      ],
      "text/plain": [
       "alt.LayerChart(...)"
      ]
     },
     "execution_count": 43,
     "metadata": {},
     "output_type": "execute_result"
    }
   ],
   "source": [
    "#the general flow of an altair chart\n",
    "source = pd.DataFrame({\n",
    "    \"a\": [\"A\", \"B\", \"C\"],\n",
    "    \"b\": [28, 55, 43]\n",
    "})\n",
    "\n",
    "bar = alt.Chart(source).mark_bar().encode(\n",
    "    y=\"a:N\",\n",
    "    x=alt.X(\"b:Q\").scale(domain=[0, 60])\n",
    ")\n",
    "text = bar.mark_text(\n",
    "    align=\"left\",\n",
    "    baseline=\"middle\",\n",
    "    dx=3\n",
    ").encode(text=\"b\")\n",
    "\n",
    "bar + text"
   ]
  },
  {
   "cell_type": "code",
   "execution_count": 44,
   "id": "9ce1f660-608a-4f33-bb8d-264394ed37ce",
   "metadata": {},
   "outputs": [
    {
     "data": {
      "text/html": [
       "\n",
       "<style>\n",
       "  #altair-viz-431a0040aa254aae82d22a7734744bd8.vega-embed {\n",
       "    width: 100%;\n",
       "    display: flex;\n",
       "  }\n",
       "\n",
       "  #altair-viz-431a0040aa254aae82d22a7734744bd8.vega-embed details,\n",
       "  #altair-viz-431a0040aa254aae82d22a7734744bd8.vega-embed details summary {\n",
       "    position: relative;\n",
       "  }\n",
       "</style>\n",
       "<div id=\"altair-viz-431a0040aa254aae82d22a7734744bd8\"></div>\n",
       "<script type=\"text/javascript\">\n",
       "  var VEGA_DEBUG = (typeof VEGA_DEBUG == \"undefined\") ? {} : VEGA_DEBUG;\n",
       "  (function(spec, embedOpt){\n",
       "    let outputDiv = document.currentScript.previousElementSibling;\n",
       "    if (outputDiv.id !== \"altair-viz-431a0040aa254aae82d22a7734744bd8\") {\n",
       "      outputDiv = document.getElementById(\"altair-viz-431a0040aa254aae82d22a7734744bd8\");\n",
       "    }\n",
       "    const paths = {\n",
       "      \"vega\": \"https://cdn.jsdelivr.net/npm/vega@5?noext\",\n",
       "      \"vega-lib\": \"https://cdn.jsdelivr.net/npm/vega-lib?noext\",\n",
       "      \"vega-lite\": \"https://cdn.jsdelivr.net/npm/vega-lite@5.14.1?noext\",\n",
       "      \"vega-embed\": \"https://cdn.jsdelivr.net/npm/vega-embed@6?noext\",\n",
       "    };\n",
       "\n",
       "    function maybeLoadScript(lib, version) {\n",
       "      var key = `${lib.replace(\"-\", \"\")}_version`;\n",
       "      return (VEGA_DEBUG[key] == version) ?\n",
       "        Promise.resolve(paths[lib]) :\n",
       "        new Promise(function(resolve, reject) {\n",
       "          var s = document.createElement('script');\n",
       "          document.getElementsByTagName(\"head\")[0].appendChild(s);\n",
       "          s.async = true;\n",
       "          s.onload = () => {\n",
       "            VEGA_DEBUG[key] = version;\n",
       "            return resolve(paths[lib]);\n",
       "          };\n",
       "          s.onerror = () => reject(`Error loading script: ${paths[lib]}`);\n",
       "          s.src = paths[lib];\n",
       "        });\n",
       "    }\n",
       "\n",
       "    function showError(err) {\n",
       "      outputDiv.innerHTML = `<div class=\"error\" style=\"color:red;\">${err}</div>`;\n",
       "      throw err;\n",
       "    }\n",
       "\n",
       "    function displayChart(vegaEmbed) {\n",
       "      vegaEmbed(outputDiv, spec, embedOpt)\n",
       "        .catch(err => showError(`Javascript Error: ${err.message}<br>This usually means there's a typo in your chart specification. See the javascript console for the full traceback.`));\n",
       "    }\n",
       "\n",
       "    if(typeof define === \"function\" && define.amd) {\n",
       "      requirejs.config({paths});\n",
       "      require([\"vega-embed\"], displayChart, err => showError(`Error loading script: ${err.message}`));\n",
       "    } else {\n",
       "      maybeLoadScript(\"vega\", \"5\")\n",
       "        .then(() => maybeLoadScript(\"vega-lite\", \"5.14.1\"))\n",
       "        .then(() => maybeLoadScript(\"vega-embed\", \"6\"))\n",
       "        .catch(showError)\n",
       "        .then(() => displayChart(vegaEmbed));\n",
       "    }\n",
       "  })({\"config\": {\"view\": {\"continuousWidth\": 300, \"continuousHeight\": 300}}, \"layer\": [{\"mark\": {\"type\": \"bar\"}, \"encoding\": {\"x\": {\"field\": \"2023Q4\", \"type\": \"quantitative\"}, \"y\": {\"field\": \"region\", \"type\": \"nominal\"}}}, {\"mark\": {\"type\": \"text\", \"align\": \"left\", \"baseline\": \"middle\", \"dx\": 3}, \"encoding\": {\"text\": {\"field\": \"2023Q4\", \"type\": \"quantitative\"}, \"x\": {\"field\": \"2023Q4\", \"type\": \"quantitative\"}, \"y\": {\"field\": \"region\", \"type\": \"nominal\"}}}], \"data\": {\"name\": \"data-e29685c2567602cfc7da285e1873990e\"}, \"$schema\": \"https://vega.github.io/schema/vega-lite/v5.14.1.json\", \"datasets\": {\"data-e29685c2567602cfc7da285e1873990e\": [{\"region\": \"HomaBay\", \"2023Q4\": 22458}, {\"region\": \"Kisii\", \"2023Q4\": 19019}, {\"region\": \"Kisumu\", \"2023Q4\": 16871}, {\"region\": \"Mombasa\", \"2023Q4\": 6000}, {\"region\": \"Nairobi\", \"2023Q4\": 50162}, {\"region\": \"Siaya\", \"2023Q4\": 10297}, {\"region\": \"Western\", \"2023Q4\": 16529}]}}, {\"mode\": \"vega-lite\"});\n",
       "</script>"
      ],
      "text/plain": [
       "alt.LayerChart(...)"
      ]
     },
     "execution_count": 44,
     "metadata": {},
     "output_type": "execute_result"
    }
   ],
   "source": [
    "#with our data \n",
    "data = prepd_data.groupby(by=['region'])['2023Q4'].sum().reset_index()\n",
    "\n",
    "bar = alt.Chart(data).mark_bar().encode(\n",
    "    y=\"region:N\",\n",
    "    x=alt.X(\"2023Q4:Q\"))\n",
    "\n",
    "text = bar.mark_text(\n",
    "    align=\"left\",\n",
    "    baseline=\"middle\",\n",
    "    dx=3\n",
    ").encode(text=\"2023Q4\")\n",
    "\n",
    "bar + text"
   ]
  },
  {
   "cell_type": "code",
   "execution_count": 45,
   "id": "9ce1f660-608a-4f33-bb8d-264394ed37ce",
   "metadata": {},
   "outputs": [
    {
     "data": {
      "text/html": [
       "\n",
       "<style>\n",
       "  #altair-viz-e81f944380ca47088fd76fa14e86a1d5.vega-embed {\n",
       "    width: 100%;\n",
       "    display: flex;\n",
       "  }\n",
       "\n",
       "  #altair-viz-e81f944380ca47088fd76fa14e86a1d5.vega-embed details,\n",
       "  #altair-viz-e81f944380ca47088fd76fa14e86a1d5.vega-embed details summary {\n",
       "    position: relative;\n",
       "  }\n",
       "</style>\n",
       "<div id=\"altair-viz-e81f944380ca47088fd76fa14e86a1d5\"></div>\n",
       "<script type=\"text/javascript\">\n",
       "  var VEGA_DEBUG = (typeof VEGA_DEBUG == \"undefined\") ? {} : VEGA_DEBUG;\n",
       "  (function(spec, embedOpt){\n",
       "    let outputDiv = document.currentScript.previousElementSibling;\n",
       "    if (outputDiv.id !== \"altair-viz-e81f944380ca47088fd76fa14e86a1d5\") {\n",
       "      outputDiv = document.getElementById(\"altair-viz-e81f944380ca47088fd76fa14e86a1d5\");\n",
       "    }\n",
       "    const paths = {\n",
       "      \"vega\": \"https://cdn.jsdelivr.net/npm/vega@5?noext\",\n",
       "      \"vega-lib\": \"https://cdn.jsdelivr.net/npm/vega-lib?noext\",\n",
       "      \"vega-lite\": \"https://cdn.jsdelivr.net/npm/vega-lite@5.14.1?noext\",\n",
       "      \"vega-embed\": \"https://cdn.jsdelivr.net/npm/vega-embed@6?noext\",\n",
       "    };\n",
       "\n",
       "    function maybeLoadScript(lib, version) {\n",
       "      var key = `${lib.replace(\"-\", \"\")}_version`;\n",
       "      return (VEGA_DEBUG[key] == version) ?\n",
       "        Promise.resolve(paths[lib]) :\n",
       "        new Promise(function(resolve, reject) {\n",
       "          var s = document.createElement('script');\n",
       "          document.getElementsByTagName(\"head\")[0].appendChild(s);\n",
       "          s.async = true;\n",
       "          s.onload = () => {\n",
       "            VEGA_DEBUG[key] = version;\n",
       "            return resolve(paths[lib]);\n",
       "          };\n",
       "          s.onerror = () => reject(`Error loading script: ${paths[lib]}`);\n",
       "          s.src = paths[lib];\n",
       "        });\n",
       "    }\n",
       "\n",
       "    function showError(err) {\n",
       "      outputDiv.innerHTML = `<div class=\"error\" style=\"color:red;\">${err}</div>`;\n",
       "      throw err;\n",
       "    }\n",
       "\n",
       "    function displayChart(vegaEmbed) {\n",
       "      vegaEmbed(outputDiv, spec, embedOpt)\n",
       "        .catch(err => showError(`Javascript Error: ${err.message}<br>This usually means there's a typo in your chart specification. See the javascript console for the full traceback.`));\n",
       "    }\n",
       "\n",
       "    if(typeof define === \"function\" && define.amd) {\n",
       "      requirejs.config({paths});\n",
       "      require([\"vega-embed\"], displayChart, err => showError(`Error loading script: ${err.message}`));\n",
       "    } else {\n",
       "      maybeLoadScript(\"vega\", \"5\")\n",
       "        .then(() => maybeLoadScript(\"vega-lite\", \"5.14.1\"))\n",
       "        .then(() => maybeLoadScript(\"vega-embed\", \"6\"))\n",
       "        .catch(showError)\n",
       "        .then(() => displayChart(vegaEmbed));\n",
       "    }\n",
       "  })({\"config\": {\"view\": {\"continuousWidth\": 300, \"continuousHeight\": 300}}, \"layer\": [{\"mark\": {\"type\": \"bar\"}, \"encoding\": {\"color\": {\"field\": \"County\", \"scale\": {\"scheme\": \"category20c\"}, \"type\": \"nominal\"}, \"x\": {\"axis\": {\"labels\": false}, \"field\": \"count\", \"title\": \"\", \"type\": \"quantitative\"}, \"y\": {\"axis\": {\"labels\": false}, \"field\": \"County\", \"title\": \"\", \"type\": \"nominal\"}}}, {\"mark\": {\"type\": \"text\", \"align\": \"left\", \"baseline\": \"middle\", \"dx\": 3}, \"encoding\": {\"color\": {\"field\": \"County\", \"scale\": {\"scheme\": \"category20c\"}, \"type\": \"nominal\"}, \"text\": {\"field\": \"count\", \"type\": \"quantitative\"}, \"x\": {\"axis\": {\"labels\": false}, \"field\": \"count\", \"title\": \"\", \"type\": \"quantitative\"}, \"y\": {\"axis\": {\"labels\": false}, \"field\": \"County\", \"title\": \"\", \"type\": \"nominal\"}}}], \"data\": {\"name\": \"data-c6015fc7e9e84b2373f40ce47e510498\"}, \"$schema\": \"https://vega.github.io/schema/vega-lite/v5.14.1.json\", \"datasets\": {\"data-c6015fc7e9e84b2373f40ce47e510498\": [{\"County\": \"Homa Bay\", \"count\": 15}, {\"County\": \"Nairobi\", \"count\": 14}, {\"County\": \"Kisumu\", \"count\": 12}, {\"County\": \"Siaya\", \"count\": 11}, {\"County\": \"Kiambu\", \"count\": 11}, {\"County\": \"Migori\", \"count\": 7}, {\"County\": \"Narok\", \"count\": 6}, {\"County\": \"Kirinyaga\", \"count\": 5}, {\"County\": \"Kisii\", \"count\": 4}, {\"County\": \"Kakamega\", \"count\": 4}, {\"County\": \"Mombasa\", \"count\": 3}, {\"County\": \"Taita Taveta\", \"count\": 3}, {\"County\": \"Bungoma\", \"count\": 2}, {\"County\": \"Nyeri\", \"count\": 2}, {\"County\": \"Murang'a\", \"count\": 1}, {\"County\": \"Busia\", \"count\": 1}, {\"County\": \"Nakuru\", \"count\": 1}, {\"County\": \"Kilifi\", \"count\": 1}, {\"County\": \"Kajiado\", \"count\": 1}, {\"County\": \"Vihiga\", \"count\": 1}]}}, {\"mode\": \"vega-lite\"});\n",
       "</script>"
      ],
      "text/plain": [
       "alt.LayerChart(...)"
      ]
     },
     "execution_count": 45,
     "metadata": {},
     "output_type": "execute_result"
    }
   ],
   "source": [
    "#with our data \n",
    "\n",
    "sitescount = kccb_sites.County.value_counts().reset_index()\n",
    "\n",
    "\n",
    "bar = alt.Chart(sitescount).mark_bar().encode(\n",
    "    y=alt.Y(\"County:N\").title(\"\").axis(labels=False),\n",
    "    x=alt.X(\"count:Q\").title(\"\").axis(labels=False),\n",
    "    color=alt.Color(\"County\").scale(scheme=\"category20c\"))\n",
    "\n",
    "bar.configure_legend(\n",
    "         padding=6,\n",
    "         orient='bottom')\n",
    "\n",
    "text = bar.mark_text(\n",
    "    align=\"left\",\n",
    "    baseline=\"middle\",\n",
    "    dx=3\n",
    ").encode(text=\"count\")\n",
    "\n",
    "bar + text"
   ]
  },
  {
   "cell_type": "code",
   "execution_count": 46,
   "id": "9fbc0c4e",
   "metadata": {
    "tags": []
   },
   "outputs": [],
   "source": [
    "quarter_tx = prepd_data.groupby(by=['region'])[['2023Q1','2023Q2','2023Q3','2023Q4']].sum().reset_index()\n"
   ]
  },
  {
   "cell_type": "code",
   "execution_count": 47,
   "id": "949c9b3a",
   "metadata": {},
   "outputs": [
    {
     "data": {
      "text/plain": [
       "<Axes: >"
      ]
     },
     "execution_count": 47,
     "metadata": {},
     "output_type": "execute_result"
    },
    {
     "data": {
      "image/png": "[encoded data removed]",
      "text/plain": [
       "<Figure size 640x480 with 1 Axes>"
      ]
     },
     "metadata": {},
     "output_type": "display_data"
    }
   ],
   "source": [
    "quarter_tx.transpose().loc['2023Q1'].plot.bar()"
   ]
  },
  {
   "cell_type": "code",
   "execution_count": 48,
   "id": "76138214",
   "metadata": {},
   "outputs": [
    {
     "data": {
      "text/html": [
       "\n",
       "<style>\n",
       "  #altair-viz-9b681bfe4c7b46d5a0a25db149c3df50.vega-embed {\n",
       "    width: 100%;\n",
       "    display: flex;\n",
       "  }\n",
       "\n",
       "  #altair-viz-9b681bfe4c7b46d5a0a25db149c3df50.vega-embed details,\n",
       "  #altair-viz-9b681bfe4c7b46d5a0a25db149c3df50.vega-embed details summary {\n",
       "    position: relative;\n",
       "  }\n",
       "</style>\n",
       "<div id=\"altair-viz-9b681bfe4c7b46d5a0a25db149c3df50\"></div>\n",
       "<script type=\"text/javascript\">\n",
       "  var VEGA_DEBUG = (typeof VEGA_DEBUG == \"undefined\") ? {} : VEGA_DEBUG;\n",
       "  (function(spec, embedOpt){\n",
       "    let outputDiv = document.currentScript.previousElementSibling;\n",
       "    if (outputDiv.id !== \"altair-viz-9b681bfe4c7b46d5a0a25db149c3df50\") {\n",
       "      outputDiv = document.getElementById(\"altair-viz-9b681bfe4c7b46d5a0a25db149c3df50\");\n",
       "    }\n",
       "    const paths = {\n",
       "      \"vega\": \"https://cdn.jsdelivr.net/npm/vega@5?noext\",\n",
       "      \"vega-lib\": \"https://cdn.jsdelivr.net/npm/vega-lib?noext\",\n",
       "      \"vega-lite\": \"https://cdn.jsdelivr.net/npm/vega-lite@5.14.1?noext\",\n",
       "      \"vega-embed\": \"https://cdn.jsdelivr.net/npm/vega-embed@6?noext\",\n",
       "    };\n",
       "\n",
       "    function maybeLoadScript(lib, version) {\n",
       "      var key = `${lib.replace(\"-\", \"\")}_version`;\n",
       "      return (VEGA_DEBUG[key] == version) ?\n",
       "        Promise.resolve(paths[lib]) :\n",
       "        new Promise(function(resolve, reject) {\n",
       "          var s = document.createElement('script');\n",
       "          document.getElementsByTagName(\"head\")[0].appendChild(s);\n",
       "          s.async = true;\n",
       "          s.onload = () => {\n",
       "            VEGA_DEBUG[key] = version;\n",
       "            return resolve(paths[lib]);\n",
       "          };\n",
       "          s.onerror = () => reject(`Error loading script: ${paths[lib]}`);\n",
       "          s.src = paths[lib];\n",
       "        });\n",
       "    }\n",
       "\n",
       "    function showError(err) {\n",
       "      outputDiv.innerHTML = `<div class=\"error\" style=\"color:red;\">${err}</div>`;\n",
       "      throw err;\n",
       "    }\n",
       "\n",
       "    function displayChart(vegaEmbed) {\n",
       "      vegaEmbed(outputDiv, spec, embedOpt)\n",
       "        .catch(err => showError(`Javascript Error: ${err.message}<br>This usually means there's a typo in your chart specification. See the javascript console for the full traceback.`));\n",
       "    }\n",
       "\n",
       "    if(typeof define === \"function\" && define.amd) {\n",
       "      requirejs.config({paths});\n",
       "      require([\"vega-embed\"], displayChart, err => showError(`Error loading script: ${err.message}`));\n",
       "    } else {\n",
       "      maybeLoadScript(\"vega\", \"5\")\n",
       "        .then(() => maybeLoadScript(\"vega-lite\", \"5.14.1\"))\n",
       "        .then(() => maybeLoadScript(\"vega-embed\", \"6\"))\n",
       "        .catch(showError)\n",
       "        .then(() => displayChart(vegaEmbed));\n",
       "    }\n",
       "  })({\"config\": {\"view\": {\"continuousWidth\": 300, \"continuousHeight\": 300}}, \"layer\": [{\"mark\": {\"type\": \"arc\", \"innerRadius\": 50}, \"encoding\": {\"color\": {\"field\": \"region\", \"type\": \"nominal\"}, \"theta\": {\"field\": \"2023Q4\", \"type\": \"quantitative\"}}}, {\"mark\": {\"type\": \"text\", \"radius\": 170, \"size\": 12}, \"encoding\": {\"color\": {\"field\": \"region\", \"type\": \"nominal\"}, \"text\": {\"field\": \"2023Q4\", \"type\": \"nominal\"}, \"theta\": {\"field\": \"2023Q4\", \"type\": \"quantitative\"}}}], \"data\": {\"name\": \"data-e29685c2567602cfc7da285e1873990e\"}, \"$schema\": \"https://vega.github.io/schema/vega-lite/v5.14.1.json\", \"datasets\": {\"data-e29685c2567602cfc7da285e1873990e\": [{\"region\": \"HomaBay\", \"2023Q4\": 22458}, {\"region\": \"Kisii\", \"2023Q4\": 19019}, {\"region\": \"Kisumu\", \"2023Q4\": 16871}, {\"region\": \"Mombasa\", \"2023Q4\": 6000}, {\"region\": \"Nairobi\", \"2023Q4\": 50162}, {\"region\": \"Siaya\", \"2023Q4\": 10297}, {\"region\": \"Western\", \"2023Q4\": 16529}]}}, {\"mode\": \"vega-lite\"});\n",
       "</script>"
      ],
      "text/plain": [
       "alt.LayerChart(...)"
      ]
     },
     "execution_count": 48,
     "metadata": {},
     "output_type": "execute_result"
    }
   ],
   "source": [
    "base = alt.Chart(data).mark_arc(innerRadius=50).encode(\n",
    "    theta=alt.Theta(field=\"2023Q4\", type=\"quantitative\"),\n",
    "    color=alt.Color(field=\"region\", type=\"nominal\"),\n",
    ")\n",
    "\n",
    "pie = base.mark_arc(outerRadius=150)\n",
    "text = base.mark_text(radius=170, size=12).encode(\n",
    "    text=\"2023Q4:N\"\n",
    ")\n",
    "\n",
    "base + text"
   ]
  },
  {
   "cell_type": "code",
   "execution_count": 49,
   "id": "ab66800f-8d46-495f-9ad2-f90b8ef4efa2",
   "metadata": {},
   "outputs": [
    {
     "data": {
      "text/plain": [
       "dtype('int64')"
      ]
     },
     "execution_count": 49,
     "metadata": {},
     "output_type": "execute_result"
    }
   ],
   "source": [
    "prepd_data['2023Q4'].sum().dtype"
   ]
  },
  {
   "cell_type": "code",
   "execution_count": 50,
   "id": "be1062be",
   "metadata": {},
   "outputs": [
    {
     "data": {
      "text/plain": [
       "Index(['mfl_code', 'facility_name', 'region', 'county', 'sub_county', 'owner',\n",
       "       'lat', 'lon', 'txnew2023Q1', 'txnew2023Q2', 'txnew2023Q3',\n",
       "       'txnew2023Q4', '2023Q1', '2023Q2', '2023Q3', '2023Q4'],\n",
       "      dtype='object')"
      ]
     },
     "execution_count": 50,
     "metadata": {},
     "output_type": "execute_result"
    }
   ],
   "source": [
    "prepd_data.columns"
   ]
  },
  {
   "cell_type": "code",
   "execution_count": 51,
   "id": "09ecc631",
   "metadata": {},
   "outputs": [
    {
     "data": {
      "text/html": [
       "\n",
       "<style>\n",
       "  #altair-viz-cd87536a98c541d88b85939c9356171a.vega-embed {\n",
       "    width: 100%;\n",
       "    display: flex;\n",
       "  }\n",
       "\n",
       "  #altair-viz-cd87536a98c541d88b85939c9356171a.vega-embed details,\n",
       "  #altair-viz-cd87536a98c541d88b85939c9356171a.vega-embed details summary {\n",
       "    position: relative;\n",
       "  }\n",
       "</style>\n",
       "<div id=\"altair-viz-cd87536a98c541d88b85939c9356171a\"></div>\n",
       "<script type=\"text/javascript\">\n",
       "  var VEGA_DEBUG = (typeof VEGA_DEBUG == \"undefined\") ? {} : VEGA_DEBUG;\n",
       "  (function(spec, embedOpt){\n",
       "    let outputDiv = document.currentScript.previousElementSibling;\n",
       "    if (outputDiv.id !== \"altair-viz-cd87536a98c541d88b85939c9356171a\") {\n",
       "      outputDiv = document.getElementById(\"altair-viz-cd87536a98c541d88b85939c9356171a\");\n",
       "    }\n",
       "    const paths = {\n",
       "      \"vega\": \"https://cdn.jsdelivr.net/npm/vega@5?noext\",\n",
       "      \"vega-lib\": \"https://cdn.jsdelivr.net/npm/vega-lib?noext\",\n",
       "      \"vega-lite\": \"https://cdn.jsdelivr.net/npm/vega-lite@5.14.1?noext\",\n",
       "      \"vega-embed\": \"https://cdn.jsdelivr.net/npm/vega-embed@6?noext\",\n",
       "    };\n",
       "\n",
       "    function maybeLoadScript(lib, version) {\n",
       "      var key = `${lib.replace(\"-\", \"\")}_version`;\n",
       "      return (VEGA_DEBUG[key] == version) ?\n",
       "        Promise.resolve(paths[lib]) :\n",
       "        new Promise(function(resolve, reject) {\n",
       "          var s = document.createElement('script');\n",
       "          document.getElementsByTagName(\"head\")[0].appendChild(s);\n",
       "          s.async = true;\n",
       "          s.onload = () => {\n",
       "            VEGA_DEBUG[key] = version;\n",
       "            return resolve(paths[lib]);\n",
       "          };\n",
       "          s.onerror = () => reject(`Error loading script: ${paths[lib]}`);\n",
       "          s.src = paths[lib];\n",
       "        });\n",
       "    }\n",
       "\n",
       "    function showError(err) {\n",
       "      outputDiv.innerHTML = `<div class=\"error\" style=\"color:red;\">${err}</div>`;\n",
       "      throw err;\n",
       "    }\n",
       "\n",
       "    function displayChart(vegaEmbed) {\n",
       "      vegaEmbed(outputDiv, spec, embedOpt)\n",
       "        .catch(err => showError(`Javascript Error: ${err.message}<br>This usually means there's a typo in your chart specification. See the javascript console for the full traceback.`));\n",
       "    }\n",
       "\n",
       "    if(typeof define === \"function\" && define.amd) {\n",
       "      requirejs.config({paths});\n",
       "      require([\"vega-embed\"], displayChart, err => showError(`Error loading script: ${err.message}`));\n",
       "    } else {\n",
       "      maybeLoadScript(\"vega\", \"5\")\n",
       "        .then(() => maybeLoadScript(\"vega-lite\", \"5.14.1\"))\n",
       "        .then(() => maybeLoadScript(\"vega-embed\", \"6\"))\n",
       "        .catch(showError)\n",
       "        .then(() => displayChart(vegaEmbed));\n",
       "    }\n",
       "  })({\"config\": {\"view\": {\"continuousWidth\": 300, \"continuousHeight\": 300}}, \"data\": {\"name\": \"data-dfd3b06dcd62c06f3e179701c9288111\"}, \"mark\": {\"type\": \"rect\"}, \"encoding\": {\"color\": {\"aggregate\": \"max\", \"field\": \"txnew2023Q4\", \"title\": \"\", \"type\": \"quantitative\"}, \"x\": {\"axis\": {\"labelAngle\": 0}, \"field\": \"txnew2023Q4\", \"title\": \"\", \"type\": \"quantitative\"}, \"y\": {\"field\": \"county\", \"title\": \"Q4\", \"type\": \"ordinal\"}}, \"$schema\": \"https://vega.github.io/schema/vega-lite/v5.14.1.json\", \"datasets\": {\"data-dfd3b06dcd62c06f3e179701c9288111\": [{\"txnew2023Q1\": 17, \"txnew2023Q2\": 15, \"txnew2023Q3\": 26, \"txnew2023Q4\": 13}, {\"txnew2023Q1\": 12, \"txnew2023Q2\": 12, \"txnew2023Q3\": 14, \"txnew2023Q4\": 13}, {\"txnew2023Q1\": 148, \"txnew2023Q2\": 129, \"txnew2023Q3\": 149, \"txnew2023Q4\": 85}, {\"txnew2023Q1\": 7, \"txnew2023Q2\": 7, \"txnew2023Q3\": 6, \"txnew2023Q4\": 3}, {\"txnew2023Q1\": 66, \"txnew2023Q2\": 58, \"txnew2023Q3\": 64, \"txnew2023Q4\": 58}, {\"txnew2023Q1\": 113, \"txnew2023Q2\": 110, \"txnew2023Q3\": 103, \"txnew2023Q4\": 53}, {\"txnew2023Q1\": 15, \"txnew2023Q2\": 9, \"txnew2023Q3\": 12, \"txnew2023Q4\": 6}, {\"txnew2023Q1\": 12, \"txnew2023Q2\": 18, \"txnew2023Q3\": 12, \"txnew2023Q4\": 8}, {\"txnew2023Q1\": 28, \"txnew2023Q2\": 42, \"txnew2023Q3\": 44, \"txnew2023Q4\": 34}, {\"txnew2023Q1\": 126, \"txnew2023Q2\": 143, \"txnew2023Q3\": 161, \"txnew2023Q4\": 98}, {\"txnew2023Q1\": 79, \"txnew2023Q2\": 113, \"txnew2023Q3\": 98, \"txnew2023Q4\": 76}, {\"txnew2023Q1\": 45, \"txnew2023Q2\": 38, \"txnew2023Q3\": 50, \"txnew2023Q4\": 31}, {\"txnew2023Q1\": 9, \"txnew2023Q2\": 6, \"txnew2023Q3\": 3, \"txnew2023Q4\": 5}, {\"txnew2023Q1\": 283, \"txnew2023Q2\": 339, \"txnew2023Q3\": 302, \"txnew2023Q4\": 70}, {\"txnew2023Q1\": 15, \"txnew2023Q2\": 7, \"txnew2023Q3\": 12, \"txnew2023Q4\": 8}, {\"txnew2023Q1\": 15, \"txnew2023Q2\": 21, \"txnew2023Q3\": 25, \"txnew2023Q4\": 10}, {\"txnew2023Q1\": 16, \"txnew2023Q2\": 12, \"txnew2023Q3\": 15, \"txnew2023Q4\": 5}, {\"txnew2023Q1\": 57, \"txnew2023Q2\": 46, \"txnew2023Q3\": 101, \"txnew2023Q4\": 38}, {\"txnew2023Q1\": 25, \"txnew2023Q2\": 13, \"txnew2023Q3\": 13, \"txnew2023Q4\": 11}, {\"txnew2023Q1\": 10, \"txnew2023Q2\": 4, \"txnew2023Q3\": 4, \"txnew2023Q4\": 2}]}}, {\"mode\": \"vega-lite\"});\n",
       "</script>"
      ],
      "text/plain": [
       "alt.Chart(...)"
      ]
     },
     "execution_count": 51,
     "metadata": {},
     "output_type": "execute_result"
    }
   ],
   "source": [
    "\n",
    "source = (prepd_data.groupby(\n",
    "         by=['county'])[['txnew2023Q1','txnew2023Q2','txnew2023Q3','txnew2023Q4']]\n",
    "                  .sum())\n",
    "\n",
    "alt.Chart(source).mark_rect().encode(\n",
    "    alt.X(\"txnew2023Q4:Q\").axis(labelAngle=0).title(\"\"),\n",
    "    alt.Y(\"county:O\").title(\"Q4\"),\n",
    "    alt.Color(\"max(txnew2023Q4):Q\").title(\"\"),\n",
    ")"
   ]
  },
  {
   "cell_type": "code",
   "execution_count": 52,
   "id": "9fe82673",
   "metadata": {},
   "outputs": [
    {
     "data": {
      "text/plain": [
       "-273"
      ]
     },
     "execution_count": 52,
     "metadata": {},
     "output_type": "execute_result"
    }
   ],
   "source": [
    "(prepd_data['2023Q3'] - prepd_data['2023Q2']).sum()"
   ]
  },
  {
   "cell_type": "code",
   "execution_count": 53,
   "id": "f7943953",
   "metadata": {},
   "outputs": [
    {
     "data": {
      "text/html": [
       "<div>\n",
       "<style scoped>\n",
       "    .dataframe tbody tr th:only-of-type {\n",
       "        vertical-align: middle;\n",
       "    }\n",
       "\n",
       "    .dataframe tbody tr th {\n",
       "        vertical-align: top;\n",
       "    }\n",
       "\n",
       "    .dataframe thead th {\n",
       "        text-align: right;\n",
       "    }\n",
       "</style>\n",
       "<table border=\"1\" class=\"dataframe\">\n",
       "  <thead>\n",
       "    <tr style=\"text-align: right;\">\n",
       "      <th></th>\n",
       "      <th>county</th>\n",
       "      <th>txnew2023Q1</th>\n",
       "      <th>txnew2023Q2</th>\n",
       "      <th>txnew2023Q3</th>\n",
       "      <th>txnew2023Q4</th>\n",
       "    </tr>\n",
       "  </thead>\n",
       "  <tbody>\n",
       "    <tr>\n",
       "      <th>0</th>\n",
       "      <td>Bungoma</td>\n",
       "      <td>17</td>\n",
       "      <td>15</td>\n",
       "      <td>26</td>\n",
       "      <td>13</td>\n",
       "    </tr>\n",
       "    <tr>\n",
       "      <th>1</th>\n",
       "      <td>Busia</td>\n",
       "      <td>12</td>\n",
       "      <td>12</td>\n",
       "      <td>14</td>\n",
       "      <td>13</td>\n",
       "    </tr>\n",
       "    <tr>\n",
       "      <th>2</th>\n",
       "      <td>Homa Bay</td>\n",
       "      <td>148</td>\n",
       "      <td>129</td>\n",
       "      <td>149</td>\n",
       "      <td>85</td>\n",
       "    </tr>\n",
       "    <tr>\n",
       "      <th>3</th>\n",
       "      <td>Kajiado</td>\n",
       "      <td>7</td>\n",
       "      <td>7</td>\n",
       "      <td>6</td>\n",
       "      <td>3</td>\n",
       "    </tr>\n",
       "    <tr>\n",
       "      <th>4</th>\n",
       "      <td>Kakamega</td>\n",
       "      <td>66</td>\n",
       "      <td>58</td>\n",
       "      <td>64</td>\n",
       "      <td>58</td>\n",
       "    </tr>\n",
       "    <tr>\n",
       "      <th>5</th>\n",
       "      <td>Kiambu</td>\n",
       "      <td>113</td>\n",
       "      <td>110</td>\n",
       "      <td>103</td>\n",
       "      <td>53</td>\n",
       "    </tr>\n",
       "    <tr>\n",
       "      <th>6</th>\n",
       "      <td>Kilifi</td>\n",
       "      <td>15</td>\n",
       "      <td>9</td>\n",
       "      <td>12</td>\n",
       "      <td>6</td>\n",
       "    </tr>\n",
       "    <tr>\n",
       "      <th>7</th>\n",
       "      <td>Kirinyaga</td>\n",
       "      <td>12</td>\n",
       "      <td>18</td>\n",
       "      <td>12</td>\n",
       "      <td>8</td>\n",
       "    </tr>\n",
       "    <tr>\n",
       "      <th>8</th>\n",
       "      <td>Kisii</td>\n",
       "      <td>28</td>\n",
       "      <td>42</td>\n",
       "      <td>44</td>\n",
       "      <td>34</td>\n",
       "    </tr>\n",
       "    <tr>\n",
       "      <th>9</th>\n",
       "      <td>Kisumu</td>\n",
       "      <td>126</td>\n",
       "      <td>143</td>\n",
       "      <td>161</td>\n",
       "      <td>98</td>\n",
       "    </tr>\n",
       "    <tr>\n",
       "      <th>10</th>\n",
       "      <td>Migori</td>\n",
       "      <td>79</td>\n",
       "      <td>113</td>\n",
       "      <td>98</td>\n",
       "      <td>76</td>\n",
       "    </tr>\n",
       "    <tr>\n",
       "      <th>11</th>\n",
       "      <td>Mombasa</td>\n",
       "      <td>45</td>\n",
       "      <td>38</td>\n",
       "      <td>50</td>\n",
       "      <td>31</td>\n",
       "    </tr>\n",
       "    <tr>\n",
       "      <th>12</th>\n",
       "      <td>Murang'a</td>\n",
       "      <td>9</td>\n",
       "      <td>6</td>\n",
       "      <td>3</td>\n",
       "      <td>5</td>\n",
       "    </tr>\n",
       "    <tr>\n",
       "      <th>13</th>\n",
       "      <td>Nairobi</td>\n",
       "      <td>283</td>\n",
       "      <td>339</td>\n",
       "      <td>302</td>\n",
       "      <td>70</td>\n",
       "    </tr>\n",
       "    <tr>\n",
       "      <th>14</th>\n",
       "      <td>Nakuru</td>\n",
       "      <td>15</td>\n",
       "      <td>7</td>\n",
       "      <td>12</td>\n",
       "      <td>8</td>\n",
       "    </tr>\n",
       "    <tr>\n",
       "      <th>15</th>\n",
       "      <td>Narok</td>\n",
       "      <td>15</td>\n",
       "      <td>21</td>\n",
       "      <td>25</td>\n",
       "      <td>10</td>\n",
       "    </tr>\n",
       "    <tr>\n",
       "      <th>16</th>\n",
       "      <td>Nyeri</td>\n",
       "      <td>16</td>\n",
       "      <td>12</td>\n",
       "      <td>15</td>\n",
       "      <td>5</td>\n",
       "    </tr>\n",
       "    <tr>\n",
       "      <th>17</th>\n",
       "      <td>Siaya</td>\n",
       "      <td>57</td>\n",
       "      <td>46</td>\n",
       "      <td>101</td>\n",
       "      <td>38</td>\n",
       "    </tr>\n",
       "    <tr>\n",
       "      <th>18</th>\n",
       "      <td>Taita Taveta</td>\n",
       "      <td>25</td>\n",
       "      <td>13</td>\n",
       "      <td>13</td>\n",
       "      <td>11</td>\n",
       "    </tr>\n",
       "    <tr>\n",
       "      <th>19</th>\n",
       "      <td>Vihiga</td>\n",
       "      <td>10</td>\n",
       "      <td>4</td>\n",
       "      <td>4</td>\n",
       "      <td>2</td>\n",
       "    </tr>\n",
       "  </tbody>\n",
       "</table>\n",
       "</div>"
      ],
      "text/plain": [
       "          county  txnew2023Q1  txnew2023Q2  txnew2023Q3  txnew2023Q4\n",
       "0        Bungoma           17           15           26           13\n",
       "1          Busia           12           12           14           13\n",
       "2       Homa Bay          148          129          149           85\n",
       "3        Kajiado            7            7            6            3\n",
       "4       Kakamega           66           58           64           58\n",
       "5         Kiambu          113          110          103           53\n",
       "6         Kilifi           15            9           12            6\n",
       "7      Kirinyaga           12           18           12            8\n",
       "8          Kisii           28           42           44           34\n",
       "9         Kisumu          126          143          161           98\n",
       "10        Migori           79          113           98           76\n",
       "11       Mombasa           45           38           50           31\n",
       "12      Murang'a            9            6            3            5\n",
       "13       Nairobi          283          339          302           70\n",
       "14        Nakuru           15            7           12            8\n",
       "15         Narok           15           21           25           10\n",
       "16         Nyeri           16           12           15            5\n",
       "17         Siaya           57           46          101           38\n",
       "18  Taita Taveta           25           13           13           11\n",
       "19        Vihiga           10            4            4            2"
      ]
     },
     "execution_count": 53,
     "metadata": {},
     "output_type": "execute_result"
    }
   ],
   "source": [
    "(prepd_data.groupby(\n",
    "         by=['county'])[['txnew2023Q1','txnew2023Q2','txnew2023Q3','txnew2023Q4']]\n",
    "                  .sum()\n",
    "                  .reset_index())\n"
   ]
  },
  {
   "cell_type": "code",
   "execution_count": 54,
   "id": "c36eaef6",
   "metadata": {},
   "outputs": [
    {
     "data": {
      "text/plain": [
       "641"
      ]
     },
     "execution_count": 54,
     "metadata": {},
     "output_type": "execute_result"
    }
   ],
   "source": [
    "((prepd_data['txnew2023Q4']) - (prepd_data['txnew2023Q3'])).abs().sum()"
   ]
  },
  {
   "cell_type": "code",
   "execution_count": 55,
   "id": "9838cff6",
   "metadata": {},
   "outputs": [
    {
     "data": {
      "text/plain": [
       "txnew2023Q1    1098\n",
       "txnew2023Q2    1142\n",
       "txnew2023Q3    1214\n",
       "txnew2023Q4     627\n",
       "dtype: int64"
      ]
     },
     "execution_count": 55,
     "metadata": {},
     "output_type": "execute_result"
    }
   ],
   "source": [
    "prepd_data[['txnew2023Q1','txnew2023Q2','txnew2023Q3','txnew2023Q4']].sum()"
   ]
  },
  {
   "cell_type": "code",
   "execution_count": 56,
   "id": "f393bedb",
   "metadata": {},
   "outputs": [
    {
     "ename": "TypeError",
     "evalue": "'>=' not supported between instances of 'str' and 'int'",
     "output_type": "error",
     "traceback": [
      "\u001b[1;31m---------------------------------------------------------------------------\u001b[0m",
      "\u001b[1;31mTypeError\u001b[0m                                 Traceback (most recent call last)",
      "File \u001b[1;32mc:\\Users\\FatherMammoth\\anaconda3\\envs\\gisenv\\Lib\\site-packages\\IPython\\core\\formatters.py:344\u001b[0m, in \u001b[0;36mBaseFormatter.__call__\u001b[1;34m(self, obj)\u001b[0m\n\u001b[0;32m    342\u001b[0m     method \u001b[39m=\u001b[39m get_real_method(obj, \u001b[39mself\u001b[39m\u001b[39m.\u001b[39mprint_method)\n\u001b[0;32m    343\u001b[0m     \u001b[39mif\u001b[39;00m method \u001b[39mis\u001b[39;00m \u001b[39mnot\u001b[39;00m \u001b[39mNone\u001b[39;00m:\n\u001b[1;32m--> 344\u001b[0m         \u001b[39mreturn\u001b[39;00m method()\n\u001b[0;32m    345\u001b[0m     \u001b[39mreturn\u001b[39;00m \u001b[39mNone\u001b[39;00m\n\u001b[0;32m    346\u001b[0m \u001b[39melse\u001b[39;00m:\n",
      "File \u001b[1;32mc:\\Users\\FatherMammoth\\anaconda3\\envs\\gisenv\\Lib\\site-packages\\pandas\\io\\formats\\style.py:383\u001b[0m, in \u001b[0;36mStyler._repr_html_\u001b[1;34m(self)\u001b[0m\n\u001b[0;32m    378\u001b[0m \u001b[39m\u001b[39m\u001b[39m\"\"\"\u001b[39;00m\n\u001b[0;32m    379\u001b[0m \u001b[39mHooks into Jupyter notebook rich display system, which calls _repr_html_ by\u001b[39;00m\n\u001b[0;32m    380\u001b[0m \u001b[39mdefault if an object is returned at the end of a cell.\u001b[39;00m\n\u001b[0;32m    381\u001b[0m \u001b[39m\"\"\"\u001b[39;00m\n\u001b[0;32m    382\u001b[0m \u001b[39mif\u001b[39;00m get_option(\u001b[39m\"\u001b[39m\u001b[39mstyler.render.repr\u001b[39m\u001b[39m\"\u001b[39m) \u001b[39m==\u001b[39m \u001b[39m\"\u001b[39m\u001b[39mhtml\u001b[39m\u001b[39m\"\u001b[39m:\n\u001b[1;32m--> 383\u001b[0m     \u001b[39mreturn\u001b[39;00m \u001b[39mself\u001b[39;49m\u001b[39m.\u001b[39;49mto_html()\n\u001b[0;32m    384\u001b[0m \u001b[39mreturn\u001b[39;00m \u001b[39mNone\u001b[39;00m\n",
      "File \u001b[1;32mc:\\Users\\FatherMammoth\\anaconda3\\envs\\gisenv\\Lib\\site-packages\\pandas\\io\\formats\\style.py:1308\u001b[0m, in \u001b[0;36mStyler.to_html\u001b[1;34m(self, buf, table_uuid, table_attributes, sparse_index, sparse_columns, bold_headers, caption, max_rows, max_columns, encoding, doctype_html, exclude_styles, **kwargs)\u001b[0m\n\u001b[0;32m   1305\u001b[0m     obj\u001b[39m.\u001b[39mset_caption(caption)\n\u001b[0;32m   1307\u001b[0m \u001b[39m# Build HTML string..\u001b[39;00m\n\u001b[1;32m-> 1308\u001b[0m html \u001b[39m=\u001b[39m obj\u001b[39m.\u001b[39;49m_render_html(\n\u001b[0;32m   1309\u001b[0m     sparse_index\u001b[39m=\u001b[39;49msparse_index,\n\u001b[0;32m   1310\u001b[0m     sparse_columns\u001b[39m=\u001b[39;49msparse_columns,\n\u001b[0;32m   1311\u001b[0m     max_rows\u001b[39m=\u001b[39;49mmax_rows,\n\u001b[0;32m   1312\u001b[0m     max_cols\u001b[39m=\u001b[39;49mmax_columns,\n\u001b[0;32m   1313\u001b[0m     exclude_styles\u001b[39m=\u001b[39;49mexclude_styles,\n\u001b[0;32m   1314\u001b[0m     encoding\u001b[39m=\u001b[39;49mencoding \u001b[39mor\u001b[39;49;00m get_option(\u001b[39m\"\u001b[39;49m\u001b[39mstyler.render.encoding\u001b[39;49m\u001b[39m\"\u001b[39;49m),\n\u001b[0;32m   1315\u001b[0m     doctype_html\u001b[39m=\u001b[39;49mdoctype_html,\n\u001b[0;32m   1316\u001b[0m     \u001b[39m*\u001b[39;49m\u001b[39m*\u001b[39;49mkwargs,\n\u001b[0;32m   1317\u001b[0m )\n\u001b[0;32m   1319\u001b[0m \u001b[39mreturn\u001b[39;00m save_to_buffer(\n\u001b[0;32m   1320\u001b[0m     html, buf\u001b[39m=\u001b[39mbuf, encoding\u001b[39m=\u001b[39m(encoding \u001b[39mif\u001b[39;00m buf \u001b[39mis\u001b[39;00m \u001b[39mnot\u001b[39;00m \u001b[39mNone\u001b[39;00m \u001b[39melse\u001b[39;00m \u001b[39mNone\u001b[39;00m)\n\u001b[0;32m   1321\u001b[0m )\n",
      "File \u001b[1;32mc:\\Users\\FatherMammoth\\anaconda3\\envs\\gisenv\\Lib\\site-packages\\pandas\\io\\formats\\style_render.py:205\u001b[0m, in \u001b[0;36mStylerRenderer._render_html\u001b[1;34m(self, sparse_index, sparse_columns, max_rows, max_cols, **kwargs)\u001b[0m\n\u001b[0;32m    193\u001b[0m \u001b[39mdef\u001b[39;00m \u001b[39m_render_html\u001b[39m(\n\u001b[0;32m    194\u001b[0m     \u001b[39mself\u001b[39m,\n\u001b[0;32m    195\u001b[0m     sparse_index: \u001b[39mbool\u001b[39m,\n\u001b[1;32m   (...)\u001b[0m\n\u001b[0;32m    199\u001b[0m     \u001b[39m*\u001b[39m\u001b[39m*\u001b[39mkwargs,\n\u001b[0;32m    200\u001b[0m ) \u001b[39m-\u001b[39m\u001b[39m>\u001b[39m \u001b[39mstr\u001b[39m:\n\u001b[0;32m    201\u001b[0m \u001b[39m    \u001b[39m\u001b[39m\"\"\"\u001b[39;00m\n\u001b[0;32m    202\u001b[0m \u001b[39m    Renders the ``Styler`` including all applied styles to HTML.\u001b[39;00m\n\u001b[0;32m    203\u001b[0m \u001b[39m    Generates a dict with necessary kwargs passed to jinja2 template.\u001b[39;00m\n\u001b[0;32m    204\u001b[0m \u001b[39m    \"\"\"\u001b[39;00m\n\u001b[1;32m--> 205\u001b[0m     d \u001b[39m=\u001b[39m \u001b[39mself\u001b[39;49m\u001b[39m.\u001b[39;49m_render(sparse_index, sparse_columns, max_rows, max_cols, \u001b[39m\"\u001b[39;49m\u001b[39m&nbsp;\u001b[39;49m\u001b[39m\"\u001b[39;49m)\n\u001b[0;32m    206\u001b[0m     d\u001b[39m.\u001b[39mupdate(kwargs)\n\u001b[0;32m    207\u001b[0m     \u001b[39mreturn\u001b[39;00m \u001b[39mself\u001b[39m\u001b[39m.\u001b[39mtemplate_html\u001b[39m.\u001b[39mrender(\n\u001b[0;32m    208\u001b[0m         \u001b[39m*\u001b[39m\u001b[39m*\u001b[39md,\n\u001b[0;32m    209\u001b[0m         html_table_tpl\u001b[39m=\u001b[39m\u001b[39mself\u001b[39m\u001b[39m.\u001b[39mtemplate_html_table,\n\u001b[0;32m    210\u001b[0m         html_style_tpl\u001b[39m=\u001b[39m\u001b[39mself\u001b[39m\u001b[39m.\u001b[39mtemplate_html_style,\n\u001b[0;32m    211\u001b[0m     )\n",
      "File \u001b[1;32mc:\\Users\\FatherMammoth\\anaconda3\\envs\\gisenv\\Lib\\site-packages\\pandas\\io\\formats\\style_render.py:162\u001b[0m, in \u001b[0;36mStylerRenderer._render\u001b[1;34m(self, sparse_index, sparse_columns, max_rows, max_cols, blank)\u001b[0m\n\u001b[0;32m    148\u001b[0m \u001b[39mdef\u001b[39;00m \u001b[39m_render\u001b[39m(\n\u001b[0;32m    149\u001b[0m     \u001b[39mself\u001b[39m,\n\u001b[0;32m    150\u001b[0m     sparse_index: \u001b[39mbool\u001b[39m,\n\u001b[1;32m   (...)\u001b[0m\n\u001b[0;32m    154\u001b[0m     blank: \u001b[39mstr\u001b[39m \u001b[39m=\u001b[39m \u001b[39m\"\u001b[39m\u001b[39m\"\u001b[39m,\n\u001b[0;32m    155\u001b[0m ):\n\u001b[0;32m    156\u001b[0m \u001b[39m    \u001b[39m\u001b[39m\"\"\"\u001b[39;00m\n\u001b[0;32m    157\u001b[0m \u001b[39m    Computes and applies styles and then generates the general render dicts.\u001b[39;00m\n\u001b[0;32m    158\u001b[0m \n\u001b[0;32m    159\u001b[0m \u001b[39m    Also extends the `ctx` and `ctx_index` attributes with those of concatenated\u001b[39;00m\n\u001b[0;32m    160\u001b[0m \u001b[39m    stylers for use within `_translate_latex`\u001b[39;00m\n\u001b[0;32m    161\u001b[0m \u001b[39m    \"\"\"\u001b[39;00m\n\u001b[1;32m--> 162\u001b[0m     \u001b[39mself\u001b[39;49m\u001b[39m.\u001b[39;49m_compute()\n\u001b[0;32m    163\u001b[0m     dxs \u001b[39m=\u001b[39m []\n\u001b[0;32m    164\u001b[0m     ctx_len \u001b[39m=\u001b[39m \u001b[39mlen\u001b[39m(\u001b[39mself\u001b[39m\u001b[39m.\u001b[39mindex)\n",
      "File \u001b[1;32mc:\\Users\\FatherMammoth\\anaconda3\\envs\\gisenv\\Lib\\site-packages\\pandas\\io\\formats\\style_render.py:257\u001b[0m, in \u001b[0;36mStylerRenderer._compute\u001b[1;34m(self)\u001b[0m\n\u001b[0;32m    255\u001b[0m r \u001b[39m=\u001b[39m \u001b[39mself\u001b[39m\n\u001b[0;32m    256\u001b[0m \u001b[39mfor\u001b[39;00m func, args, kwargs \u001b[39min\u001b[39;00m \u001b[39mself\u001b[39m\u001b[39m.\u001b[39m_todo:\n\u001b[1;32m--> 257\u001b[0m     r \u001b[39m=\u001b[39m func(\u001b[39mself\u001b[39;49m)(\u001b[39m*\u001b[39;49margs, \u001b[39m*\u001b[39;49m\u001b[39m*\u001b[39;49mkwargs)\n\u001b[0;32m    258\u001b[0m \u001b[39mreturn\u001b[39;00m r\n",
      "File \u001b[1;32mc:\\Users\\FatherMammoth\\anaconda3\\envs\\gisenv\\Lib\\site-packages\\pandas\\io\\formats\\style.py:1667\u001b[0m, in \u001b[0;36mStyler._apply\u001b[1;34m(self, func, axis, subset, **kwargs)\u001b[0m\n\u001b[0;32m   1665\u001b[0m axis \u001b[39m=\u001b[39m \u001b[39mself\u001b[39m\u001b[39m.\u001b[39mdata\u001b[39m.\u001b[39m_get_axis_number(axis)\n\u001b[0;32m   1666\u001b[0m \u001b[39mif\u001b[39;00m axis \u001b[39m==\u001b[39m \u001b[39m0\u001b[39m:\n\u001b[1;32m-> 1667\u001b[0m     result \u001b[39m=\u001b[39m data\u001b[39m.\u001b[39;49mapply(func, axis\u001b[39m=\u001b[39;49m\u001b[39m0\u001b[39;49m, \u001b[39m*\u001b[39;49m\u001b[39m*\u001b[39;49mkwargs)\n\u001b[0;32m   1668\u001b[0m \u001b[39melse\u001b[39;00m:\n\u001b[0;32m   1669\u001b[0m     result \u001b[39m=\u001b[39m data\u001b[39m.\u001b[39mT\u001b[39m.\u001b[39mapply(func, axis\u001b[39m=\u001b[39m\u001b[39m0\u001b[39m, \u001b[39m*\u001b[39m\u001b[39m*\u001b[39mkwargs)\u001b[39m.\u001b[39mT  \u001b[39m# see GH 42005\u001b[39;00m\n",
      "File \u001b[1;32mc:\\Users\\FatherMammoth\\anaconda3\\envs\\gisenv\\Lib\\site-packages\\pandas\\core\\frame.py:9423\u001b[0m, in \u001b[0;36mDataFrame.apply\u001b[1;34m(self, func, axis, raw, result_type, args, **kwargs)\u001b[0m\n\u001b[0;32m   9412\u001b[0m \u001b[39mfrom\u001b[39;00m \u001b[39mpandas\u001b[39;00m\u001b[39m.\u001b[39;00m\u001b[39mcore\u001b[39;00m\u001b[39m.\u001b[39;00m\u001b[39mapply\u001b[39;00m \u001b[39mimport\u001b[39;00m frame_apply\n\u001b[0;32m   9414\u001b[0m op \u001b[39m=\u001b[39m frame_apply(\n\u001b[0;32m   9415\u001b[0m     \u001b[39mself\u001b[39m,\n\u001b[0;32m   9416\u001b[0m     func\u001b[39m=\u001b[39mfunc,\n\u001b[1;32m   (...)\u001b[0m\n\u001b[0;32m   9421\u001b[0m     kwargs\u001b[39m=\u001b[39mkwargs,\n\u001b[0;32m   9422\u001b[0m )\n\u001b[1;32m-> 9423\u001b[0m \u001b[39mreturn\u001b[39;00m op\u001b[39m.\u001b[39;49mapply()\u001b[39m.\u001b[39m__finalize__(\u001b[39mself\u001b[39m, method\u001b[39m=\u001b[39m\u001b[39m\"\u001b[39m\u001b[39mapply\u001b[39m\u001b[39m\"\u001b[39m)\n",
      "File \u001b[1;32mc:\\Users\\FatherMammoth\\anaconda3\\envs\\gisenv\\Lib\\site-packages\\pandas\\core\\apply.py:678\u001b[0m, in \u001b[0;36mFrameApply.apply\u001b[1;34m(self)\u001b[0m\n\u001b[0;32m    675\u001b[0m \u001b[39melif\u001b[39;00m \u001b[39mself\u001b[39m\u001b[39m.\u001b[39mraw:\n\u001b[0;32m    676\u001b[0m     \u001b[39mreturn\u001b[39;00m \u001b[39mself\u001b[39m\u001b[39m.\u001b[39mapply_raw()\n\u001b[1;32m--> 678\u001b[0m \u001b[39mreturn\u001b[39;00m \u001b[39mself\u001b[39;49m\u001b[39m.\u001b[39;49mapply_standard()\n",
      "File \u001b[1;32mc:\\Users\\FatherMammoth\\anaconda3\\envs\\gisenv\\Lib\\site-packages\\pandas\\core\\apply.py:798\u001b[0m, in \u001b[0;36mFrameApply.apply_standard\u001b[1;34m(self)\u001b[0m\n\u001b[0;32m    797\u001b[0m \u001b[39mdef\u001b[39;00m \u001b[39mapply_standard\u001b[39m(\u001b[39mself\u001b[39m):\n\u001b[1;32m--> 798\u001b[0m     results, res_index \u001b[39m=\u001b[39m \u001b[39mself\u001b[39;49m\u001b[39m.\u001b[39;49mapply_series_generator()\n\u001b[0;32m    800\u001b[0m     \u001b[39m# wrap results\u001b[39;00m\n\u001b[0;32m    801\u001b[0m     \u001b[39mreturn\u001b[39;00m \u001b[39mself\u001b[39m\u001b[39m.\u001b[39mwrap_results(results, res_index)\n",
      "File \u001b[1;32mc:\\Users\\FatherMammoth\\anaconda3\\envs\\gisenv\\Lib\\site-packages\\pandas\\core\\apply.py:814\u001b[0m, in \u001b[0;36mFrameApply.apply_series_generator\u001b[1;34m(self)\u001b[0m\n\u001b[0;32m    811\u001b[0m \u001b[39mwith\u001b[39;00m option_context(\u001b[39m\"\u001b[39m\u001b[39mmode.chained_assignment\u001b[39m\u001b[39m\"\u001b[39m, \u001b[39mNone\u001b[39;00m):\n\u001b[0;32m    812\u001b[0m     \u001b[39mfor\u001b[39;00m i, v \u001b[39min\u001b[39;00m \u001b[39menumerate\u001b[39m(series_gen):\n\u001b[0;32m    813\u001b[0m         \u001b[39m# ignore SettingWithCopy here in case the user mutates\u001b[39;00m\n\u001b[1;32m--> 814\u001b[0m         results[i] \u001b[39m=\u001b[39m \u001b[39mself\u001b[39;49m\u001b[39m.\u001b[39;49mf(v)\n\u001b[0;32m    815\u001b[0m         \u001b[39mif\u001b[39;00m \u001b[39misinstance\u001b[39m(results[i], ABCSeries):\n\u001b[0;32m    816\u001b[0m             \u001b[39m# If we have a view on v, we need to make a copy because\u001b[39;00m\n\u001b[0;32m    817\u001b[0m             \u001b[39m#  series_generator will swap out the underlying data\u001b[39;00m\n\u001b[0;32m    818\u001b[0m             results[i] \u001b[39m=\u001b[39m results[i]\u001b[39m.\u001b[39mcopy(deep\u001b[39m=\u001b[39m\u001b[39mFalse\u001b[39;00m)\n",
      "File \u001b[1;32mc:\\Users\\FatherMammoth\\anaconda3\\envs\\gisenv\\Lib\\site-packages\\pandas\\core\\apply.py:133\u001b[0m, in \u001b[0;36mApply.__init__.<locals>.f\u001b[1;34m(x)\u001b[0m\n\u001b[0;32m    132\u001b[0m \u001b[39mdef\u001b[39;00m \u001b[39mf\u001b[39m(x):\n\u001b[1;32m--> 133\u001b[0m     \u001b[39mreturn\u001b[39;00m func(x, \u001b[39m*\u001b[39;49margs, \u001b[39m*\u001b[39;49m\u001b[39m*\u001b[39;49mkwargs)\n",
      "File \u001b[1;32mc:\\Users\\FatherMammoth\\anaconda3\\envs\\gisenv\\Lib\\site-packages\\pandas\\io\\formats\\style.py:3734\u001b[0m, in \u001b[0;36m_highlight_value\u001b[1;34m(data, op, props)\u001b[0m\n\u001b[0;32m   3730\u001b[0m \u001b[39mdef\u001b[39;00m \u001b[39m_highlight_value\u001b[39m(data: DataFrame \u001b[39m|\u001b[39m Series, op: \u001b[39mstr\u001b[39m, props: \u001b[39mstr\u001b[39m) \u001b[39m-\u001b[39m\u001b[39m>\u001b[39m np\u001b[39m.\u001b[39mndarray:\n\u001b[0;32m   3731\u001b[0m \u001b[39m    \u001b[39m\u001b[39m\"\"\"\u001b[39;00m\n\u001b[0;32m   3732\u001b[0m \u001b[39m    Return an array of css strings based on the condition of values matching an op.\u001b[39;00m\n\u001b[0;32m   3733\u001b[0m \u001b[39m    \"\"\"\u001b[39;00m\n\u001b[1;32m-> 3734\u001b[0m     value \u001b[39m=\u001b[39m \u001b[39mgetattr\u001b[39;49m(data, op)(skipna\u001b[39m=\u001b[39;49m\u001b[39mTrue\u001b[39;49;00m)\n\u001b[0;32m   3735\u001b[0m     \u001b[39mif\u001b[39;00m \u001b[39misinstance\u001b[39m(data, DataFrame):  \u001b[39m# min/max must be done twice to return scalar\u001b[39;00m\n\u001b[0;32m   3736\u001b[0m         value \u001b[39m=\u001b[39m \u001b[39mgetattr\u001b[39m(value, op)(skipna\u001b[39m=\u001b[39m\u001b[39mTrue\u001b[39;00m)\n",
      "File \u001b[1;32mc:\\Users\\FatherMammoth\\anaconda3\\envs\\gisenv\\Lib\\site-packages\\pandas\\core\\generic.py:11646\u001b[0m, in \u001b[0;36mNDFrame._add_numeric_operations.<locals>.max\u001b[1;34m(self, axis, skipna, numeric_only, **kwargs)\u001b[0m\n\u001b[0;32m  11627\u001b[0m \u001b[39m@doc\u001b[39m(\n\u001b[0;32m  11628\u001b[0m     _num_doc,\n\u001b[0;32m  11629\u001b[0m     desc\u001b[39m=\u001b[39m\u001b[39m\"\u001b[39m\u001b[39mReturn the maximum of the values over the requested axis.\u001b[39m\u001b[39m\\n\u001b[39;00m\u001b[39m\\n\u001b[39;00m\u001b[39m\"\u001b[39m\n\u001b[1;32m   (...)\u001b[0m\n\u001b[0;32m  11644\u001b[0m     \u001b[39m*\u001b[39m\u001b[39m*\u001b[39mkwargs,\n\u001b[0;32m  11645\u001b[0m ):\n\u001b[1;32m> 11646\u001b[0m     \u001b[39mreturn\u001b[39;00m NDFrame\u001b[39m.\u001b[39;49mmax(\u001b[39mself\u001b[39;49m, axis, skipna, numeric_only, \u001b[39m*\u001b[39;49m\u001b[39m*\u001b[39;49mkwargs)\n",
      "File \u001b[1;32mc:\\Users\\FatherMammoth\\anaconda3\\envs\\gisenv\\Lib\\site-packages\\pandas\\core\\generic.py:11185\u001b[0m, in \u001b[0;36mNDFrame.max\u001b[1;34m(self, axis, skipna, numeric_only, **kwargs)\u001b[0m\n\u001b[0;32m  11178\u001b[0m \u001b[39mdef\u001b[39;00m \u001b[39mmax\u001b[39m(\n\u001b[0;32m  11179\u001b[0m     \u001b[39mself\u001b[39m,\n\u001b[0;32m  11180\u001b[0m     axis: Axis \u001b[39m|\u001b[39m \u001b[39mNone\u001b[39;00m \u001b[39m=\u001b[39m \u001b[39m0\u001b[39m,\n\u001b[1;32m   (...)\u001b[0m\n\u001b[0;32m  11183\u001b[0m     \u001b[39m*\u001b[39m\u001b[39m*\u001b[39mkwargs,\n\u001b[0;32m  11184\u001b[0m ):\n\u001b[1;32m> 11185\u001b[0m     \u001b[39mreturn\u001b[39;00m \u001b[39mself\u001b[39;49m\u001b[39m.\u001b[39;49m_stat_function(\n\u001b[0;32m  11186\u001b[0m         \u001b[39m\"\u001b[39;49m\u001b[39mmax\u001b[39;49m\u001b[39m\"\u001b[39;49m,\n\u001b[0;32m  11187\u001b[0m         nanops\u001b[39m.\u001b[39;49mnanmax,\n\u001b[0;32m  11188\u001b[0m         axis,\n\u001b[0;32m  11189\u001b[0m         skipna,\n\u001b[0;32m  11190\u001b[0m         numeric_only,\n\u001b[0;32m  11191\u001b[0m         \u001b[39m*\u001b[39;49m\u001b[39m*\u001b[39;49mkwargs,\n\u001b[0;32m  11192\u001b[0m     )\n",
      "File \u001b[1;32mc:\\Users\\FatherMammoth\\anaconda3\\envs\\gisenv\\Lib\\site-packages\\pandas\\core\\generic.py:11158\u001b[0m, in \u001b[0;36mNDFrame._stat_function\u001b[1;34m(self, name, func, axis, skipna, numeric_only, **kwargs)\u001b[0m\n\u001b[0;32m  11154\u001b[0m     nv\u001b[39m.\u001b[39mvalidate_stat_func((), kwargs, fname\u001b[39m=\u001b[39mname)\n\u001b[0;32m  11156\u001b[0m validate_bool_kwarg(skipna, \u001b[39m\"\u001b[39m\u001b[39mskipna\u001b[39m\u001b[39m\"\u001b[39m, none_allowed\u001b[39m=\u001b[39m\u001b[39mFalse\u001b[39;00m)\n\u001b[1;32m> 11158\u001b[0m \u001b[39mreturn\u001b[39;00m \u001b[39mself\u001b[39;49m\u001b[39m.\u001b[39;49m_reduce(\n\u001b[0;32m  11159\u001b[0m     func, name\u001b[39m=\u001b[39;49mname, axis\u001b[39m=\u001b[39;49maxis, skipna\u001b[39m=\u001b[39;49mskipna, numeric_only\u001b[39m=\u001b[39;49mnumeric_only\n\u001b[0;32m  11160\u001b[0m )\n",
      "File \u001b[1;32mc:\\Users\\FatherMammoth\\anaconda3\\envs\\gisenv\\Lib\\site-packages\\pandas\\core\\series.py:4670\u001b[0m, in \u001b[0;36mSeries._reduce\u001b[1;34m(self, op, name, axis, skipna, numeric_only, filter_type, **kwds)\u001b[0m\n\u001b[0;32m   4665\u001b[0m     \u001b[39mraise\u001b[39;00m \u001b[39mTypeError\u001b[39;00m(\n\u001b[0;32m   4666\u001b[0m         \u001b[39mf\u001b[39m\u001b[39m\"\u001b[39m\u001b[39mSeries.\u001b[39m\u001b[39m{\u001b[39;00mname\u001b[39m}\u001b[39;00m\u001b[39m does not allow \u001b[39m\u001b[39m{\u001b[39;00mkwd_name\u001b[39m}\u001b[39;00m\u001b[39m=\u001b[39m\u001b[39m{\u001b[39;00mnumeric_only\u001b[39m}\u001b[39;00m\u001b[39m \u001b[39m\u001b[39m\"\u001b[39m\n\u001b[0;32m   4667\u001b[0m         \u001b[39m\"\u001b[39m\u001b[39mwith non-numeric dtypes.\u001b[39m\u001b[39m\"\u001b[39m\n\u001b[0;32m   4668\u001b[0m     )\n\u001b[0;32m   4669\u001b[0m \u001b[39mwith\u001b[39;00m np\u001b[39m.\u001b[39merrstate(\u001b[39mall\u001b[39m\u001b[39m=\u001b[39m\u001b[39m\"\u001b[39m\u001b[39mignore\u001b[39m\u001b[39m\"\u001b[39m):\n\u001b[1;32m-> 4670\u001b[0m     \u001b[39mreturn\u001b[39;00m op(delegate, skipna\u001b[39m=\u001b[39;49mskipna, \u001b[39m*\u001b[39;49m\u001b[39m*\u001b[39;49mkwds)\n",
      "File \u001b[1;32mc:\\Users\\FatherMammoth\\anaconda3\\envs\\gisenv\\Lib\\site-packages\\pandas\\core\\nanops.py:158\u001b[0m, in \u001b[0;36mbottleneck_switch.__call__.<locals>.f\u001b[1;34m(values, axis, skipna, **kwds)\u001b[0m\n\u001b[0;32m    156\u001b[0m         result \u001b[39m=\u001b[39m alt(values, axis\u001b[39m=\u001b[39maxis, skipna\u001b[39m=\u001b[39mskipna, \u001b[39m*\u001b[39m\u001b[39m*\u001b[39mkwds)\n\u001b[0;32m    157\u001b[0m \u001b[39melse\u001b[39;00m:\n\u001b[1;32m--> 158\u001b[0m     result \u001b[39m=\u001b[39m alt(values, axis\u001b[39m=\u001b[39;49maxis, skipna\u001b[39m=\u001b[39;49mskipna, \u001b[39m*\u001b[39;49m\u001b[39m*\u001b[39;49mkwds)\n\u001b[0;32m    160\u001b[0m \u001b[39mreturn\u001b[39;00m result\n",
      "File \u001b[1;32mc:\\Users\\FatherMammoth\\anaconda3\\envs\\gisenv\\Lib\\site-packages\\pandas\\core\\nanops.py:421\u001b[0m, in \u001b[0;36m_datetimelike_compat.<locals>.new_func\u001b[1;34m(values, axis, skipna, mask, **kwargs)\u001b[0m\n\u001b[0;32m    418\u001b[0m \u001b[39mif\u001b[39;00m datetimelike \u001b[39mand\u001b[39;00m mask \u001b[39mis\u001b[39;00m \u001b[39mNone\u001b[39;00m:\n\u001b[0;32m    419\u001b[0m     mask \u001b[39m=\u001b[39m isna(values)\n\u001b[1;32m--> 421\u001b[0m result \u001b[39m=\u001b[39m func(values, axis\u001b[39m=\u001b[39;49maxis, skipna\u001b[39m=\u001b[39;49mskipna, mask\u001b[39m=\u001b[39;49mmask, \u001b[39m*\u001b[39;49m\u001b[39m*\u001b[39;49mkwargs)\n\u001b[0;32m    423\u001b[0m \u001b[39mif\u001b[39;00m datetimelike:\n\u001b[0;32m    424\u001b[0m     result \u001b[39m=\u001b[39m _wrap_results(result, orig_values\u001b[39m.\u001b[39mdtype, fill_value\u001b[39m=\u001b[39miNaT)\n",
      "File \u001b[1;32mc:\\Users\\FatherMammoth\\anaconda3\\envs\\gisenv\\Lib\\site-packages\\pandas\\core\\nanops.py:1094\u001b[0m, in \u001b[0;36m_nanminmax.<locals>.reduction\u001b[1;34m(values, axis, skipna, mask)\u001b[0m\n\u001b[0;32m   1092\u001b[0m         result \u001b[39m=\u001b[39m np\u001b[39m.\u001b[39mnan\n\u001b[0;32m   1093\u001b[0m \u001b[39melse\u001b[39;00m:\n\u001b[1;32m-> 1094\u001b[0m     result \u001b[39m=\u001b[39m \u001b[39mgetattr\u001b[39;49m(values, meth)(axis)\n\u001b[0;32m   1096\u001b[0m result \u001b[39m=\u001b[39m _maybe_null_out(result, axis, mask, values\u001b[39m.\u001b[39mshape)\n\u001b[0;32m   1097\u001b[0m \u001b[39mreturn\u001b[39;00m result\n",
      "File \u001b[1;32mc:\\Users\\FatherMammoth\\anaconda3\\envs\\gisenv\\Lib\\site-packages\\numpy\\core\\_methods.py:41\u001b[0m, in \u001b[0;36m_amax\u001b[1;34m(a, axis, out, keepdims, initial, where)\u001b[0m\n\u001b[0;32m     39\u001b[0m \u001b[39mdef\u001b[39;00m \u001b[39m_amax\u001b[39m(a, axis\u001b[39m=\u001b[39m\u001b[39mNone\u001b[39;00m, out\u001b[39m=\u001b[39m\u001b[39mNone\u001b[39;00m, keepdims\u001b[39m=\u001b[39m\u001b[39mFalse\u001b[39;00m,\n\u001b[0;32m     40\u001b[0m           initial\u001b[39m=\u001b[39m_NoValue, where\u001b[39m=\u001b[39m\u001b[39mTrue\u001b[39;00m):\n\u001b[1;32m---> 41\u001b[0m     \u001b[39mreturn\u001b[39;00m umr_maximum(a, axis, \u001b[39mNone\u001b[39;00m, out, keepdims, initial, where)\n",
      "\u001b[1;31mTypeError\u001b[0m: '>=' not supported between instances of 'str' and 'int'"
     ]
    },
    {
     "data": {
      "text/plain": [
       "<pandas.io.formats.style.Styler at 0x1bcec5d7e50>"
      ]
     },
     "execution_count": 56,
     "metadata": {},
     "output_type": "execute_result"
    }
   ],
   "source": [
    "(prepd_data.groupby(\n",
    "         by=['region'])[['txnew2023Q1','txnew2023Q2','txnew2023Q3','txnew2023Q4']]\n",
    "                  .sum()\n",
    "                  .reset_index().transpose()).style.highlight_max()#.set_index(['txnew2023Q1','txnew2023Q2','txnew2023Q3','txnew2023Q4'])\n"
   ]
  },
  {
   "cell_type": "code",
   "execution_count": 57,
   "id": "5e1a10ab",
   "metadata": {},
   "outputs": [],
   "source": [
    "import seaborn as sns"
   ]
  },
  {
   "cell_type": "code",
   "execution_count": 58,
   "id": "af17fc29",
   "metadata": {},
   "outputs": [
    {
     "data": {
      "text/plain": [
       "<Axes: ylabel='facility_name'>"
      ]
     },
     "execution_count": 58,
     "metadata": {},
     "output_type": "execute_result"
    },
    {
     "data": {
      "image/png": "[encoded data removed]",
      "text/plain": [
       "<Figure size 640x480 with 2 Axes>"
      ]
     },
     "metadata": {},
     "output_type": "display_data"
    }
   ],
   "source": [
    "sns.heatmap(prepd_data.groupby(by=['facility_name'])[['txnew2023Q1','txnew2023Q2','txnew2023Q3','txnew2023Q4']].sum())"
   ]
  },
  {
   "cell_type": "code",
   "execution_count": 59,
   "id": "dd2041c5",
   "metadata": {},
   "outputs": [],
   "source": [
    "import streamlit as st"
   ]
  },
  {
   "cell_type": "code",
   "execution_count": 60,
   "id": "1d4371d0",
   "metadata": {},
   "outputs": [
    {
     "name": "stderr",
     "output_type": "stream",
     "text": [
      "2023-09-27 17:20:05.939 \n",
      "  \u001b[33m\u001b[1mWarning:\u001b[0m to view this Streamlit app on a browser, run it with the following\n",
      "  command:\n",
      "\n",
      "    streamlit run c:\\Users\\FatherMammoth\\anaconda3\\envs\\gisenv\\Lib\\site-packages\\ipykernel_launcher.py [ARGUMENTS]\n"
     ]
    },
    {
     "data": {
      "text/plain": [
       "DeltaGenerator()"
      ]
     },
     "execution_count": 60,
     "metadata": {},
     "output_type": "execute_result"
    }
   ],
   "source": [
    "st.altair_chart(prepd_data.groupby(by=['region'])[['txnew2023Q1','txnew2023Q2','txnew2023Q3','txnew2023Q4']].sum().T)"
   ]
  },
  {
   "cell_type": "markdown",
   "id": "d8e9a794",
   "metadata": {},
   "source": [
    "seems i need a new dataset, showing county tested and new tx"
   ]
  },
  {
   "cell_type": "code",
   "execution_count": 61,
   "id": "1ac757fe",
   "metadata": {},
   "outputs": [],
   "source": [
    "tested_data = 'raw_data/tested_totals.xlsx'\n",
    "tested_df = pd.read_excel(tested_data)"
   ]
  },
  {
   "cell_type": "code",
   "execution_count": 89,
   "id": "140a683f",
   "metadata": {},
   "outputs": [
    {
     "data": {
      "text/html": [
       "\n",
       "<style>\n",
       "  #altair-viz-5cd768589e6642ffb08fe8c5c1ce665b.vega-embed {\n",
       "    width: 100%;\n",
       "    display: flex;\n",
       "  }\n",
       "\n",
       "  #altair-viz-5cd768589e6642ffb08fe8c5c1ce665b.vega-embed details,\n",
       "  #altair-viz-5cd768589e6642ffb08fe8c5c1ce665b.vega-embed details summary {\n",
       "    position: relative;\n",
       "  }\n",
       "</style>\n",
       "<div id=\"altair-viz-5cd768589e6642ffb08fe8c5c1ce665b\"></div>\n",
       "<script type=\"text/javascript\">\n",
       "  var VEGA_DEBUG = (typeof VEGA_DEBUG == \"undefined\") ? {} : VEGA_DEBUG;\n",
       "  (function(spec, embedOpt){\n",
       "    let outputDiv = document.currentScript.previousElementSibling;\n",
       "    if (outputDiv.id !== \"altair-viz-5cd768589e6642ffb08fe8c5c1ce665b\") {\n",
       "      outputDiv = document.getElementById(\"altair-viz-5cd768589e6642ffb08fe8c5c1ce665b\");\n",
       "    }\n",
       "    const paths = {\n",
       "      \"vega\": \"https://cdn.jsdelivr.net/npm/vega@5?noext\",\n",
       "      \"vega-lib\": \"https://cdn.jsdelivr.net/npm/vega-lib?noext\",\n",
       "      \"vega-lite\": \"https://cdn.jsdelivr.net/npm/vega-lite@5.14.1?noext\",\n",
       "      \"vega-embed\": \"https://cdn.jsdelivr.net/npm/vega-embed@6?noext\",\n",
       "    };\n",
       "\n",
       "    function maybeLoadScript(lib, version) {\n",
       "      var key = `${lib.replace(\"-\", \"\")}_version`;\n",
       "      return (VEGA_DEBUG[key] == version) ?\n",
       "        Promise.resolve(paths[lib]) :\n",
       "        new Promise(function(resolve, reject) {\n",
       "          var s = document.createElement('script');\n",
       "          document.getElementsByTagName(\"head\")[0].appendChild(s);\n",
       "          s.async = true;\n",
       "          s.onload = () => {\n",
       "            VEGA_DEBUG[key] = version;\n",
       "            return resolve(paths[lib]);\n",
       "          };\n",
       "          s.onerror = () => reject(`Error loading script: ${paths[lib]}`);\n",
       "          s.src = paths[lib];\n",
       "        });\n",
       "    }\n",
       "\n",
       "    function showError(err) {\n",
       "      outputDiv.innerHTML = `<div class=\"error\" style=\"color:red;\">${err}</div>`;\n",
       "      throw err;\n",
       "    }\n",
       "\n",
       "    function displayChart(vegaEmbed) {\n",
       "      vegaEmbed(outputDiv, spec, embedOpt)\n",
       "        .catch(err => showError(`Javascript Error: ${err.message}<br>This usually means there's a typo in your chart specification. See the javascript console for the full traceback.`));\n",
       "    }\n",
       "\n",
       "    if(typeof define === \"function\" && define.amd) {\n",
       "      requirejs.config({paths});\n",
       "      require([\"vega-embed\"], displayChart, err => showError(`Error loading script: ${err.message}`));\n",
       "    } else {\n",
       "      maybeLoadScript(\"vega\", \"5\")\n",
       "        .then(() => maybeLoadScript(\"vega-lite\", \"5.14.1\"))\n",
       "        .then(() => maybeLoadScript(\"vega-embed\", \"6\"))\n",
       "        .catch(showError)\n",
       "        .then(() => displayChart(vegaEmbed));\n",
       "    }\n",
       "  })({\"config\": {\"view\": {\"continuousWidth\": 300, \"continuousHeight\": 300}}, \"layer\": [{\"data\": {\"name\": \"data-5d9396d22929b15257ecad71cebad9de\"}, \"mark\": {\"type\": \"line\"}, \"encoding\": {\"x\": {\"field\": \"county\", \"type\": \"nominal\"}, \"y\": {\"field\": \"number_tested\", \"type\": \"quantitative\"}}}, {\"data\": {\"name\": \"data-5d9396d22929b15257ecad71cebad9de\"}, \"mark\": {\"type\": \"area\"}, \"encoding\": {\"x\": {\"field\": \"county\", \"type\": \"nominal\"}, \"y\": {\"field\": \"number_positive\", \"type\": \"quantitative\"}}}], \"height\": 500, \"width\": 1000, \"$schema\": \"https://vega.github.io/schema/vega-lite/v5.14.1.json\", \"datasets\": {\"data-5d9396d22929b15257ecad71cebad9de\": [{\"county\": \"Bungoma\", \"txnew2023Q4\": 13, \"region\": \"Western\", \"number_tested\": 152, \"number_positive\": 10}, {\"county\": \"Busia\", \"txnew2023Q4\": 13, \"region\": \"Western\", \"number_tested\": 198, \"number_positive\": 8}, {\"county\": \"Homa Bay\", \"txnew2023Q4\": 85, \"region\": \"Homa Bay\", \"number_tested\": 719, \"number_positive\": 31}, {\"county\": \"Kajiado\", \"txnew2023Q4\": 3, \"region\": \"Nairobi\", \"number_tested\": 74, \"number_positive\": 2}, {\"county\": \"Kakamega\", \"txnew2023Q4\": 58, \"region\": \"Western\", \"number_tested\": 906, \"number_positive\": 25}, {\"county\": \"Kiambu\", \"txnew2023Q4\": 53, \"region\": \"Nairobi\", \"number_tested\": 808, \"number_positive\": 28}, {\"county\": \"Kilifi\", \"txnew2023Q4\": 6, \"region\": \"Mombasa\", \"number_tested\": 19, \"number_positive\": 0}, {\"county\": \"Kirinyaga\", \"txnew2023Q4\": 8, \"region\": \"Nairobi\", \"number_tested\": 402, \"number_positive\": 5}, {\"county\": \"Kisii\", \"txnew2023Q4\": 34, \"region\": \"Kisii\", \"number_tested\": 365, \"number_positive\": 8}, {\"county\": \"Kisumu\", \"txnew2023Q4\": 98, \"region\": \"Kisumu\", \"number_tested\": 284, \"number_positive\": 30}, {\"county\": \"Migori\", \"txnew2023Q4\": 76, \"region\": \"Migori\", \"number_tested\": 709, \"number_positive\": 41}, {\"county\": \"Mombasa\", \"txnew2023Q4\": 31, \"region\": \"Mombasa\", \"number_tested\": 288, \"number_positive\": 21}, {\"county\": \"Murang'a\", \"txnew2023Q4\": 5, \"region\": \"Nairobi\", \"number_tested\": 98, \"number_positive\": 3}, {\"county\": \"Nairobi\", \"txnew2023Q4\": 70, \"region\": \"Nairobi\", \"number_tested\": 1077, \"number_positive\": 29}, {\"county\": \"Nakuru\", \"txnew2023Q4\": 8, \"region\": \"Nairobi\", \"number_tested\": 225, \"number_positive\": 4}, {\"county\": \"Narok\", \"txnew2023Q4\": 10, \"region\": \"Nairobi\", \"number_tested\": 104, \"number_positive\": 4}, {\"county\": \"Nyeri\", \"txnew2023Q4\": 5, \"region\": \"Nairobi\", \"number_tested\": 356, \"number_positive\": 3}, {\"county\": \"Siaya\", \"txnew2023Q4\": 38, \"region\": \"Siaya\", \"number_tested\": 1112, \"number_positive\": 24}, {\"county\": \"Taita Taveta\", \"txnew2023Q4\": 11, \"region\": \"Mombasa\", \"number_tested\": 153, \"number_positive\": 4}, {\"county\": \"Vihiga\", \"txnew2023Q4\": 2, \"region\": \"Western\", \"number_tested\": 29, \"number_positive\": 2}]}}, {\"mode\": \"vega-lite\"});\n",
       "</script>"
      ],
      "text/plain": [
       "alt.LayerChart(...)"
      ]
     },
     "execution_count": 89,
     "metadata": {},
     "output_type": "execute_result"
    }
   ],
   "source": [
    "test_yield = alt.Chart((prepd_data.groupby(by=['county'])[['txnew2023Q4']].sum()).merge(tested_df,\n",
    "                                                                 on=['county'],\n",
    "                                                                 how='outer').set_index('county').reset_index()).mark_line().encode(\n",
    "        x= alt.X(\"county:N\"),\n",
    "        y= alt.Y(\"number_tested:Q\")).properties(\n",
    "    height=500,\n",
    "    width=1000)\n",
    "        \n",
    "test_pos = alt.Chart((prepd_data.groupby(by=['county'])[['txnew2023Q4']].sum()).merge(tested_df,\n",
    "                                                                 on=['county'],\n",
    "                                                                 how='outer').set_index('county').reset_index()).mark_area().encode(\n",
    "        x= alt.X(\"county:N\"),\n",
    "        y= alt.Y(\"number_positive:Q\")).properties(\n",
    "    height=500,\n",
    "    width=1000)        \n",
    "                                                                 \n",
    "txnewq = alt.Chart((prepd_data.groupby(by=['county'])[['txnew2023Q4']].sum()).merge(tested_df,\n",
    "                                                                 on=['county'],\n",
    "                                                                 how='outer').set_index('county').reset_index()).mark_area().encode(\n",
    "        x= alt.X(\"county:N\"),\n",
    "        y= alt.Y(\"txnew2023Q4:Q\")).properties(\n",
    "    height=500,\n",
    "    width=1000)\n",
    "\n",
    "test_yield + test_pos"
   ]
  },
  {
   "cell_type": "code",
   "execution_count": 107,
   "id": "dc36aa49",
   "metadata": {},
   "outputs": [
    {
     "data": {
      "text/plain": [
       "<Axes: xlabel='county', ylabel='index'>"
      ]
     },
     "execution_count": 107,
     "metadata": {},
     "output_type": "execute_result"
    },
    {
     "data": {
      "image/png": "[encoded data removed]",
      "text/plain": [
       "<Figure size 640x480 with 2 Axes>"
      ]
     },
     "metadata": {},
     "output_type": "display_data"
    }
   ],
   "source": [
    "sns.heatmap(((prepd_data[['county','txnew2023Q1','txnew2023Q2',\n",
    "             'txnew2023Q3','txnew2023Q4']].groupby(\n",
    "                 by=['county'])[['txnew2023Q1',\n",
    "                                 'txnew2023Q2','txnew2023Q3','txnew2023Q4']].sum()).transpose().reset_index().set_index('index')), square=False)"
   ]
  },
  {
   "cell_type": "code",
   "execution_count": 125,
   "id": "a9772be7",
   "metadata": {},
   "outputs": [
    {
     "data": {
      "text/plain": [
       "['txnew2023Q1', 'txnew2023Q2', 'txnew2023Q3', 'txnew2023Q4']"
      ]
     },
     "execution_count": 125,
     "metadata": {},
     "output_type": "execute_result"
    }
   ],
   "source": [
    "test_heat.index.to_list()"
   ]
  },
  {
   "cell_type": "code",
   "execution_count": 137,
   "id": "56c3a4ea",
   "metadata": {},
   "outputs": [
    {
     "data": {
      "text/html": [
       "\n",
       "<style>\n",
       "  #altair-viz-6b58dcb0645447ad8b7c2445a88c940d.vega-embed {\n",
       "    width: 100%;\n",
       "    display: flex;\n",
       "  }\n",
       "\n",
       "  #altair-viz-6b58dcb0645447ad8b7c2445a88c940d.vega-embed details,\n",
       "  #altair-viz-6b58dcb0645447ad8b7c2445a88c940d.vega-embed details summary {\n",
       "    position: relative;\n",
       "  }\n",
       "</style>\n",
       "<div id=\"altair-viz-6b58dcb0645447ad8b7c2445a88c940d\"></div>\n",
       "<script type=\"text/javascript\">\n",
       "  var VEGA_DEBUG = (typeof VEGA_DEBUG == \"undefined\") ? {} : VEGA_DEBUG;\n",
       "  (function(spec, embedOpt){\n",
       "    let outputDiv = document.currentScript.previousElementSibling;\n",
       "    if (outputDiv.id !== \"altair-viz-6b58dcb0645447ad8b7c2445a88c940d\") {\n",
       "      outputDiv = document.getElementById(\"altair-viz-6b58dcb0645447ad8b7c2445a88c940d\");\n",
       "    }\n",
       "    const paths = {\n",
       "      \"vega\": \"https://cdn.jsdelivr.net/npm/vega@5?noext\",\n",
       "      \"vega-lib\": \"https://cdn.jsdelivr.net/npm/vega-lib?noext\",\n",
       "      \"vega-lite\": \"https://cdn.jsdelivr.net/npm/vega-lite@5.14.1?noext\",\n",
       "      \"vega-embed\": \"https://cdn.jsdelivr.net/npm/vega-embed@6?noext\",\n",
       "    };\n",
       "\n",
       "    function maybeLoadScript(lib, version) {\n",
       "      var key = `${lib.replace(\"-\", \"\")}_version`;\n",
       "      return (VEGA_DEBUG[key] == version) ?\n",
       "        Promise.resolve(paths[lib]) :\n",
       "        new Promise(function(resolve, reject) {\n",
       "          var s = document.createElement('script');\n",
       "          document.getElementsByTagName(\"head\")[0].appendChild(s);\n",
       "          s.async = true;\n",
       "          s.onload = () => {\n",
       "            VEGA_DEBUG[key] = version;\n",
       "            return resolve(paths[lib]);\n",
       "          };\n",
       "          s.onerror = () => reject(`Error loading script: ${paths[lib]}`);\n",
       "          s.src = paths[lib];\n",
       "        });\n",
       "    }\n",
       "\n",
       "    function showError(err) {\n",
       "      outputDiv.innerHTML = `<div class=\"error\" style=\"color:red;\">${err}</div>`;\n",
       "      throw err;\n",
       "    }\n",
       "\n",
       "    function displayChart(vegaEmbed) {\n",
       "      vegaEmbed(outputDiv, spec, embedOpt)\n",
       "        .catch(err => showError(`Javascript Error: ${err.message}<br>This usually means there's a typo in your chart specification. See the javascript console for the full traceback.`));\n",
       "    }\n",
       "\n",
       "    if(typeof define === \"function\" && define.amd) {\n",
       "      requirejs.config({paths});\n",
       "      require([\"vega-embed\"], displayChart, err => showError(`Error loading script: ${err.message}`));\n",
       "    } else {\n",
       "      maybeLoadScript(\"vega\", \"5\")\n",
       "        .then(() => maybeLoadScript(\"vega-lite\", \"5.14.1\"))\n",
       "        .then(() => maybeLoadScript(\"vega-embed\", \"6\"))\n",
       "        .catch(showError)\n",
       "        .then(() => displayChart(vegaEmbed));\n",
       "    }\n",
       "  })({\"config\": {\"view\": {\"continuousWidth\": 300, \"continuousHeight\": 300}}, \"data\": {\"name\": \"data-cd68972b699351a4b585e08c3abb63aa\"}, \"mark\": {\"type\": \"rect\"}, \"encoding\": {\"color\": {\"aggregate\": \"sum\", \"field\": \"test_heat.columns.to_list()\", \"type\": \"quantitative\"}, \"x\": {\"aggregate\": \"sum\", \"field\": \"test_heat.columns.to_list()\", \"type\": \"quantitative\"}, \"y\": {\"field\": \"test_heat.index.to_list()\", \"type\": \"ordinal\"}}, \"$schema\": \"https://vega.github.io/schema/vega-lite/v5.14.1.json\", \"datasets\": {\"data-cd68972b699351a4b585e08c3abb63aa\": [{\"Bungoma\": 17, \"Busia\": 12, \"Homa Bay\": 148, \"Kajiado\": 7, \"Kakamega\": 66, \"Kiambu\": 113, \"Kilifi\": 15, \"Kirinyaga\": 12, \"Kisii\": 28, \"Kisumu\": 126, \"Migori\": 79, \"Mombasa\": 45, \"Murang'a\": 9, \"Nairobi\": 283, \"Nakuru\": 15, \"Narok\": 15, \"Nyeri\": 16, \"Siaya\": 57, \"Taita Taveta\": 25, \"Vihiga\": 10}, {\"Bungoma\": 15, \"Busia\": 12, \"Homa Bay\": 129, \"Kajiado\": 7, \"Kakamega\": 58, \"Kiambu\": 110, \"Kilifi\": 9, \"Kirinyaga\": 18, \"Kisii\": 42, \"Kisumu\": 143, \"Migori\": 113, \"Mombasa\": 38, \"Murang'a\": 6, \"Nairobi\": 339, \"Nakuru\": 7, \"Narok\": 21, \"Nyeri\": 12, \"Siaya\": 46, \"Taita Taveta\": 13, \"Vihiga\": 4}, {\"Bungoma\": 26, \"Busia\": 14, \"Homa Bay\": 149, \"Kajiado\": 6, \"Kakamega\": 64, \"Kiambu\": 103, \"Kilifi\": 12, \"Kirinyaga\": 12, \"Kisii\": 44, \"Kisumu\": 161, \"Migori\": 98, \"Mombasa\": 50, \"Murang'a\": 3, \"Nairobi\": 302, \"Nakuru\": 12, \"Narok\": 25, \"Nyeri\": 15, \"Siaya\": 101, \"Taita Taveta\": 13, \"Vihiga\": 4}, {\"Bungoma\": 13, \"Busia\": 13, \"Homa Bay\": 85, \"Kajiado\": 3, \"Kakamega\": 58, \"Kiambu\": 53, \"Kilifi\": 6, \"Kirinyaga\": 8, \"Kisii\": 34, \"Kisumu\": 98, \"Migori\": 76, \"Mombasa\": 31, \"Murang'a\": 5, \"Nairobi\": 70, \"Nakuru\": 8, \"Narok\": 10, \"Nyeri\": 5, \"Siaya\": 38, \"Taita Taveta\": 11, \"Vihiga\": 2}]}}, {\"mode\": \"vega-lite\"});\n",
       "</script>"
      ],
      "text/plain": [
       "alt.Chart(...)"
      ]
     },
     "execution_count": 137,
     "metadata": {},
     "output_type": "execute_result"
    }
   ],
   "source": [
    "test_heat = ((prepd_data[['county','txnew2023Q1','txnew2023Q2',\n",
    "             'txnew2023Q3','txnew2023Q4']].groupby(\n",
    "                 by=['county'])[['txnew2023Q1',\n",
    "                                 'txnew2023Q2','txnew2023Q3','txnew2023Q4']].sum()).transpose().reset_index().set_index('index'))\n",
    "alt.Chart(test_heat).mark_rect().encode(\n",
    "    x='sum(test_heat.columns.to_list()):Q',\n",
    "    y='test_heat.index.to_list():O',\n",
    "    color='sum(test_heat.columns.to_list()):Q'\n",
    ")"
   ]
  },
  {
   "cell_type": "code",
   "execution_count": 138,
   "id": "1bba90b9",
   "metadata": {},
   "outputs": [
    {
     "data": {
      "text/plain": [
       "<Axes: xlabel='county', ylabel='index'>"
      ]
     },
     "execution_count": 138,
     "metadata": {},
     "output_type": "execute_result"
    },
    {
     "data": {
      "image/png": "[encoded data removed]",
      "text/plain": [
       "<Figure size 2000x500 with 1 Axes>"
      ]
     },
     "metadata": {},
     "output_type": "display_data"
    }
   ],
   "source": [
    "plt.figure(figsize=(20,5))\n",
    "sns.heatmap(test_heat, cmap='viridis',cbar=False) "
   ]
  },
  {
   "cell_type": "code",
   "execution_count": null,
   "id": "69710990",
   "metadata": {},
   "outputs": [],
   "source": []
  }
 ],
 "metadata": {
  "kernelspec": {
   "display_name": "Python 3.11.5 ('gisenv')",
   "language": "python",
   "name": "python3"
  },
  "language_info": {
   "codemirror_mode": {
    "name": "ipython",
    "version": 3
   },
   "file_extension": ".py",
   "mimetype": "text/x-python",
   "name": "python",
   "nbconvert_exporter": "python",
   "pygments_lexer": "ipython3",
   "version": "3.11.5"
  },
  "vscode": {
   "interpreter": {
    "hash": "acb79f9043e5b1c1529c64d2303b516ef5142c2511b32d722fdcb807fd03c767"
   }
  }
 },
 "nbformat": 4,
 "nbformat_minor": 5
}
