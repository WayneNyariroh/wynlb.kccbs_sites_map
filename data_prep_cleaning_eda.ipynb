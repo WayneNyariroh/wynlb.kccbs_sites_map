{
 "cells": [
  {
   "cell_type": "markdown",
   "id": "b36c7e42-6c36-49d0-81b4-46012bb61c2f",
   "metadata": {},
   "source": [
    "## Relevant data is key. Right data types. Necessary columns. No missing data. And any other structural preferences"
   ]
  },
  {
   "cell_type": "markdown",
   "id": "6922d285-6ff9-41cb-a688-47905a71d2fa",
   "metadata": {},
   "source": [
    "### before we do any analysis we have to load and prepare our dataset(s). In this case our desired dataset requires combining variables from more than 2 datasets"
   ]
  },
  {
   "cell_type": "code",
   "execution_count": null,
   "id": "aebbe2af-4a6e-4b59-a99c-a5d0490c849d",
   "metadata": {},
   "outputs": [],
   "source": [
    "#importing data manipulation library\n",
    "import pandas as pd\n",
    "import numpy as np"
   ]
  },
  {
   "cell_type": "code",
   "execution_count": null,
   "id": "237892a2-6d2f-4a6f-aa7f-6335a835f5e6",
   "metadata": {},
   "outputs": [],
   "source": [
    "#loading our data\n",
    "data = 'raw_data/his_master_list_with_coordinates.xlsx'\n",
    "\n",
    "site_data = pd.read_excel(data)\n",
    "\n",
    "#sample 2 records for our new dataframe\n",
    "site_data.sample(2)"
   ]
  },
  {
   "cell_type": "code",
   "execution_count": null,
   "id": "ccd4a022-2070-4336-94fe-792ca5a25e51",
   "metadata": {},
   "outputs": [],
   "source": [
    "#check for duplicate data\n",
    "site_data[site_data.duplicated()]"
   ]
  },
  {
   "cell_type": "code",
   "execution_count": null,
   "id": "06dc5bb4-a1f9-4be6-b9bd-979a871c0ed6",
   "metadata": {},
   "outputs": [],
   "source": [
    "#quick look at the columns to see the relevant ones\n",
    "site_data.columns"
   ]
  },
  {
   "cell_type": "code",
   "execution_count": null,
   "id": "91424f0f-ad40-465a-8829-7dde0e4fb9dc",
   "metadata": {},
   "outputs": [],
   "source": [
    "#removing the columns we do not need from the dataframe\n",
    "site_data = site_data.drop(['CT', 'HTS', 'IL', 'MHealth', 'KP', 'EMR', 'EMRStatus',\n",
    "       'DateOfEmrImplementation', 'ModeOfEMRUse', 'Lab_Manifest', 'MNCH', 'TB',\n",
    "       'OVC', 'OTZ', 'PREP', 'KP.1', 'HIV', 'TPT', 'Covid_19', 'EVMMC',\n",
    "       'HTS_Status', 'HTS_Use', 'HTS_Deployment', 'IL_Status', 'IL_WebADT',\n",
    "       'IL_Mlab', 'IL_Ushauri', 'IL_lab_manifest', 'IL_3_PM', 'IL_AIR',\n",
    "       'IL_nimeconfirm', 'MHealth_Nishauri', 'MHealth_C4C', 'MHealth_Ushauri',\n",
    "       'MHealth_Mlab', 'MHealth_ART_Directory', 'MHealth_Psurvey'], axis=1)"
   ]
  },
  {
   "cell_type": "code",
   "execution_count": null,
   "id": "66a3886a-709c-472c-b33d-bcaa11f9cd51",
   "metadata": {},
   "outputs": [],
   "source": [
    "#since we are only interested in a specific implementing partner\n",
    "site_data['SDP'].unique()"
   ]
  },
  {
   "cell_type": "code",
   "execution_count": null,
   "id": "482944a1-702a-4fca-9906-3f9452a2c6b2",
   "metadata": {},
   "outputs": [],
   "source": [
    "#the implementing sdp to filter\n",
    "partner_filter = 'KCCB ACTS'\n",
    "\n",
    "#@allows us to pass our string variable through the query method. we also use method chaining to do addition manipulations on the resulting data.\n",
    "kccb_sites = site_data.query('SDP == @partner_filter').reset_index().drop(['index'], axis=1)\n",
    "kccb_sites.head(4)"
   ]
  },
  {
   "cell_type": "code",
   "execution_count": null,
   "id": "c5cd2220-aa3d-4d5e-a341-4811c728dbef",
   "metadata": {},
   "outputs": [],
   "source": [
    "#checking for any missing values\n",
    "kccb_sites.isna().value_counts()"
   ]
  },
  {
   "cell_type": "code",
   "execution_count": null,
   "id": "89cd125c-5045-4f77-96b3-0a7232c591b3",
   "metadata": {},
   "outputs": [],
   "source": [
    "#saving our dataframe in a file for future use\n",
    "kccb_sites.to_excel('processed_data/cleaned_kccb_his_master_coordinates.xlsx', index=False)"
   ]
  },
  {
   "cell_type": "markdown",
   "id": "8849f370-2f73-4f70-b5cc-f200cd676223",
   "metadata": {},
   "source": [
    "no data is missing and we can also see we have 105 records equating to __105 facility under kccb-acts sdp__"
   ]
  },
  {
   "cell_type": "markdown",
   "id": "2a628f12-952a-430e-92f2-29bfe0bc685e",
   "metadata": {},
   "source": [
    "### our first dataset is cleaned and now we can do some few EDA on it"
   ]
  },
  {
   "cell_type": "code",
   "execution_count": null,
   "id": "f3499a47-e8de-425a-a435-3b18da4ac68d",
   "metadata": {},
   "outputs": [],
   "source": [
    "#we can also use the value_counts() method to see the owners of the 105 sites\n",
    "kccb_sites.Owner.value_counts()"
   ]
  },
  {
   "cell_type": "markdown",
   "id": "2f6ff468-7fb7-412b-a11d-310c16cf14b6",
   "metadata": {},
   "source": [
    "64 sites belong to *__Kenya Episcopal Conference-Catholic Secretariat__*"
   ]
  },
  {
   "cell_type": "markdown",
   "id": "5a029623-f864-43b0-9e97-e33fa400dd33",
   "metadata": {},
   "source": [
    "### some quick visualization test"
   ]
  },
  {
   "cell_type": "code",
   "execution_count": null,
   "id": "7e801f3b-bb5e-4c29-9581-7db860620620",
   "metadata": {
    "tags": []
   },
   "outputs": [],
   "source": [
    "import matplotlib.pyplot as plt"
   ]
  },
  {
   "cell_type": "code",
   "execution_count": null,
   "id": "fc34aa4c-e23a-44f2-9462-4f93b4445782",
   "metadata": {},
   "outputs": [],
   "source": [
    "print(f'KCCB ACTS supports facilities in {kccb_sites.County.nunique()} counties')"
   ]
  },
  {
   "cell_type": "code",
   "execution_count": null,
   "id": "f37578d8-683f-4c7b-9e50-5cddefad0ef4",
   "metadata": {},
   "outputs": [],
   "source": [
    "csites = kccb_sites.County.value_counts().reset_index()\n",
    "csites.columns = ('county','Supported_Sites')\n",
    "#csites.set_index('county')\n",
    "#for index,county in csites.county.items():\n",
    "#    print(str(county));\n",
    "#basis on our plot; type and size\n",
    "csites.plot.bar(figsize=(20,5))\n",
    "\n",
    "#labels of plot axes using the import plt for matplotlib.pyplot\n",
    "plt.xlabel('County')\n",
    "plt.ylabel('No. of Supported Sites')\n",
    "plt.title('Total Sites Supported by KCCB-ACTS as at August 2023', fontsize=13)\n",
    "\n",
    "#for the xticks to show county names\n",
    "plt.xticks(csites.index, labels=csites.county)\n",
    "\n",
    "#plt.axis(\"off\") #removes the borders and whitespace\n",
    "\n",
    "#annotate values above bars based on index\n",
    "for county, counts in csites.Supported_Sites.items():\n",
    "    plt.text(county, counts+0.22, str(counts), fontsize=10, horizontalalignment='center');"
   ]
  },
  {
   "cell_type": "markdown",
   "id": "d141df27-6a8d-4f86-a9ce-dabf46e2ac79",
   "metadata": {},
   "source": [
    "### adding more variables to our data by merging with another dataset"
   ]
  },
  {
   "cell_type": "code",
   "execution_count": null,
   "id": "f70cfd63-4714-4b98-89e6-a728fcd3f6cc",
   "metadata": {},
   "outputs": [],
   "source": [
    "#loading dataset with the tx current data for the quarters\n",
    "txdata = 'raw_data/kccbtxcurrdata.xlsx'\n",
    "\n",
    "kccbtxdata = pd.read_excel(txdata, usecols={'mfl',\n",
    "                                            'facility_name', 'txnew2023Q1','txnew2023Q2',\n",
    "                                            'txnew2023Q3','txnew2023Q4',\n",
    "                                            '2023Q1','2023Q2','2023Q3','2023Q4'}\n",
    "                          ).sort_values(by='mfl',\n",
    "                                        ascending=True)\n",
    "kccbtxdata.tail(5)"
   ]
  },
  {
   "cell_type": "code",
   "execution_count": null,
   "id": "1556eaf9-b9a1-48ec-aa83-03b2a5961d8b",
   "metadata": {},
   "outputs": [],
   "source": [
    "#to check on our dtypes\n",
    "kccbtxdata.info()"
   ]
  },
  {
   "cell_type": "code",
   "execution_count": null,
   "id": "c62332b9-248d-401c-be2c-900696a55eba",
   "metadata": {},
   "outputs": [],
   "source": [
    "#show the last 5 records\n",
    "kccb_sites.tail(5)"
   ]
  },
  {
   "cell_type": "code",
   "execution_count": null,
   "id": "c7997398-ffbb-4833-b71f-de447ff00157",
   "metadata": {},
   "outputs": [],
   "source": [
    "#check for duplicate records\n",
    "kccbtxdata[kccbtxdata.duplicated()]"
   ]
  },
  {
   "cell_type": "code",
   "execution_count": null,
   "id": "013f1c29-a4d0-46f5-868b-686db636441a",
   "metadata": {},
   "outputs": [],
   "source": [
    "#check for missing values\n",
    "kccbtxdata.isna().value_counts()"
   ]
  },
  {
   "cell_type": "code",
   "execution_count": null,
   "id": "74bef122-dbe1-4d59-bca1-da9927cd155a",
   "metadata": {},
   "outputs": [],
   "source": [
    "#renaming the mfl column in the second df\n",
    "kccbtxdata.rename(columns={'mfl':'mfl_code'}, inplace=True)\n",
    "\n",
    "#merging the two dataframe where mfl_code is same\n",
    "#and saving the resulting dataframe as a new dataframe to merge with the next dataset. use to_excel('dir/filename') to save it\n",
    "tx_coords = (pd.\n",
    " merge(kccbtxdata, kccb_sites,\n",
    "      on=['mfl_code'],\n",
    "      how='left'))"
   ]
  },
  {
   "cell_type": "markdown",
   "id": "8b5b85ad-6284-4ac5-92be-dc9b1da420ec",
   "metadata": {},
   "source": [
    "### adding a dataset with 'region' variable for the sites"
   ]
  },
  {
   "cell_type": "code",
   "execution_count": null,
   "id": "cfbecabd-bb1c-46ba-8944-8bf8f3d0470f",
   "metadata": {},
   "outputs": [],
   "source": [
    "#add regions\n",
    "siteregions = 'raw_data/regiondata.csv'\n",
    "\n",
    "region_data = pd.read_csv(siteregions, usecols=('Facility',\n",
    "                                             'MFL Code',\n",
    "                                             'Region'))\n",
    "\n",
    "columns=('facility_name',\n",
    "         'mfl_code',\n",
    "         'region')\n",
    "\n",
    "region_data.columns = columns\n",
    "\n",
    "region_data.sample(1)"
   ]
  },
  {
   "cell_type": "code",
   "execution_count": null,
   "id": "41d70117-892b-4ee2-9537-43f561941afb",
   "metadata": {},
   "outputs": [],
   "source": [
    "region_data.shape"
   ]
  },
  {
   "cell_type": "code",
   "execution_count": null,
   "id": "20cfc89d-db93-4933-b809-14a296453ba4",
   "metadata": {},
   "outputs": [],
   "source": [
    "#dataset only contains 57 sites, while our kccb_sites dataframe has 105 sites. \n",
    "#a quick check on null values in a merge of the two shows this\n",
    "kccbsites_df = (pd.\n",
    " merge(tx_coords, region_data,\n",
    "      on=['mfl_code'],\n",
    "      how='left'))\n",
    "\n",
    "#.fillna(value='Nairobi')\n",
    "#.isnull().value_counts()"
   ]
  },
  {
   "cell_type": "code",
   "execution_count": null,
   "id": "e4faee2c-3300-4ff0-a4f8-cf9bccb5dbd7",
   "metadata": {},
   "outputs": [],
   "source": [
    "kccbsites_df.sample(3)"
   ]
  },
  {
   "cell_type": "code",
   "execution_count": null,
   "id": "fea1d934-d609-4949-b7e1-afcf662b176e",
   "metadata": {},
   "outputs": [],
   "source": [
    "kccbsites_df.region.unique()"
   ]
  },
  {
   "cell_type": "code",
   "execution_count": null,
   "id": "6bc96506-8b9f-4fb3-9d3a-06125d1a91d3",
   "metadata": {
    "tags": []
   },
   "outputs": [],
   "source": [
    "#changing region from nan to the appropriate value for the facilities in the newer counties\n",
    "#kccbsites_df[kccbsites_df.County.str.contains(\"Nairobi|Narok|Nyeri|Kirinyaga|Murang'a|Kiambu|Nakuru|Kajiado\")].assign(region = \"Nairobi\") #worked but didnt change in place\n"
   ]
  },
  {
   "cell_type": "code",
   "execution_count": null,
   "id": "940b6203-4c1b-479f-9db8-d1b6afaf7239",
   "metadata": {},
   "outputs": [],
   "source": [
    "#rows containing the specific string as a filter\n",
    "nairobi_region = kccbsites_df.County.str.contains(\"Nairobi|Narok|Nyeri|Kirinyaga|Murang'a|Kiambu|Nakuru|Kajiado\")\n",
    "mombasa_region = kccbsites_df.County.str.contains(\"Taita Taveta|Mombasa|Kilifi\")\n",
    "\n",
    "#use loc to take our filters in to fill in the nan values in regions\n",
    "kccbsites_df.loc[nairobi_region, 'region'] = kccbsites_df.loc[nairobi_region, 'region'].fillna(value='Nairobi')\n",
    "kccbsites_df.loc[mombasa_region, 'region'] = kccbsites_df.loc[mombasa_region, 'region'].fillna(value='Mombasa')"
   ]
  },
  {
   "cell_type": "code",
   "execution_count": null,
   "id": "9d5e5b70-43e6-4c5c-b03c-2b2b9428003c",
   "metadata": {},
   "outputs": [],
   "source": [
    "kccbsites_df.shape"
   ]
  },
  {
   "cell_type": "code",
   "execution_count": null,
   "id": "d0deddc0-872f-4d04-a192-f7c9a909ad40",
   "metadata": {},
   "outputs": [],
   "source": [
    "kccbsites_df.sample(2)"
   ]
  },
  {
   "cell_type": "code",
   "execution_count": null,
   "id": "7b2964b1-b1db-4e56-84a8-fb78a560f7e2",
   "metadata": {},
   "outputs": [],
   "source": [
    "#check for any missing values\n",
    "kccbsites_df.region.isna().value_counts()"
   ]
  },
  {
   "cell_type": "code",
   "execution_count": null,
   "id": "f4aeb242-51a2-41cd-bd72-08038115daab",
   "metadata": {},
   "outputs": [],
   "source": [
    "#our columns and their respective data types\n",
    "kccbsites_df.dtypes"
   ]
  },
  {
   "cell_type": "code",
   "execution_count": null,
   "id": "b31057b5-d44d-4604-ad3f-bc000f6f871b",
   "metadata": {},
   "outputs": [],
   "source": [
    "#mfl_code to str since no mathematical operations should be done on it\n",
    "kccbsites_df.mfl_code = kccbsites_df.mfl_code.apply(str)"
   ]
  },
  {
   "cell_type": "code",
   "execution_count": null,
   "id": "0b13ec49-c2c6-4917-a533-6e8a31c86f6a",
   "metadata": {},
   "outputs": [],
   "source": [
    "kccbsites_df = kccbsites_df.drop(['FacilityName','facility_name_y'], axis=1)"
   ]
  },
  {
   "cell_type": "code",
   "execution_count": null,
   "id": "d619c9c2-05fb-483d-b413-241af6c9627a",
   "metadata": {},
   "outputs": [],
   "source": [
    "#checking to see if our assigning of region is correct\n",
    "filter = 'Nairobi'\n",
    "\n",
    "(kccbsites_df\n",
    " .query('region==@filter')['County'].unique())"
   ]
  },
  {
   "cell_type": "code",
   "execution_count": null,
   "id": "9f1ef910-1a62-4beb-a08d-7472af13710d",
   "metadata": {},
   "outputs": [],
   "source": [
    "kccbsites_df.rename(columns={'facility_name_x':'facility_name',\n",
    "                        'County':'county',\n",
    "                        'SubCounty':'sub_county',\n",
    "                        'Owner':'owner'}, inplace=True)"
   ]
  },
  {
   "cell_type": "markdown",
   "id": "5587e2d8-8939-4746-8049-36b8f8912f3b",
   "metadata": {},
   "source": [
    "# our final dataframe"
   ]
  },
  {
   "cell_type": "code",
   "execution_count": null,
   "id": "70a65f45",
   "metadata": {},
   "outputs": [],
   "source": [
    "#isolate the relevant columns only\n",
    "#save to excel file\n",
    "prepd_data = (kccbsites_df[['mfl_code', 'facility_name', 'region',\n",
    "       'county', 'sub_county', 'owner', 'lat', 'lon', 'txnew2023Q1', 'txnew2023Q2',\n",
    "       'txnew2023Q3', 'txnew2023Q4', '2023Q1', '2023Q2', '2023Q3', '2023Q4']])\n",
    "\n",
    "\n",
    "prepd_data.to_excel('processed_data/cleaned_data.xlsx', index=False)"
   ]
  },
  {
   "cell_type": "code",
   "execution_count": null,
   "id": "2b9ed4bc-5faf-40d6-8689-9f663b143352",
   "metadata": {},
   "outputs": [],
   "source": [
    "#prepd_data.memory_usage(deep=True).sum()"
   ]
  },
  {
   "cell_type": "code",
   "execution_count": null,
   "id": "89d32097-1e31-4876-a525-b3fb38b73a28",
   "metadata": {},
   "outputs": [],
   "source": [
    "#some light feature engineering, using np.sum and assign to make a new column to sums the columns of txnew for the quarter\n",
    "#axis=0 would sum the rows\n",
    "prepd_data.assign(txnew_total = np.sum(prepd_data[['txnew2023Q1', 'txnew2023Q2','txnew2023Q3', 'txnew2023Q4']], axis=1))"
   ]
  },
  {
   "cell_type": "code",
   "execution_count": null,
   "id": "19d0d40a-add4-4140-b48e-ca81d98313c4",
   "metadata": {},
   "outputs": [],
   "source": [
    "print(f\"Tx New Total for the sites by 2023Q4 is: {np.sum(prepd_data[['txnew2023Q1', 'txnew2023Q2','txnew2023Q3', 'txnew2023Q4']], axis=1).sum()}\")"
   ]
  },
  {
   "cell_type": "code",
   "execution_count": null,
   "id": "0d49f649-26f4-435b-acc2-bf9d986c7472",
   "metadata": {},
   "outputs": [],
   "source": [
    "#txq4 total by region\n",
    "prepd_data.groupby(by=['region'])['2023Q4'].sum().reset_index().plot.barh()"
   ]
  },
  {
   "cell_type": "code",
   "execution_count": null,
   "id": "d7d9679c-dcf6-4876-b10b-93c646edbb07",
   "metadata": {},
   "outputs": [],
   "source": [
    "prepd_data[['region','2023Q4']].plot.scatter(x='region', y='2023Q4',figsize=(4,10))\n",
    "plt.title(\"TX current distribution across Counties\")\n",
    "plt.xticks(rotation=90)"
   ]
  },
  {
   "cell_type": "code",
   "execution_count": null,
   "id": "ae0d8b07-2119-4c85-b073-8f2b44c96c30",
   "metadata": {},
   "outputs": [],
   "source": [
    "prepd_data['2023Q4'].nlargest(10)"
   ]
  },
  {
   "cell_type": "markdown",
   "id": "9abda493-4476-436c-af37-747c754dac30",
   "metadata": {
    "jupyter": {
     "source_hidden": true
    },
    "tags": []
   },
   "source": [
    "#### our streamlit app will mainly be using altair charts"
   ]
  },
  {
   "cell_type": "code",
   "execution_count": null,
   "id": "fbc2a1a3-495e-4cb1-9e78-8793e4c3d313",
   "metadata": {},
   "outputs": [],
   "source": [
    "import altair as alt"
   ]
  },
  {
   "cell_type": "code",
   "execution_count": null,
   "id": "bbcb65f4-aa3a-4c68-a692-e2fcd3c1dfca",
   "metadata": {},
   "outputs": [],
   "source": [
    "#the general flow of an altair chart\n",
    "source = pd.DataFrame({\n",
    "    \"a\": [\"A\", \"B\", \"C\"],\n",
    "    \"b\": [28, 55, 43]\n",
    "})\n",
    "\n",
    "bar = alt.Chart(source).mark_bar().encode(\n",
    "    y=\"a:N\",\n",
    "    x=alt.X(\"b:Q\").scale(domain=[0, 60])\n",
    ")\n",
    "text = bar.mark_text(\n",
    "    align=\"left\",\n",
    "    baseline=\"middle\",\n",
    "    dx=3\n",
    ").encode(text=\"b\")\n",
    "\n",
    "bar + text"
   ]
  },
  {
   "cell_type": "code",
   "execution_count": null,
   "id": "9ce1f660-608a-4f33-bb8d-264394ed37ce",
   "metadata": {},
   "outputs": [],
   "source": [
    "#with our data \n",
    "data = prepd_data.groupby(by=['region'])['2023Q4'].sum().reset_index()\n",
    "\n",
    "bar = alt.Chart(data).mark_bar().encode(\n",
    "    y=\"region:N\",\n",
    "    x=alt.X(\"2023Q4:Q\"))\n",
    "\n",
    "text = bar.mark_text(\n",
    "    align=\"left\",\n",
    "    baseline=\"middle\",\n",
    "    dx=3\n",
    ").encode(text=\"2023Q4\")\n",
    "\n",
    "bar + text"
   ]
  },
  {
   "cell_type": "code",
   "execution_count": null,
   "id": "9ce1f660-608a-4f33-bb8d-264394ed37ce",
   "metadata": {},
   "outputs": [],
   "source": [
    "#with our data \n",
    "\n",
    "sitescount = kccb_sites.County.value_counts().reset_index()\n",
    "\n",
    "\n",
    "bar = alt.Chart(sitescount).mark_bar().encode(\n",
    "    y=alt.Y(\"County:N\").title(\"\").axis(labels=False),\n",
    "    x=alt.X(\"count:Q\").title(\"\").axis(labels=False),\n",
    "    color=alt.Color(\"County\").scale(scheme=\"category20c\"))\n",
    "\n",
    "bar.configure_legend(\n",
    "         padding=6,\n",
    "         orient='bottom')\n",
    "\n",
    "text = bar.mark_text(\n",
    "    align=\"left\",\n",
    "    baseline=\"middle\",\n",
    "    dx=3\n",
    ").encode(text=\"count\")\n",
    "\n",
    "bar + text"
   ]
  },
  {
   "cell_type": "code",
   "execution_count": null,
   "id": "9fbc0c4e",
   "metadata": {
    "tags": []
   },
   "outputs": [],
   "source": [
    "quarter_tx = prepd_data.groupby(by=['region'])[['2023Q1','2023Q2','2023Q3','2023Q4']].sum().reset_index()\n"
   ]
  },
  {
   "cell_type": "code",
   "execution_count": null,
   "id": "949c9b3a",
   "metadata": {},
   "outputs": [],
   "source": [
    "quarter_tx.transpose().loc['2023Q1'].plot.bar()"
   ]
  },
  {
   "cell_type": "code",
   "execution_count": null,
   "id": "76138214",
   "metadata": {},
   "outputs": [],
   "source": [
    "base = alt.Chart(data).mark_arc(innerRadius=50).encode(\n",
    "    theta=alt.Theta(field=\"2023Q4\", type=\"quantitative\"),\n",
    "    color=alt.Color(field=\"region\", type=\"nominal\"),\n",
    ")\n",
    "\n",
    "pie = base.mark_arc(outerRadius=150)\n",
    "text = base.mark_text(radius=170, size=12).encode(\n",
    "    text=\"2023Q4:N\"\n",
    ")\n",
    "\n",
    "base + text"
   ]
  },
  {
   "cell_type": "code",
   "execution_count": null,
   "id": "ab66800f-8d46-495f-9ad2-f90b8ef4efa2",
   "metadata": {},
   "outputs": [],
   "source": [
    "prepd_data['2023Q4'].sum().dtype"
   ]
  },
  {
   "cell_type": "code",
   "execution_count": null,
   "id": "be1062be",
   "metadata": {},
   "outputs": [],
   "source": [
    "prepd_data.columns"
   ]
  },
  {
   "cell_type": "code",
   "execution_count": null,
   "id": "09ecc631",
   "metadata": {},
   "outputs": [],
   "source": [
    "\n",
    "source = (prepd_data.groupby(\n",
    "         by=['county'])[['txnew2023Q1','txnew2023Q2','txnew2023Q3','txnew2023Q4']]\n",
    "                  .sum())\n",
    "\n",
    "alt.Chart(source).mark_rect().encode(\n",
    "    alt.X(\"txnew2023Q4:Q\").axis(labelAngle=0).title(\"\"),\n",
    "    alt.Y(\"county:O\").title(\"Q4\"),\n",
    "    alt.Color(\"max(txnew2023Q4):Q\").title(\"\"),\n",
    ")"
   ]
  },
  {
   "cell_type": "code",
   "execution_count": null,
   "id": "9fe82673",
   "metadata": {},
   "outputs": [],
   "source": [
    "(prepd_data['2023Q3'] - prepd_data['2023Q2']).sum()"
   ]
  },
  {
   "cell_type": "code",
   "execution_count": null,
   "id": "f7943953",
   "metadata": {},
   "outputs": [],
   "source": [
    "(prepd_data.groupby(\n",
    "         by=['county'])[['txnew2023Q1','txnew2023Q2','txnew2023Q3','txnew2023Q4']]\n",
    "                  .sum()\n",
    "                  .reset_index())\n"
   ]
  },
  {
   "cell_type": "code",
   "execution_count": null,
   "id": "c36eaef6",
   "metadata": {},
   "outputs": [],
   "source": [
    "((prepd_data['txnew2023Q4']) - (prepd_data['txnew2023Q3'])).abs().sum()"
   ]
  },
  {
   "cell_type": "code",
   "execution_count": null,
   "id": "9838cff6",
   "metadata": {},
   "outputs": [],
   "source": [
    "prepd_data[['txnew2023Q1','txnew2023Q2','txnew2023Q3','txnew2023Q4']].sum()"
   ]
  },
  {
   "cell_type": "code",
   "execution_count": null,
   "id": "f393bedb",
   "metadata": {},
   "outputs": [],
   "source": [
    "(prepd_data.groupby(\n",
    "         by=['region'])[['txnew2023Q1','txnew2023Q2','txnew2023Q3','txnew2023Q4']]\n",
    "                  .sum()\n",
    "                  .reset_index().transpose()).style.highlight_max()#.set_index(['txnew2023Q1','txnew2023Q2','txnew2023Q3','txnew2023Q4'])\n"
   ]
  },
  {
   "cell_type": "code",
   "execution_count": null,
   "id": "5e1a10ab",
   "metadata": {},
   "outputs": [],
   "source": [
    "import seaborn as sns"
   ]
  },
  {
   "cell_type": "code",
   "execution_count": null,
   "id": "af17fc29",
   "metadata": {},
   "outputs": [],
   "source": [
    "sns.heatmap(prepd_data.groupby(by=['facility_name'])[['txnew2023Q1','txnew2023Q2','txnew2023Q3','txnew2023Q4']].sum())"
   ]
  },
  {
   "cell_type": "code",
   "execution_count": null,
   "id": "dd2041c5",
   "metadata": {},
   "outputs": [],
   "source": [
    "import streamlit as st"
   ]
  },
  {
   "cell_type": "code",
   "execution_count": null,
   "id": "1d4371d0",
   "metadata": {},
   "outputs": [],
   "source": [
    "st.altair_chart(prepd_data.groupby(by=['region'])[['txnew2023Q1','txnew2023Q2','txnew2023Q3','txnew2023Q4']].sum().T)"
   ]
  },
  {
   "cell_type": "markdown",
   "id": "d8e9a794",
   "metadata": {},
   "source": [
    "seems i need a new dataset, showing county tested and new tx"
   ]
  },
  {
   "cell_type": "code",
   "execution_count": null,
   "id": "1ac757fe",
   "metadata": {},
   "outputs": [],
   "source": [
    "tested_data = 'raw_data/tested_totals.xlsx'\n",
    "tested_df = pd.read_excel(tested_data)"
   ]
  },
  {
   "cell_type": "code",
   "execution_count": null,
   "id": "140a683f",
   "metadata": {},
   "outputs": [],
   "source": [
    "test_yield = alt.Chart((prepd_data.groupby(by=['county'])[['txnew2023Q4']].sum()).merge(tested_df,\n",
    "                                                                 on=['county'],\n",
    "                                                                 how='outer').set_index('county').reset_index()).mark_line().encode(\n",
    "        x= alt.X(\"county:N\"),\n",
    "        y= alt.Y(\"number_tested:Q\")).properties(\n",
    "    height=500,\n",
    "    width=1000)\n",
    "                                                                 \n",
    "txnewq = alt.Chart((prepd_data.groupby(by=['county'])[['txnew2023Q4']].sum()).merge(tested_df,\n",
    "                                                                 on=['county'],\n",
    "                                                                 how='outer').set_index('county').reset_index()).mark_area().encode(\n",
    "        x= alt.X(\"county:N\"),\n",
    "        y= alt.Y(\"txnew2023Q4\")).properties(\n",
    "    height=500,\n",
    "    width=1000)\n",
    "\n",
    "txnewq + test_yield"
   ]
  },
  {
   "cell_type": "code",
   "execution_count": null,
   "id": "34f54bb0",
   "metadata": {},
   "outputs": [],
   "source": [
    "test = (prepd_data.groupby(by=['county'])[['txnew2023Q4']].sum()).merge(tested_df,\n",
    "                                                                 on=['county'],\n",
    "                                                                 how='outer').set_index(\"county\").transpose()\n"
   ]
  },
  {
   "cell_type": "code",
   "execution_count": null,
   "id": "1e6ea26a",
   "metadata": {},
   "outputs": [],
   "source": [
    "test.set_index()"
   ]
  },
  {
   "cell_type": "code",
   "execution_count": null,
   "id": "dc36aa49",
   "metadata": {},
   "outputs": [],
   "source": []
  }
 ],
 "metadata": {
  "kernelspec": {
   "display_name": "Python 3.11.5 ('gisenv')",
   "language": "python",
   "name": "python3"
  },
  "language_info": {
   "codemirror_mode": {
    "name": "ipython",
    "version": 3
   },
   "file_extension": ".py",
   "mimetype": "text/x-python",
   "name": "python",
   "nbconvert_exporter": "python",
   "pygments_lexer": "ipython3",
   "version": "3.11.5"
  },
  "vscode": {
   "interpreter": {
    "hash": "acb79f9043e5b1c1529c64d2303b516ef5142c2511b32d722fdcb807fd03c767"
   }
  }
 },
 "nbformat": 4,
 "nbformat_minor": 5
}
